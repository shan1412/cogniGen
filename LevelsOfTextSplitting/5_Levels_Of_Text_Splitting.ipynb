{
 "cells": [
  {
   "cell_type": "markdown",
   "id": "a9663ad9-217c-46d3-befc-8ccabeba890b",
   "metadata": {},
   "source": [
    "# 5 Levels Of Text Splitting\n",
    "\n",
    "In this tutorial we are reviewing the 5 Levels Of Text Splitting. This is an unofficial list put together for fun and educational purposes.\n",
    "\n",
    "Ever try to put a long piece of text into ChatGPT but it tells you it’s too long? Or you're trying to give your application better long term memory, but it’s still just not quite working.\n",
    "\n",
    "One of the most effective strategies to improve performance of your language model applications is to split your large data into smaller pieces. This is call splitting or chunking (we'll use these terms interchangeably). In the world of multi-modal, splitting also applies to images.\n",
    "\n",
    "We are going to cover a lot, but if you make it to the end, I guarantee you’ll have a solid grasp on chunking theory, strategies, and resources to learn more.\n",
    "\n",
    "**Levels Of Text Splitting**\n",
    "* **Level 1: [Character Splitting](#CharacterSplitting)** - Simple static character chunks of data\n",
    "* **Level 2: [Recursive Character Text Splitting](#RecursiveCharacterSplitting)** - Recursive chunking based on a list of separators\n",
    "* **Level 3: [Document Specific Splitting](#DocumentSpecific)** - Various chunking methods for different document types (PDF, Python, Markdown)\n",
    "* **Level 4: [Semantic Splitting](#SemanticChunking)** - Embedding walk based chunking\n",
    "* **Level 5: [Agentic Splitting](#AgenticChunking)** - Experimental method of splitting text with an agent-like system. Good for if you believe that token cost will trend to $0.00\n",
    "* **\\*Bonus Level:\\*** **[Alternative Representation Chunking + Indexing](#BonusLevel)** - Derivative representations of your raw text that will aid in retrieval and indexing\n",
    "\n",
    "**Notebook resources:**\n",
    "* [Video Overview]() - Walkthrough of this code with commentary\n",
    "* [ChunkViz.com](https://www.chunkviz.com/) - Visual representation of chunk splitting methods\n",
    "* [RAGAS](https://github.com/explodinggradients/ragas) - Retrieval evaluation framework\n",
    "\n",
    "This tutorial was created with ❤️ by [Greg Kamradt](https://twitter.com/GregKamradt). MIT license, attribution is always welcome.\n",
    "\n",
    "This tutorial will use code from LangChain (`pip install langchain`) & Llama Index (`pip install llama-index`)\n",
    "\n",
    "**Evaluations**\n",
    "\n",
    "It's important to test your chunking strategies in retrieval evals. It doesn't matter how you chunk if the performance of your application isn't great.\n",
    "\n",
    "Eval Frameworks:\n",
    "\n",
    "* [LangChain Evals](https://python.langchain.com/docs/guides/evaluation/)\n",
    "* [Llama Index Evals](https://docs.llamaindex.ai/en/stable/module_guides/evaluating/root.html)\n",
    "* [RAGAS Evals](https://github.com/explodinggradients/ragas)\n",
    "\n",
    "I'm not going to demo evals for each method because success is domain specific. The arbitrary eval that I pick may not be suitable for your data. If anyone is interested in collaborating on a rigorous evaluation of different chunking strategies, please reach out (contact@dataindependent.com).\n",
    "\n",
    "If you only walk away from this tutorial with one thing have it be the **The Chunking Commandment**\n",
    "\n",
    "**The Chunking Commandment:** Your goal is not to chunk for chunking sake, our goal is to get our data in a format where it can be retrieved for value later.\n",
    "\n",
    "## Level 1: Character Splitting <a id=\"CharacterSplitting\"></a>\n",
    "Character splitting is the most basic form of splitting up your text. It is the process of simply dividing your text into N-character sized chunks regardless of their content or form.\n",
    "\n",
    "This method isn't recommended for any applications - but it's a great starting point for us to understand the basics.\n",
    "\n",
    "* **Pros:** Easy & Simple\n",
    "* **Cons:** Very rigid and doesn't take into account the structure of your text\n",
    "\n",
    "Concepts to know:\n",
    "* **Chunk Size** - The number of characters you would like in your chunks. 50, 100, 100,000, etc.\n",
    "* **Chunk Overlap** - The amount you would like your sequential chunks to overlap. This is to try to avoid cutting a single piece of context into multiple pieces. This will create duplicate data across chunks.\n",
    "\n",
    "First let's get some sample text"
   ]
  },
  {
   "cell_type": "code",
   "execution_count": 2,
   "id": "b4aea585",
   "metadata": {},
   "outputs": [
    {
     "name": "stdout",
     "output_type": "stream",
     "text": [
      "Requirement already satisfied: langchain-community in c:\\users\\sampath.emandi\\appdata\\local\\anaconda3\\envs\\llms\\lib\\site-packages (0.2.7)\n",
      "Requirement already satisfied: PyYAML>=5.3 in c:\\users\\sampath.emandi\\appdata\\local\\anaconda3\\envs\\llms\\lib\\site-packages (from langchain-community) (6.0.1)\n",
      "Requirement already satisfied: SQLAlchemy<3,>=1.4 in c:\\users\\sampath.emandi\\appdata\\local\\anaconda3\\envs\\llms\\lib\\site-packages (from langchain-community) (2.0.31)\n",
      "Requirement already satisfied: aiohttp<4.0.0,>=3.8.3 in c:\\users\\sampath.emandi\\appdata\\local\\anaconda3\\envs\\llms\\lib\\site-packages (from langchain-community) (3.9.5)\n",
      "Requirement already satisfied: dataclasses-json<0.7,>=0.5.7 in c:\\users\\sampath.emandi\\appdata\\local\\anaconda3\\envs\\llms\\lib\\site-packages (from langchain-community) (0.6.7)\n",
      "Requirement already satisfied: langchain<0.3.0,>=0.2.7 in c:\\users\\sampath.emandi\\appdata\\local\\anaconda3\\envs\\llms\\lib\\site-packages (from langchain-community) (0.2.8)\n",
      "Requirement already satisfied: langchain-core<0.3.0,>=0.2.12 in c:\\users\\sampath.emandi\\appdata\\local\\anaconda3\\envs\\llms\\lib\\site-packages (from langchain-community) (0.2.20)\n",
      "Requirement already satisfied: langsmith<0.2.0,>=0.1.0 in c:\\users\\sampath.emandi\\appdata\\local\\anaconda3\\envs\\llms\\lib\\site-packages (from langchain-community) (0.1.88)\n",
      "Requirement already satisfied: numpy<2.0.0,>=1.26.0 in c:\\users\\sampath.emandi\\appdata\\local\\anaconda3\\envs\\llms\\lib\\site-packages (from langchain-community) (1.26.4)\n",
      "Requirement already satisfied: requests<3,>=2 in c:\\users\\sampath.emandi\\appdata\\local\\anaconda3\\envs\\llms\\lib\\site-packages (from langchain-community) (2.32.3)\n",
      "Requirement already satisfied: tenacity!=8.4.0,<9.0.0,>=8.1.0 in c:\\users\\sampath.emandi\\appdata\\local\\anaconda3\\envs\\llms\\lib\\site-packages (from langchain-community) (8.5.0)\n",
      "Requirement already satisfied: aiosignal>=1.1.2 in c:\\users\\sampath.emandi\\appdata\\local\\anaconda3\\envs\\llms\\lib\\site-packages (from aiohttp<4.0.0,>=3.8.3->langchain-community) (1.3.1)\n",
      "Requirement already satisfied: attrs>=17.3.0 in c:\\users\\sampath.emandi\\appdata\\local\\anaconda3\\envs\\llms\\lib\\site-packages (from aiohttp<4.0.0,>=3.8.3->langchain-community) (23.2.0)\n",
      "Requirement already satisfied: frozenlist>=1.1.1 in c:\\users\\sampath.emandi\\appdata\\local\\anaconda3\\envs\\llms\\lib\\site-packages (from aiohttp<4.0.0,>=3.8.3->langchain-community) (1.4.1)\n",
      "Requirement already satisfied: multidict<7.0,>=4.5 in c:\\users\\sampath.emandi\\appdata\\local\\anaconda3\\envs\\llms\\lib\\site-packages (from aiohttp<4.0.0,>=3.8.3->langchain-community) (6.0.5)\n",
      "Requirement already satisfied: yarl<2.0,>=1.0 in c:\\users\\sampath.emandi\\appdata\\local\\anaconda3\\envs\\llms\\lib\\site-packages (from aiohttp<4.0.0,>=3.8.3->langchain-community) (1.9.4)\n",
      "Requirement already satisfied: marshmallow<4.0.0,>=3.18.0 in c:\\users\\sampath.emandi\\appdata\\local\\anaconda3\\envs\\llms\\lib\\site-packages (from dataclasses-json<0.7,>=0.5.7->langchain-community) (3.21.3)\n",
      "Requirement already satisfied: typing-inspect<1,>=0.4.0 in c:\\users\\sampath.emandi\\appdata\\local\\anaconda3\\envs\\llms\\lib\\site-packages (from dataclasses-json<0.7,>=0.5.7->langchain-community) (0.9.0)\n",
      "Requirement already satisfied: langchain-text-splitters<0.3.0,>=0.2.0 in c:\\users\\sampath.emandi\\appdata\\local\\anaconda3\\envs\\llms\\lib\\site-packages (from langchain<0.3.0,>=0.2.7->langchain-community) (0.2.2)\n",
      "Requirement already satisfied: pydantic<3,>=1 in c:\\users\\sampath.emandi\\appdata\\local\\anaconda3\\envs\\llms\\lib\\site-packages (from langchain<0.3.0,>=0.2.7->langchain-community) (2.8.2)\n",
      "Requirement already satisfied: jsonpatch<2.0,>=1.33 in c:\\users\\sampath.emandi\\appdata\\local\\anaconda3\\envs\\llms\\lib\\site-packages (from langchain-core<0.3.0,>=0.2.12->langchain-community) (1.33)\n",
      "Requirement already satisfied: packaging<25,>=23.2 in c:\\users\\sampath.emandi\\appdata\\local\\anaconda3\\envs\\llms\\lib\\site-packages (from langchain-core<0.3.0,>=0.2.12->langchain-community) (24.1)\n",
      "Requirement already satisfied: orjson<4.0.0,>=3.9.14 in c:\\users\\sampath.emandi\\appdata\\local\\anaconda3\\envs\\llms\\lib\\site-packages (from langsmith<0.2.0,>=0.1.0->langchain-community) (3.10.6)\n",
      "Requirement already satisfied: charset-normalizer<4,>=2 in c:\\users\\sampath.emandi\\appdata\\local\\anaconda3\\envs\\llms\\lib\\site-packages (from requests<3,>=2->langchain-community) (3.3.2)\n",
      "Requirement already satisfied: idna<4,>=2.5 in c:\\users\\sampath.emandi\\appdata\\local\\anaconda3\\envs\\llms\\lib\\site-packages (from requests<3,>=2->langchain-community) (3.7)\n",
      "Requirement already satisfied: urllib3<3,>=1.21.1 in c:\\users\\sampath.emandi\\appdata\\local\\anaconda3\\envs\\llms\\lib\\site-packages (from requests<3,>=2->langchain-community) (2.2.2)\n",
      "Requirement already satisfied: certifi>=2017.4.17 in c:\\users\\sampath.emandi\\appdata\\local\\anaconda3\\envs\\llms\\lib\\site-packages (from requests<3,>=2->langchain-community) (2024.7.4)\n",
      "Requirement already satisfied: typing-extensions>=4.6.0 in c:\\users\\sampath.emandi\\appdata\\local\\anaconda3\\envs\\llms\\lib\\site-packages (from SQLAlchemy<3,>=1.4->langchain-community) (4.12.2)\n",
      "Requirement already satisfied: greenlet!=0.4.17 in c:\\users\\sampath.emandi\\appdata\\local\\anaconda3\\envs\\llms\\lib\\site-packages (from SQLAlchemy<3,>=1.4->langchain-community) (3.0.3)\n",
      "Requirement already satisfied: jsonpointer>=1.9 in c:\\users\\sampath.emandi\\appdata\\local\\anaconda3\\envs\\llms\\lib\\site-packages (from jsonpatch<2.0,>=1.33->langchain-core<0.3.0,>=0.2.12->langchain-community) (3.0.0)\n",
      "Requirement already satisfied: annotated-types>=0.4.0 in c:\\users\\sampath.emandi\\appdata\\local\\anaconda3\\envs\\llms\\lib\\site-packages (from pydantic<3,>=1->langchain<0.3.0,>=0.2.7->langchain-community) (0.7.0)\n",
      "Requirement already satisfied: pydantic-core==2.20.1 in c:\\users\\sampath.emandi\\appdata\\local\\anaconda3\\envs\\llms\\lib\\site-packages (from pydantic<3,>=1->langchain<0.3.0,>=0.2.7->langchain-community) (2.20.1)\n",
      "Requirement already satisfied: mypy-extensions>=0.3.0 in c:\\users\\sampath.emandi\\appdata\\local\\anaconda3\\envs\\llms\\lib\\site-packages (from typing-inspect<1,>=0.4.0->dataclasses-json<0.7,>=0.5.7->langchain-community) (1.0.0)\n",
      "Requirement already satisfied: cohere in c:\\users\\sampath.emandi\\appdata\\local\\anaconda3\\envs\\llms\\lib\\site-packages (5.6.1)\n",
      "Requirement already satisfied: boto3<2.0.0,>=1.34.0 in c:\\users\\sampath.emandi\\appdata\\local\\anaconda3\\envs\\llms\\lib\\site-packages (from cohere) (1.34.144)\n",
      "Requirement already satisfied: fastavro<2.0.0,>=1.9.4 in c:\\users\\sampath.emandi\\appdata\\local\\anaconda3\\envs\\llms\\lib\\site-packages (from cohere) (1.9.5)\n",
      "Requirement already satisfied: httpx>=0.21.2 in c:\\users\\sampath.emandi\\appdata\\local\\anaconda3\\envs\\llms\\lib\\site-packages (from cohere) (0.27.0)\n",
      "Requirement already satisfied: httpx-sse<0.5.0,>=0.4.0 in c:\\users\\sampath.emandi\\appdata\\local\\anaconda3\\envs\\llms\\lib\\site-packages (from cohere) (0.4.0)\n",
      "Requirement already satisfied: parameterized<0.10.0,>=0.9.0 in c:\\users\\sampath.emandi\\appdata\\local\\anaconda3\\envs\\llms\\lib\\site-packages (from cohere) (0.9.0)\n",
      "Requirement already satisfied: pydantic>=1.9.2 in c:\\users\\sampath.emandi\\appdata\\local\\anaconda3\\envs\\llms\\lib\\site-packages (from cohere) (2.8.2)\n",
      "Requirement already satisfied: requests<3.0.0,>=2.0.0 in c:\\users\\sampath.emandi\\appdata\\local\\anaconda3\\envs\\llms\\lib\\site-packages (from cohere) (2.32.3)\n",
      "Requirement already satisfied: tokenizers<1,>=0.15 in c:\\users\\sampath.emandi\\appdata\\local\\anaconda3\\envs\\llms\\lib\\site-packages (from cohere) (0.19.1)\n",
      "Requirement already satisfied: types-requests<3.0.0,>=2.0.0 in c:\\users\\sampath.emandi\\appdata\\local\\anaconda3\\envs\\llms\\lib\\site-packages (from cohere) (2.32.0.20240712)\n",
      "Requirement already satisfied: typing_extensions>=4.0.0 in c:\\users\\sampath.emandi\\appdata\\local\\anaconda3\\envs\\llms\\lib\\site-packages (from cohere) (4.12.2)\n",
      "Requirement already satisfied: botocore<1.35.0,>=1.34.144 in c:\\users\\sampath.emandi\\appdata\\local\\anaconda3\\envs\\llms\\lib\\site-packages (from boto3<2.0.0,>=1.34.0->cohere) (1.34.144)\n",
      "Requirement already satisfied: jmespath<2.0.0,>=0.7.1 in c:\\users\\sampath.emandi\\appdata\\local\\anaconda3\\envs\\llms\\lib\\site-packages (from boto3<2.0.0,>=1.34.0->cohere) (1.0.1)\n",
      "Requirement already satisfied: s3transfer<0.11.0,>=0.10.0 in c:\\users\\sampath.emandi\\appdata\\local\\anaconda3\\envs\\llms\\lib\\site-packages (from boto3<2.0.0,>=1.34.0->cohere) (0.10.2)\n",
      "Requirement already satisfied: anyio in c:\\users\\sampath.emandi\\appdata\\local\\anaconda3\\envs\\llms\\lib\\site-packages (from httpx>=0.21.2->cohere) (4.4.0)\n",
      "Requirement already satisfied: certifi in c:\\users\\sampath.emandi\\appdata\\local\\anaconda3\\envs\\llms\\lib\\site-packages (from httpx>=0.21.2->cohere) (2024.7.4)\n",
      "Requirement already satisfied: httpcore==1.* in c:\\users\\sampath.emandi\\appdata\\local\\anaconda3\\envs\\llms\\lib\\site-packages (from httpx>=0.21.2->cohere) (1.0.5)\n",
      "Requirement already satisfied: idna in c:\\users\\sampath.emandi\\appdata\\local\\anaconda3\\envs\\llms\\lib\\site-packages (from httpx>=0.21.2->cohere) (3.7)\n",
      "Requirement already satisfied: sniffio in c:\\users\\sampath.emandi\\appdata\\local\\anaconda3\\envs\\llms\\lib\\site-packages (from httpx>=0.21.2->cohere) (1.3.1)\n",
      "Requirement already satisfied: h11<0.15,>=0.13 in c:\\users\\sampath.emandi\\appdata\\local\\anaconda3\\envs\\llms\\lib\\site-packages (from httpcore==1.*->httpx>=0.21.2->cohere) (0.14.0)\n",
      "Requirement already satisfied: annotated-types>=0.4.0 in c:\\users\\sampath.emandi\\appdata\\local\\anaconda3\\envs\\llms\\lib\\site-packages (from pydantic>=1.9.2->cohere) (0.7.0)\n",
      "Requirement already satisfied: pydantic-core==2.20.1 in c:\\users\\sampath.emandi\\appdata\\local\\anaconda3\\envs\\llms\\lib\\site-packages (from pydantic>=1.9.2->cohere) (2.20.1)\n",
      "Requirement already satisfied: charset-normalizer<4,>=2 in c:\\users\\sampath.emandi\\appdata\\local\\anaconda3\\envs\\llms\\lib\\site-packages (from requests<3.0.0,>=2.0.0->cohere) (3.3.2)\n",
      "Requirement already satisfied: urllib3<3,>=1.21.1 in c:\\users\\sampath.emandi\\appdata\\local\\anaconda3\\envs\\llms\\lib\\site-packages (from requests<3.0.0,>=2.0.0->cohere) (2.2.2)\n",
      "Requirement already satisfied: huggingface-hub<1.0,>=0.16.4 in c:\\users\\sampath.emandi\\appdata\\local\\anaconda3\\envs\\llms\\lib\\site-packages (from tokenizers<1,>=0.15->cohere) (0.23.5)\n",
      "Requirement already satisfied: python-dateutil<3.0.0,>=2.1 in c:\\users\\sampath.emandi\\appdata\\local\\anaconda3\\envs\\llms\\lib\\site-packages (from botocore<1.35.0,>=1.34.144->boto3<2.0.0,>=1.34.0->cohere) (2.9.0)\n",
      "Requirement already satisfied: filelock in c:\\users\\sampath.emandi\\appdata\\local\\anaconda3\\envs\\llms\\lib\\site-packages (from huggingface-hub<1.0,>=0.16.4->tokenizers<1,>=0.15->cohere) (3.15.4)\n",
      "Requirement already satisfied: fsspec>=2023.5.0 in c:\\users\\sampath.emandi\\appdata\\local\\anaconda3\\envs\\llms\\lib\\site-packages (from huggingface-hub<1.0,>=0.16.4->tokenizers<1,>=0.15->cohere) (2024.6.1)\n",
      "Requirement already satisfied: packaging>=20.9 in c:\\users\\sampath.emandi\\appdata\\local\\anaconda3\\envs\\llms\\lib\\site-packages (from huggingface-hub<1.0,>=0.16.4->tokenizers<1,>=0.15->cohere) (24.1)\n",
      "Requirement already satisfied: pyyaml>=5.1 in c:\\users\\sampath.emandi\\appdata\\local\\anaconda3\\envs\\llms\\lib\\site-packages (from huggingface-hub<1.0,>=0.16.4->tokenizers<1,>=0.15->cohere) (6.0.1)\n",
      "Requirement already satisfied: tqdm>=4.42.1 in c:\\users\\sampath.emandi\\appdata\\local\\anaconda3\\envs\\llms\\lib\\site-packages (from huggingface-hub<1.0,>=0.16.4->tokenizers<1,>=0.15->cohere) (4.66.4)\n",
      "Requirement already satisfied: six>=1.5 in c:\\users\\sampath.emandi\\appdata\\local\\anaconda3\\envs\\llms\\lib\\site-packages (from python-dateutil<3.0.0,>=2.1->botocore<1.35.0,>=1.34.144->boto3<2.0.0,>=1.34.0->cohere) (1.16.0)\n",
      "Requirement already satisfied: colorama in c:\\users\\sampath.emandi\\appdata\\local\\anaconda3\\envs\\llms\\lib\\site-packages (from tqdm>=4.42.1->huggingface-hub<1.0,>=0.16.4->tokenizers<1,>=0.15->cohere) (0.4.6)\n",
      "Requirement already satisfied: langchain_cohere in c:\\users\\sampath.emandi\\appdata\\local\\anaconda3\\envs\\llms\\lib\\site-packages (0.1.9)\n",
      "Requirement already satisfied: cohere<6.0,>=5.5.6 in c:\\users\\sampath.emandi\\appdata\\local\\anaconda3\\envs\\llms\\lib\\site-packages (from langchain_cohere) (5.6.1)\n",
      "Requirement already satisfied: langchain-core<0.3,>=0.2.2 in c:\\users\\sampath.emandi\\appdata\\local\\anaconda3\\envs\\llms\\lib\\site-packages (from langchain_cohere) (0.2.20)\n",
      "Requirement already satisfied: langchain-experimental>=0.0.6 in c:\\users\\sampath.emandi\\appdata\\local\\anaconda3\\envs\\llms\\lib\\site-packages (from langchain_cohere) (0.0.62)\n",
      "Requirement already satisfied: pandas>=1.4.3 in c:\\users\\sampath.emandi\\appdata\\local\\anaconda3\\envs\\llms\\lib\\site-packages (from langchain_cohere) (2.2.2)\n",
      "Requirement already satisfied: tabulate<0.10.0,>=0.9.0 in c:\\users\\sampath.emandi\\appdata\\local\\anaconda3\\envs\\llms\\lib\\site-packages (from langchain_cohere) (0.9.0)\n",
      "Requirement already satisfied: boto3<2.0.0,>=1.34.0 in c:\\users\\sampath.emandi\\appdata\\local\\anaconda3\\envs\\llms\\lib\\site-packages (from cohere<6.0,>=5.5.6->langchain_cohere) (1.34.144)\n",
      "Requirement already satisfied: fastavro<2.0.0,>=1.9.4 in c:\\users\\sampath.emandi\\appdata\\local\\anaconda3\\envs\\llms\\lib\\site-packages (from cohere<6.0,>=5.5.6->langchain_cohere) (1.9.5)\n",
      "Requirement already satisfied: httpx>=0.21.2 in c:\\users\\sampath.emandi\\appdata\\local\\anaconda3\\envs\\llms\\lib\\site-packages (from cohere<6.0,>=5.5.6->langchain_cohere) (0.27.0)\n",
      "Requirement already satisfied: httpx-sse<0.5.0,>=0.4.0 in c:\\users\\sampath.emandi\\appdata\\local\\anaconda3\\envs\\llms\\lib\\site-packages (from cohere<6.0,>=5.5.6->langchain_cohere) (0.4.0)\n",
      "Requirement already satisfied: parameterized<0.10.0,>=0.9.0 in c:\\users\\sampath.emandi\\appdata\\local\\anaconda3\\envs\\llms\\lib\\site-packages (from cohere<6.0,>=5.5.6->langchain_cohere) (0.9.0)\n",
      "Requirement already satisfied: pydantic>=1.9.2 in c:\\users\\sampath.emandi\\appdata\\local\\anaconda3\\envs\\llms\\lib\\site-packages (from cohere<6.0,>=5.5.6->langchain_cohere) (2.8.2)\n",
      "Requirement already satisfied: requests<3.0.0,>=2.0.0 in c:\\users\\sampath.emandi\\appdata\\local\\anaconda3\\envs\\llms\\lib\\site-packages (from cohere<6.0,>=5.5.6->langchain_cohere) (2.32.3)\n",
      "Requirement already satisfied: tokenizers<1,>=0.15 in c:\\users\\sampath.emandi\\appdata\\local\\anaconda3\\envs\\llms\\lib\\site-packages (from cohere<6.0,>=5.5.6->langchain_cohere) (0.19.1)\n",
      "Requirement already satisfied: types-requests<3.0.0,>=2.0.0 in c:\\users\\sampath.emandi\\appdata\\local\\anaconda3\\envs\\llms\\lib\\site-packages (from cohere<6.0,>=5.5.6->langchain_cohere) (2.32.0.20240712)\n",
      "Requirement already satisfied: typing_extensions>=4.0.0 in c:\\users\\sampath.emandi\\appdata\\local\\anaconda3\\envs\\llms\\lib\\site-packages (from cohere<6.0,>=5.5.6->langchain_cohere) (4.12.2)\n",
      "Requirement already satisfied: PyYAML>=5.3 in c:\\users\\sampath.emandi\\appdata\\local\\anaconda3\\envs\\llms\\lib\\site-packages (from langchain-core<0.3,>=0.2.2->langchain_cohere) (6.0.1)\n",
      "Requirement already satisfied: jsonpatch<2.0,>=1.33 in c:\\users\\sampath.emandi\\appdata\\local\\anaconda3\\envs\\llms\\lib\\site-packages (from langchain-core<0.3,>=0.2.2->langchain_cohere) (1.33)\n",
      "Requirement already satisfied: langsmith<0.2.0,>=0.1.75 in c:\\users\\sampath.emandi\\appdata\\local\\anaconda3\\envs\\llms\\lib\\site-packages (from langchain-core<0.3,>=0.2.2->langchain_cohere) (0.1.88)\n",
      "Requirement already satisfied: packaging<25,>=23.2 in c:\\users\\sampath.emandi\\appdata\\local\\anaconda3\\envs\\llms\\lib\\site-packages (from langchain-core<0.3,>=0.2.2->langchain_cohere) (24.1)\n",
      "Requirement already satisfied: tenacity!=8.4.0,<9.0.0,>=8.1.0 in c:\\users\\sampath.emandi\\appdata\\local\\anaconda3\\envs\\llms\\lib\\site-packages (from langchain-core<0.3,>=0.2.2->langchain_cohere) (8.5.0)\n",
      "Requirement already satisfied: langchain-community<0.3.0,>=0.2.6 in c:\\users\\sampath.emandi\\appdata\\local\\anaconda3\\envs\\llms\\lib\\site-packages (from langchain-experimental>=0.0.6->langchain_cohere) (0.2.7)\n",
      "Requirement already satisfied: numpy>=1.26.0 in c:\\users\\sampath.emandi\\appdata\\local\\anaconda3\\envs\\llms\\lib\\site-packages (from pandas>=1.4.3->langchain_cohere) (1.26.4)\n",
      "Requirement already satisfied: python-dateutil>=2.8.2 in c:\\users\\sampath.emandi\\appdata\\local\\anaconda3\\envs\\llms\\lib\\site-packages (from pandas>=1.4.3->langchain_cohere) (2.9.0)\n",
      "Requirement already satisfied: pytz>=2020.1 in c:\\users\\sampath.emandi\\appdata\\local\\anaconda3\\envs\\llms\\lib\\site-packages (from pandas>=1.4.3->langchain_cohere) (2024.1)\n",
      "Requirement already satisfied: tzdata>=2022.7 in c:\\users\\sampath.emandi\\appdata\\local\\anaconda3\\envs\\llms\\lib\\site-packages (from pandas>=1.4.3->langchain_cohere) (2024.1)\n",
      "Requirement already satisfied: botocore<1.35.0,>=1.34.144 in c:\\users\\sampath.emandi\\appdata\\local\\anaconda3\\envs\\llms\\lib\\site-packages (from boto3<2.0.0,>=1.34.0->cohere<6.0,>=5.5.6->langchain_cohere) (1.34.144)\n",
      "Requirement already satisfied: jmespath<2.0.0,>=0.7.1 in c:\\users\\sampath.emandi\\appdata\\local\\anaconda3\\envs\\llms\\lib\\site-packages (from boto3<2.0.0,>=1.34.0->cohere<6.0,>=5.5.6->langchain_cohere) (1.0.1)\n",
      "Requirement already satisfied: s3transfer<0.11.0,>=0.10.0 in c:\\users\\sampath.emandi\\appdata\\local\\anaconda3\\envs\\llms\\lib\\site-packages (from boto3<2.0.0,>=1.34.0->cohere<6.0,>=5.5.6->langchain_cohere) (0.10.2)\n",
      "Requirement already satisfied: anyio in c:\\users\\sampath.emandi\\appdata\\local\\anaconda3\\envs\\llms\\lib\\site-packages (from httpx>=0.21.2->cohere<6.0,>=5.5.6->langchain_cohere) (4.4.0)\n",
      "Requirement already satisfied: certifi in c:\\users\\sampath.emandi\\appdata\\local\\anaconda3\\envs\\llms\\lib\\site-packages (from httpx>=0.21.2->cohere<6.0,>=5.5.6->langchain_cohere) (2024.7.4)\n",
      "Requirement already satisfied: httpcore==1.* in c:\\users\\sampath.emandi\\appdata\\local\\anaconda3\\envs\\llms\\lib\\site-packages (from httpx>=0.21.2->cohere<6.0,>=5.5.6->langchain_cohere) (1.0.5)\n",
      "Requirement already satisfied: idna in c:\\users\\sampath.emandi\\appdata\\local\\anaconda3\\envs\\llms\\lib\\site-packages (from httpx>=0.21.2->cohere<6.0,>=5.5.6->langchain_cohere) (3.7)\n",
      "Requirement already satisfied: sniffio in c:\\users\\sampath.emandi\\appdata\\local\\anaconda3\\envs\\llms\\lib\\site-packages (from httpx>=0.21.2->cohere<6.0,>=5.5.6->langchain_cohere) (1.3.1)\n",
      "Requirement already satisfied: h11<0.15,>=0.13 in c:\\users\\sampath.emandi\\appdata\\local\\anaconda3\\envs\\llms\\lib\\site-packages (from httpcore==1.*->httpx>=0.21.2->cohere<6.0,>=5.5.6->langchain_cohere) (0.14.0)\n",
      "Requirement already satisfied: jsonpointer>=1.9 in c:\\users\\sampath.emandi\\appdata\\local\\anaconda3\\envs\\llms\\lib\\site-packages (from jsonpatch<2.0,>=1.33->langchain-core<0.3,>=0.2.2->langchain_cohere) (3.0.0)\n",
      "Requirement already satisfied: SQLAlchemy<3,>=1.4 in c:\\users\\sampath.emandi\\appdata\\local\\anaconda3\\envs\\llms\\lib\\site-packages (from langchain-community<0.3.0,>=0.2.6->langchain-experimental>=0.0.6->langchain_cohere) (2.0.31)\n",
      "Requirement already satisfied: aiohttp<4.0.0,>=3.8.3 in c:\\users\\sampath.emandi\\appdata\\local\\anaconda3\\envs\\llms\\lib\\site-packages (from langchain-community<0.3.0,>=0.2.6->langchain-experimental>=0.0.6->langchain_cohere) (3.9.5)\n",
      "Requirement already satisfied: dataclasses-json<0.7,>=0.5.7 in c:\\users\\sampath.emandi\\appdata\\local\\anaconda3\\envs\\llms\\lib\\site-packages (from langchain-community<0.3.0,>=0.2.6->langchain-experimental>=0.0.6->langchain_cohere) (0.6.7)\n",
      "Requirement already satisfied: langchain<0.3.0,>=0.2.7 in c:\\users\\sampath.emandi\\appdata\\local\\anaconda3\\envs\\llms\\lib\\site-packages (from langchain-community<0.3.0,>=0.2.6->langchain-experimental>=0.0.6->langchain_cohere) (0.2.8)\n",
      "Requirement already satisfied: orjson<4.0.0,>=3.9.14 in c:\\users\\sampath.emandi\\appdata\\local\\anaconda3\\envs\\llms\\lib\\site-packages (from langsmith<0.2.0,>=0.1.75->langchain-core<0.3,>=0.2.2->langchain_cohere) (3.10.6)\n",
      "Requirement already satisfied: annotated-types>=0.4.0 in c:\\users\\sampath.emandi\\appdata\\local\\anaconda3\\envs\\llms\\lib\\site-packages (from pydantic>=1.9.2->cohere<6.0,>=5.5.6->langchain_cohere) (0.7.0)\n",
      "Requirement already satisfied: pydantic-core==2.20.1 in c:\\users\\sampath.emandi\\appdata\\local\\anaconda3\\envs\\llms\\lib\\site-packages (from pydantic>=1.9.2->cohere<6.0,>=5.5.6->langchain_cohere) (2.20.1)\n",
      "Requirement already satisfied: six>=1.5 in c:\\users\\sampath.emandi\\appdata\\local\\anaconda3\\envs\\llms\\lib\\site-packages (from python-dateutil>=2.8.2->pandas>=1.4.3->langchain_cohere) (1.16.0)\n",
      "Requirement already satisfied: charset-normalizer<4,>=2 in c:\\users\\sampath.emandi\\appdata\\local\\anaconda3\\envs\\llms\\lib\\site-packages (from requests<3.0.0,>=2.0.0->cohere<6.0,>=5.5.6->langchain_cohere) (3.3.2)\n",
      "Requirement already satisfied: urllib3<3,>=1.21.1 in c:\\users\\sampath.emandi\\appdata\\local\\anaconda3\\envs\\llms\\lib\\site-packages (from requests<3.0.0,>=2.0.0->cohere<6.0,>=5.5.6->langchain_cohere) (2.2.2)\n",
      "Requirement already satisfied: huggingface-hub<1.0,>=0.16.4 in c:\\users\\sampath.emandi\\appdata\\local\\anaconda3\\envs\\llms\\lib\\site-packages (from tokenizers<1,>=0.15->cohere<6.0,>=5.5.6->langchain_cohere) (0.23.5)\n",
      "Requirement already satisfied: aiosignal>=1.1.2 in c:\\users\\sampath.emandi\\appdata\\local\\anaconda3\\envs\\llms\\lib\\site-packages (from aiohttp<4.0.0,>=3.8.3->langchain-community<0.3.0,>=0.2.6->langchain-experimental>=0.0.6->langchain_cohere) (1.3.1)\n",
      "Requirement already satisfied: attrs>=17.3.0 in c:\\users\\sampath.emandi\\appdata\\local\\anaconda3\\envs\\llms\\lib\\site-packages (from aiohttp<4.0.0,>=3.8.3->langchain-community<0.3.0,>=0.2.6->langchain-experimental>=0.0.6->langchain_cohere) (23.2.0)\n",
      "Requirement already satisfied: frozenlist>=1.1.1 in c:\\users\\sampath.emandi\\appdata\\local\\anaconda3\\envs\\llms\\lib\\site-packages (from aiohttp<4.0.0,>=3.8.3->langchain-community<0.3.0,>=0.2.6->langchain-experimental>=0.0.6->langchain_cohere) (1.4.1)\n",
      "Requirement already satisfied: multidict<7.0,>=4.5 in c:\\users\\sampath.emandi\\appdata\\local\\anaconda3\\envs\\llms\\lib\\site-packages (from aiohttp<4.0.0,>=3.8.3->langchain-community<0.3.0,>=0.2.6->langchain-experimental>=0.0.6->langchain_cohere) (6.0.5)\n",
      "Requirement already satisfied: yarl<2.0,>=1.0 in c:\\users\\sampath.emandi\\appdata\\local\\anaconda3\\envs\\llms\\lib\\site-packages (from aiohttp<4.0.0,>=3.8.3->langchain-community<0.3.0,>=0.2.6->langchain-experimental>=0.0.6->langchain_cohere) (1.9.4)\n",
      "Requirement already satisfied: marshmallow<4.0.0,>=3.18.0 in c:\\users\\sampath.emandi\\appdata\\local\\anaconda3\\envs\\llms\\lib\\site-packages (from dataclasses-json<0.7,>=0.5.7->langchain-community<0.3.0,>=0.2.6->langchain-experimental>=0.0.6->langchain_cohere) (3.21.3)\n",
      "Requirement already satisfied: typing-inspect<1,>=0.4.0 in c:\\users\\sampath.emandi\\appdata\\local\\anaconda3\\envs\\llms\\lib\\site-packages (from dataclasses-json<0.7,>=0.5.7->langchain-community<0.3.0,>=0.2.6->langchain-experimental>=0.0.6->langchain_cohere) (0.9.0)\n",
      "Requirement already satisfied: filelock in c:\\users\\sampath.emandi\\appdata\\local\\anaconda3\\envs\\llms\\lib\\site-packages (from huggingface-hub<1.0,>=0.16.4->tokenizers<1,>=0.15->cohere<6.0,>=5.5.6->langchain_cohere) (3.15.4)\n",
      "Requirement already satisfied: fsspec>=2023.5.0 in c:\\users\\sampath.emandi\\appdata\\local\\anaconda3\\envs\\llms\\lib\\site-packages (from huggingface-hub<1.0,>=0.16.4->tokenizers<1,>=0.15->cohere<6.0,>=5.5.6->langchain_cohere) (2024.6.1)\n",
      "Requirement already satisfied: tqdm>=4.42.1 in c:\\users\\sampath.emandi\\appdata\\local\\anaconda3\\envs\\llms\\lib\\site-packages (from huggingface-hub<1.0,>=0.16.4->tokenizers<1,>=0.15->cohere<6.0,>=5.5.6->langchain_cohere) (4.66.4)\n",
      "Requirement already satisfied: langchain-text-splitters<0.3.0,>=0.2.0 in c:\\users\\sampath.emandi\\appdata\\local\\anaconda3\\envs\\llms\\lib\\site-packages (from langchain<0.3.0,>=0.2.7->langchain-community<0.3.0,>=0.2.6->langchain-experimental>=0.0.6->langchain_cohere) (0.2.2)\n",
      "Requirement already satisfied: greenlet!=0.4.17 in c:\\users\\sampath.emandi\\appdata\\local\\anaconda3\\envs\\llms\\lib\\site-packages (from SQLAlchemy<3,>=1.4->langchain-community<0.3.0,>=0.2.6->langchain-experimental>=0.0.6->langchain_cohere) (3.0.3)\n",
      "Requirement already satisfied: colorama in c:\\users\\sampath.emandi\\appdata\\local\\anaconda3\\envs\\llms\\lib\\site-packages (from tqdm>=4.42.1->huggingface-hub<1.0,>=0.16.4->tokenizers<1,>=0.15->cohere<6.0,>=5.5.6->langchain_cohere) (0.4.6)\n",
      "Requirement already satisfied: mypy-extensions>=0.3.0 in c:\\users\\sampath.emandi\\appdata\\local\\anaconda3\\envs\\llms\\lib\\site-packages (from typing-inspect<1,>=0.4.0->dataclasses-json<0.7,>=0.5.7->langchain-community<0.3.0,>=0.2.6->langchain-experimental>=0.0.6->langchain_cohere) (1.0.0)\n"
     ]
    }
   ],
   "source": [
    "!pip install -U langchain-community\n",
    "!pip install cohere\n",
    "!pip install langchain_cohere"
   ]
  },
  {
   "cell_type": "code",
   "execution_count": 3,
   "id": "d417799b",
   "metadata": {},
   "outputs": [
    {
     "name": "stdout",
     "output_type": "stream",
     "text": [
      "Requirement already satisfied: langchain in c:\\users\\sampath.emandi\\appdata\\local\\anaconda3\\envs\\llms\\lib\\site-packages (0.2.8)\n",
      "Requirement already satisfied: PyYAML>=5.3 in c:\\users\\sampath.emandi\\appdata\\local\\anaconda3\\envs\\llms\\lib\\site-packages (from langchain) (6.0.1)\n",
      "Requirement already satisfied: SQLAlchemy<3,>=1.4 in c:\\users\\sampath.emandi\\appdata\\local\\anaconda3\\envs\\llms\\lib\\site-packages (from langchain) (2.0.31)\n",
      "Requirement already satisfied: aiohttp<4.0.0,>=3.8.3 in c:\\users\\sampath.emandi\\appdata\\local\\anaconda3\\envs\\llms\\lib\\site-packages (from langchain) (3.9.5)\n",
      "Requirement already satisfied: langchain-core<0.3.0,>=0.2.19 in c:\\users\\sampath.emandi\\appdata\\local\\anaconda3\\envs\\llms\\lib\\site-packages (from langchain) (0.2.20)\n",
      "Requirement already satisfied: langchain-text-splitters<0.3.0,>=0.2.0 in c:\\users\\sampath.emandi\\appdata\\local\\anaconda3\\envs\\llms\\lib\\site-packages (from langchain) (0.2.2)\n",
      "Requirement already satisfied: langsmith<0.2.0,>=0.1.17 in c:\\users\\sampath.emandi\\appdata\\local\\anaconda3\\envs\\llms\\lib\\site-packages (from langchain) (0.1.88)\n",
      "Requirement already satisfied: numpy<2.0.0,>=1.26.0 in c:\\users\\sampath.emandi\\appdata\\local\\anaconda3\\envs\\llms\\lib\\site-packages (from langchain) (1.26.4)\n",
      "Requirement already satisfied: pydantic<3,>=1 in c:\\users\\sampath.emandi\\appdata\\local\\anaconda3\\envs\\llms\\lib\\site-packages (from langchain) (2.8.2)\n",
      "Requirement already satisfied: requests<3,>=2 in c:\\users\\sampath.emandi\\appdata\\local\\anaconda3\\envs\\llms\\lib\\site-packages (from langchain) (2.32.3)\n",
      "Requirement already satisfied: tenacity!=8.4.0,<9.0.0,>=8.1.0 in c:\\users\\sampath.emandi\\appdata\\local\\anaconda3\\envs\\llms\\lib\\site-packages (from langchain) (8.5.0)\n",
      "Requirement already satisfied: aiosignal>=1.1.2 in c:\\users\\sampath.emandi\\appdata\\local\\anaconda3\\envs\\llms\\lib\\site-packages (from aiohttp<4.0.0,>=3.8.3->langchain) (1.3.1)\n",
      "Requirement already satisfied: attrs>=17.3.0 in c:\\users\\sampath.emandi\\appdata\\local\\anaconda3\\envs\\llms\\lib\\site-packages (from aiohttp<4.0.0,>=3.8.3->langchain) (23.2.0)\n",
      "Requirement already satisfied: frozenlist>=1.1.1 in c:\\users\\sampath.emandi\\appdata\\local\\anaconda3\\envs\\llms\\lib\\site-packages (from aiohttp<4.0.0,>=3.8.3->langchain) (1.4.1)\n",
      "Requirement already satisfied: multidict<7.0,>=4.5 in c:\\users\\sampath.emandi\\appdata\\local\\anaconda3\\envs\\llms\\lib\\site-packages (from aiohttp<4.0.0,>=3.8.3->langchain) (6.0.5)\n",
      "Requirement already satisfied: yarl<2.0,>=1.0 in c:\\users\\sampath.emandi\\appdata\\local\\anaconda3\\envs\\llms\\lib\\site-packages (from aiohttp<4.0.0,>=3.8.3->langchain) (1.9.4)\n",
      "Requirement already satisfied: jsonpatch<2.0,>=1.33 in c:\\users\\sampath.emandi\\appdata\\local\\anaconda3\\envs\\llms\\lib\\site-packages (from langchain-core<0.3.0,>=0.2.19->langchain) (1.33)\n",
      "Requirement already satisfied: packaging<25,>=23.2 in c:\\users\\sampath.emandi\\appdata\\local\\anaconda3\\envs\\llms\\lib\\site-packages (from langchain-core<0.3.0,>=0.2.19->langchain) (24.1)\n",
      "Requirement already satisfied: orjson<4.0.0,>=3.9.14 in c:\\users\\sampath.emandi\\appdata\\local\\anaconda3\\envs\\llms\\lib\\site-packages (from langsmith<0.2.0,>=0.1.17->langchain) (3.10.6)\n",
      "Requirement already satisfied: annotated-types>=0.4.0 in c:\\users\\sampath.emandi\\appdata\\local\\anaconda3\\envs\\llms\\lib\\site-packages (from pydantic<3,>=1->langchain) (0.7.0)\n",
      "Requirement already satisfied: pydantic-core==2.20.1 in c:\\users\\sampath.emandi\\appdata\\local\\anaconda3\\envs\\llms\\lib\\site-packages (from pydantic<3,>=1->langchain) (2.20.1)\n",
      "Requirement already satisfied: typing-extensions>=4.6.1 in c:\\users\\sampath.emandi\\appdata\\local\\anaconda3\\envs\\llms\\lib\\site-packages (from pydantic<3,>=1->langchain) (4.12.2)\n",
      "Requirement already satisfied: charset-normalizer<4,>=2 in c:\\users\\sampath.emandi\\appdata\\local\\anaconda3\\envs\\llms\\lib\\site-packages (from requests<3,>=2->langchain) (3.3.2)\n",
      "Requirement already satisfied: idna<4,>=2.5 in c:\\users\\sampath.emandi\\appdata\\local\\anaconda3\\envs\\llms\\lib\\site-packages (from requests<3,>=2->langchain) (3.7)\n",
      "Requirement already satisfied: urllib3<3,>=1.21.1 in c:\\users\\sampath.emandi\\appdata\\local\\anaconda3\\envs\\llms\\lib\\site-packages (from requests<3,>=2->langchain) (2.2.2)\n",
      "Requirement already satisfied: certifi>=2017.4.17 in c:\\users\\sampath.emandi\\appdata\\local\\anaconda3\\envs\\llms\\lib\\site-packages (from requests<3,>=2->langchain) (2024.7.4)\n",
      "Requirement already satisfied: greenlet!=0.4.17 in c:\\users\\sampath.emandi\\appdata\\local\\anaconda3\\envs\\llms\\lib\\site-packages (from SQLAlchemy<3,>=1.4->langchain) (3.0.3)\n",
      "Requirement already satisfied: jsonpointer>=1.9 in c:\\users\\sampath.emandi\\appdata\\local\\anaconda3\\envs\\llms\\lib\\site-packages (from jsonpatch<2.0,>=1.33->langchain-core<0.3.0,>=0.2.19->langchain) (3.0.0)\n"
     ]
    }
   ],
   "source": [
    "!pip install langchain"
   ]
  },
  {
   "cell_type": "code",
   "execution_count": 1,
   "id": "c96299fc-30f5-4edf-ac23-23a29f9c7282",
   "metadata": {},
   "outputs": [],
   "source": [
    "text = \"This is the text I would like to chunk up. It is the example text for this exercise\""
   ]
  },
  {
   "cell_type": "markdown",
   "id": "4e1cf67e-98d7-48bd-9867-f72be72e3f4a",
   "metadata": {},
   "source": [
    "Then let's split this text manually"
   ]
  },
  {
   "cell_type": "code",
   "execution_count": 2,
   "id": "f11fb88f-17ed-44c2-b4de-a8a527fe63c7",
   "metadata": {},
   "outputs": [
    {
     "data": {
      "text/plain": [
       "['This is the text I would like to ch',\n",
       " 'unk up. It is the example text for ',\n",
       " 'this exercise']"
      ]
     },
     "execution_count": 2,
     "metadata": {},
     "output_type": "execute_result"
    }
   ],
   "source": [
    "# Create a list that will hold your chunks\n",
    "chunks = []\n",
    "\n",
    "chunk_size = 35 # Characters\n",
    "\n",
    "# Run through the a range with the length of your text and iterate every chunk_size you want\n",
    "for i in range(0, len(text), chunk_size):\n",
    "    chunk = text[i:i + chunk_size]\n",
    "    chunks.append(chunk)\n",
    "chunks"
   ]
  },
  {
   "cell_type": "markdown",
   "id": "140085b7-c6af-4003-923c-73feb1825965",
   "metadata": {},
   "source": [
    "Congratulations! You just split your first text. We have long way to go but you're already making progress. Feel like a language model practitioner yet?\n",
    "\n",
    "When working with text in the language model world, we don't deal with raw strings. It is more common to work with documents. Documents are objects that hold the text you're concerned with, but also additional metadata which makes filtering and manipulation easier later.\n",
    "\n",
    "We could convert our list of strings into documents, but I'd rather start from scratch and create the docs.\n",
    "\n",
    "Let's load up LangChains `CharacterSplitter` to do this for us"
   ]
  },
  {
   "cell_type": "code",
   "execution_count": 3,
   "id": "d85945f0-4a09-4bd9-bdb6-bafe03089053",
   "metadata": {},
   "outputs": [],
   "source": [
    "from langchain.text_splitter import CharacterTextSplitter"
   ]
  },
  {
   "cell_type": "markdown",
   "id": "ff5f3c0a-09c9-45a9-8f47-d28baf22b201",
   "metadata": {},
   "source": [
    "Then let's load up this text splitter. I need to specify `chunk overlap` and `separator` or else we'll get funk results. We'll get into those next"
   ]
  },
  {
   "cell_type": "code",
   "execution_count": 4,
   "id": "3dcbeb8d-c5a0-4047-8250-967313c20935",
   "metadata": {},
   "outputs": [],
   "source": [
    "text_splitter = CharacterTextSplitter(chunk_size = 35, chunk_overlap=0, separator='', strip_whitespace=False)"
   ]
  },
  {
   "cell_type": "markdown",
   "id": "5ae25bbe-d7d1-44da-820b-3cd34a1cfc67",
   "metadata": {},
   "source": [
    "Then we can actually split our text via `create_documents`. Note: `create_documents` expects a list of texts, so if you just have a string (like we do) you'll need to wrap it in `[]`"
   ]
  },
  {
   "cell_type": "code",
   "execution_count": 5,
   "id": "afe4945b-ce08-49aa-a5dc-65a0e59922f2",
   "metadata": {},
   "outputs": [
    {
     "data": {
      "text/plain": [
       "[Document(page_content='This is the text I would like to ch'),\n",
       " Document(page_content='unk up. It is the example text for '),\n",
       " Document(page_content='this exercise')]"
      ]
     },
     "execution_count": 5,
     "metadata": {},
     "output_type": "execute_result"
    }
   ],
   "source": [
    "text_splitter.create_documents([text])"
   ]
  },
  {
   "cell_type": "markdown",
   "id": "331025f4-6ef4-4459-bcb6-df7824e78ce4",
   "metadata": {},
   "source": [
    "Notice how this time we have the same chunks, but they are in documents. These will play nicely with the rest of the LangChain world. Also notice how the trailing whitespace on the end of the 2nd chunk is missing. This is because LangChain removes it, see [this line](https://github.com/langchain-ai/langchain/blob/f36ef0739dbb548cabdb4453e6819fc3d826414f/libs/langchain/langchain/text_splitter.py#L167) for where they do it. You can avoid this with `strip_whitespace=False`"
   ]
  },
  {
   "cell_type": "markdown",
   "id": "1ed0f193-4098-4fb1-a42f-7f96cd182188",
   "metadata": {},
   "source": [
    "**Chunk Overlap & Separators**\n",
    "\n",
    "**Chunk overlap** will blend together our chunks so that the tail of Chunk #1 will be the same thing and the head of Chunk #2 and so on and so forth.\n",
    "\n",
    "This time I'll load up my overlap with a value of 4, this means 4 characters of overlap"
   ]
  },
  {
   "cell_type": "code",
   "execution_count": 6,
   "id": "fc66f496-7b0d-4b2a-a43d-e8f06d58c934",
   "metadata": {},
   "outputs": [],
   "source": [
    "text_splitter = CharacterTextSplitter(chunk_size = 35, chunk_overlap=4, separator='')"
   ]
  },
  {
   "cell_type": "code",
   "execution_count": 7,
   "id": "fd5d7e36-b592-430e-9069-cc025c78d7ef",
   "metadata": {},
   "outputs": [
    {
     "data": {
      "text/plain": [
       "[Document(page_content='This is the text I would like to ch'),\n",
       " Document(page_content='o chunk up. It is the example text'),\n",
       " Document(page_content='ext for this exercise')]"
      ]
     },
     "execution_count": 7,
     "metadata": {},
     "output_type": "execute_result"
    }
   ],
   "source": [
    "text_splitter.create_documents([text])"
   ]
  },
  {
   "cell_type": "markdown",
   "id": "dcd4aaa8-b90b-499e-b2d5-bc623b5bb751",
   "metadata": {},
   "source": [
    "Notice how we have the same chunks, but now there is overlap between 1 & 2 and 2 & 3. The 'o ch' on the tail of Chunk #1 matches the 'o ch' of the head of Chunk #2.\n",
    "\n",
    "I wanted a better way to visualize this, so I made [ChunkViz.com](www.chunkviz.com) to help show it. Here's what the same text looks like.\n",
    "\n",
    "<div style=\"text-align: center;\">\n",
    "    <img src=\"static/ChunkVizCharacter34_4_w_overlap.png\" alt=\"image\" style=\"max-width: 800px;\">\n",
    "</div>\n",
    "\n",
    "static/ChunkVizCharacterRecursive.png\n",
    "\n",
    "Check out how we have three colors, with two overlaping sections.\n",
    "\n",
    "**Separators** are character(s) sequences you would like to split on. Say you wanted to chunk your data at `ch`, you can specify it."
   ]
  },
  {
   "cell_type": "code",
   "execution_count": 8,
   "id": "814ce9aa-17c3-4205-b433-2eae612c2225",
   "metadata": {},
   "outputs": [],
   "source": [
    "text_splitter = CharacterTextSplitter(chunk_size = 35, chunk_overlap=0, separator='ch')"
   ]
  },
  {
   "cell_type": "code",
   "execution_count": 9,
   "id": "bb759b1f-dab0-4f5e-a0c0-220374313da6",
   "metadata": {},
   "outputs": [
    {
     "data": {
      "text/plain": [
       "[Document(page_content='This is the text I would like to'),\n",
       " Document(page_content='unk up. It is the example text for this exercise')]"
      ]
     },
     "execution_count": 9,
     "metadata": {},
     "output_type": "execute_result"
    }
   ],
   "source": [
    "text_splitter.create_documents([text])"
   ]
  },
  {
   "cell_type": "markdown",
   "id": "72c7ff4a-b6f0-4924-9a9c-2791dddc5b37",
   "metadata": {},
   "source": [
    "#### Llama Index\n",
    "\n",
    "[Llama Index](https://www.llamaindex.ai/) is a great choice for flexibility in the chunking and indexing process. They provide node relationships out of the box which can aid in retrieval later.\n",
    "\n",
    "Let's take a look at their sentence splitter. It is similar to the character splitter, but using its default settings, it'll split on sentences instead."
   ]
  },
  {
   "cell_type": "code",
   "execution_count": 10,
   "id": "624832d6-f3fd-45c4-b52e-bbc86e5e3cd0",
   "metadata": {},
   "outputs": [],
   "source": [
    "from llama_index.text_splitter import SentenceSplitter\n",
    "from llama_index import SimpleDirectoryReader"
   ]
  },
  {
   "cell_type": "markdown",
   "id": "b6e77494-a253-4414-b32d-2246fcb396ef",
   "metadata": {},
   "source": [
    "Load up your splitter"
   ]
  },
  {
   "cell_type": "code",
   "execution_count": 11,
   "id": "ef9e6627-81a5-463d-9180-5ff2ff1d40f9",
   "metadata": {},
   "outputs": [],
   "source": [
    "splitter = SentenceSplitter(\n",
    "    chunk_size=200,\n",
    "    chunk_overlap=15,\n",
    ")"
   ]
  },
  {
   "cell_type": "markdown",
   "id": "23214df1-064d-47ad-9058-f9a5f113b6cf",
   "metadata": {},
   "source": [
    "Load up your document"
   ]
  },
  {
   "cell_type": "code",
   "execution_count": 13,
   "id": "7cafba29-b973-4b37-806f-6f4893eae02e",
   "metadata": {},
   "outputs": [],
   "source": [
    "documents = SimpleDirectoryReader(\n",
    "    input_files=[\"../../data/PGEssays/mit.txt\"]\n",
    ").load_data()\n",
    "\n"
   ]
  },
  {
   "cell_type": "markdown",
   "id": "d2ceae08-1f5e-46bc-9d98-e95182fe8c3c",
   "metadata": {},
   "source": [
    "Create your nodes. Nodes are similar to documents but with more relationship data added to them."
   ]
  },
  {
   "cell_type": "code",
   "execution_count": 14,
   "id": "52f9a2e2-3d56-4727-afce-c81c13089324",
   "metadata": {},
   "outputs": [],
   "source": [
    "nodes = splitter.get_nodes_from_documents(documents)"
   ]
  },
  {
   "cell_type": "markdown",
   "id": "ec353aac-ea8f-421a-9895-0af8afdc08e0",
   "metadata": {},
   "source": [
    "Then let's take a look at one"
   ]
  },
  {
   "cell_type": "code",
   "execution_count": 15,
   "id": "898a421f-54a0-45a4-8acb-c7087b6a883f",
   "metadata": {},
   "outputs": [
    {
     "data": {
      "text/plain": [
       "TextNode(id_='e36994ad-25c5-41f3-b38d-96ee6b956fc7', embedding=None, metadata={'file_path': '../../data/PGEssays/mit.txt', 'file_name': 'mit.txt', 'file_type': 'text/plain', 'file_size': 36045, 'creation_date': '2024-01-22', 'last_modified_date': '2023-12-21', 'last_accessed_date': '2024-03-11'}, excluded_embed_metadata_keys=['file_name', 'file_type', 'file_size', 'creation_date', 'last_modified_date', 'last_accessed_date'], excluded_llm_metadata_keys=['file_name', 'file_type', 'file_size', 'creation_date', 'last_modified_date', 'last_accessed_date'], relationships={<NodeRelationship.SOURCE: '1'>: RelatedNodeInfo(node_id='881d6935-c507-474e-8d81-6c735776f9cf', node_type=<ObjectType.DOCUMENT: '4'>, metadata={'file_path': '../../data/PGEssays/mit.txt', 'file_name': 'mit.txt', 'file_type': 'text/plain', 'file_size': 36045, 'creation_date': '2024-01-22', 'last_modified_date': '2023-12-21', 'last_accessed_date': '2024-03-11'}, hash='5444cdff4f48bf05f4757827161d4fce69d517cbab26553227c095d6d68980c7'), <NodeRelationship.NEXT: '3'>: RelatedNodeInfo(node_id='95935f53-4da6-4bc8-af97-c890e4ee42e3', node_type=<ObjectType.TEXT: '1'>, metadata={}, hash='5ebb6555924d31f20f1f5243ea3bfb18231fbb946cb76f497dbc73310fa36d3a')}, hash='fe82de145221729f15921a789c2923659746b7304aa2ce2952b923f800d2b85d', text=\"Want to start a startup?  Get funded by\\nY Combinator.\\n\\n\\n\\n\\nOctober 2006(This essay is derived from a talk at MIT.)\\nTill recently graduating seniors had two choices: get a job or go\\nto grad school.  I think there will increasingly be a third option:\\nto start your own startup.  But how common will that be?I'm sure the default will always be to get a job, but starting a\\nstartup could well become as popular as grad school.  In the late\\n90s my professor friends used to complain that they couldn't get\\ngrad students, because all the undergrads were going to work for\\nstartups.\", start_char_idx=2, end_char_idx=576, text_template='{metadata_str}\\n\\n{content}', metadata_template='{key}: {value}', metadata_seperator='\\n')"
      ]
     },
     "execution_count": 15,
     "metadata": {},
     "output_type": "execute_result"
    }
   ],
   "source": [
    "nodes[0]"
   ]
  },
  {
   "cell_type": "markdown",
   "id": "539aa1a2-67b8-4585-b0d3-306703ea856b",
   "metadata": {},
   "source": [
    "As you can see there is a lot more relationship data held within Llama Index's nodes. We'll talk about those later, I don't want to get ahead of ourselves\n",
    "\n",
    "Basic Character splitting is likely only useful for a few applications, maybe yours!\n",
    "\n",
    "## Level 2: Recursive Character Text Splitting\n",
    "<a id=\"RecursiveCharacterSplitting\"></a>\n",
    "Let's jump a level of complexity.\n",
    "\n",
    "The problem with Level #1 is that we don't take into account the structure of our document at all. We simply split by a fix number of characters.\n",
    "\n",
    "The Recursive Character Text Splitter helps with this. With it, we'll specify a series of separatators which will be used to split our docs.\n",
    "\n",
    "You can see the default separators for LangChain [here](https://github.com/langchain-ai/langchain/blob/9ef2feb6747f5a69d186bd623b569ad722829a5e/libs/langchain/langchain/text_splitter.py#L842). Let's take a look at them one by one.\n",
    "\n",
    "* \"\\n\\n\" - Double new line, or most commonly paragraph breaks\n",
    "* \"\\n\" - New lines\n",
    "* \" \" - Spaces\n",
    "* \"\" - Characters\n",
    "\n",
    "I'm not sure why a period (\".\") isn't included on the list, perhaps it is not universal enough? If you know, let me know.\n",
    "\n",
    "This is the swiss army knife of splitters and my first choice when mocking up a quick application. If you don't know which splitter to start with, this is a good first bet.\n",
    "\n",
    "Let's try it out"
   ]
  },
  {
   "cell_type": "code",
   "execution_count": 16,
   "id": "49f42bea-3d06-404d-9f8c-f15f7ff7591b",
   "metadata": {},
   "outputs": [],
   "source": [
    "from langchain.text_splitter import RecursiveCharacterTextSplitter"
   ]
  },
  {
   "cell_type": "markdown",
   "id": "bb6f79f4-769b-474b-8d7d-19cb48407cd6",
   "metadata": {},
   "source": [
    "Then let's load up a larger piece of text"
   ]
  },
  {
   "cell_type": "code",
   "execution_count": 17,
   "id": "0772695d-0c5e-4e19-bb69-14e9bd7a15a7",
   "metadata": {},
   "outputs": [],
   "source": [
    "text = \"\"\"\n",
    "One of the most important things I didn't understand about the world when I was a child is the degree to which the returns for performance are superlinear.\n",
    "\n",
    "Teachers and coaches implicitly told us the returns were linear. \"You get out,\" I heard a thousand times, \"what you put in.\" They meant well, but this is rarely true. If your product is only half as good as your competitor's, you don't get half as many customers. You get no customers, and you go out of business.\n",
    "\n",
    "It's obviously true that the returns for performance are superlinear in business. Some think this is a flaw of capitalism, and that if we changed the rules it would stop being true. But superlinear returns for performance are a feature of the world, not an artifact of rules we've invented. We see the same pattern in fame, power, military victories, knowledge, and even benefit to humanity. In all of these, the rich get richer. [1]\n",
    "\"\"\""
   ]
  },
  {
   "cell_type": "markdown",
   "id": "9fbb158c-6bbe-4f49-95df-a8b43965a566",
   "metadata": {},
   "source": [
    "Now let's make our text splitter"
   ]
  },
  {
   "cell_type": "code",
   "execution_count": 18,
   "id": "03ec54c4-bda6-4254-97dd-983775b1d729",
   "metadata": {},
   "outputs": [],
   "source": [
    "text_splitter = RecursiveCharacterTextSplitter(chunk_size = 65, chunk_overlap=0)"
   ]
  },
  {
   "cell_type": "code",
   "execution_count": 19,
   "id": "887c7676-1e67-4084-94d3-59689eb399c6",
   "metadata": {},
   "outputs": [
    {
     "data": {
      "text/plain": [
       "[Document(page_content=\"One of the most important things I didn't understand about the\"),\n",
       " Document(page_content='world when I was a child is the degree to which the returns for'),\n",
       " Document(page_content='performance are superlinear.'),\n",
       " Document(page_content='Teachers and coaches implicitly told us the returns were linear.'),\n",
       " Document(page_content='\"You get out,\" I heard a thousand times, \"what you put in.\" They'),\n",
       " Document(page_content='meant well, but this is rarely true. If your product is only'),\n",
       " Document(page_content=\"half as good as your competitor's, you don't get half as many\"),\n",
       " Document(page_content='customers. You get no customers, and you go out of business.'),\n",
       " Document(page_content=\"It's obviously true that the returns for performance are\"),\n",
       " Document(page_content='superlinear in business. Some think this is a flaw of'),\n",
       " Document(page_content='capitalism, and that if we changed the rules it would stop being'),\n",
       " Document(page_content='true. But superlinear returns for performance are a feature of'),\n",
       " Document(page_content=\"the world, not an artifact of rules we've invented. We see the\"),\n",
       " Document(page_content='same pattern in fame, power, military victories, knowledge, and'),\n",
       " Document(page_content='even benefit to humanity. In all of these, the rich get richer.'),\n",
       " Document(page_content='[1]')]"
      ]
     },
     "execution_count": 19,
     "metadata": {},
     "output_type": "execute_result"
    }
   ],
   "source": [
    "text_splitter.create_documents([text])"
   ]
  },
  {
   "cell_type": "markdown",
   "id": "3fa00043-1655-4113-bb28-f3a998d5713a",
   "metadata": {},
   "source": [
    "Notice how now there are more chunks that end with a period \".\". This is because those likely are the end of a paragraph and the splitter first looks for double new lines (paragraph break).\n",
    "\n",
    "Once paragraphs are split, then it looks at the chunk size, if a chunk is too big, then it'll split by the next separator. If the chunk is still too big, then it'll move onto the next one and so forth.\n",
    "\n",
    "For text of this size, let's split on something bigger."
   ]
  },
  {
   "cell_type": "code",
   "execution_count": 20,
   "id": "6da8734e-47da-4a08-8459-9bf8bfed7fe4",
   "metadata": {},
   "outputs": [
    {
     "data": {
      "text/plain": [
       "[Document(page_content=\"One of the most important things I didn't understand about the world when I was a child is the degree to which the returns for performance are superlinear.\"),\n",
       " Document(page_content='Teachers and coaches implicitly told us the returns were linear. \"You get out,\" I heard a thousand times, \"what you put in.\" They meant well, but this is rarely true. If your product is only half as good as your competitor\\'s, you don\\'t get half as many customers. You get no customers, and you go out of business.'),\n",
       " Document(page_content=\"It's obviously true that the returns for performance are superlinear in business. Some think this is a flaw of capitalism, and that if we changed the rules it would stop being true. But superlinear returns for performance are a feature of the world, not an artifact of rules we've invented. We see the same pattern in fame, power, military victories, knowledge, and even benefit to humanity. In all of these, the rich get richer. [1]\")]"
      ]
     },
     "execution_count": 20,
     "metadata": {},
     "output_type": "execute_result"
    }
   ],
   "source": [
    "text_splitter = RecursiveCharacterTextSplitter(chunk_size = 450, chunk_overlap=0)\n",
    "text_splitter.create_documents([text])"
   ]
  },
  {
   "attachments": {},
   "cell_type": "markdown",
   "id": "1e99768f-8732-44e4-b8d8-cc5ac1fe4661",
   "metadata": {},
   "source": [
    "For this text, 450 splits the paragraphs perfectly. You can even switch the chunk size to 469 and get the same splits. This is because this splitter builds in a bit of cushion and wiggle room to allow your chunks to 'snap' to the nearest separator.\n",
    "\n",
    "Let's view this visually\n",
    "\n",
    "<div style=\"text-align: center;\">\n",
    "    <img src=\"static/ChunkVizCharacterRecursive.png\" alt=\"image\" style=\"max-width: 800px;\">\n",
    "</div>\n",
    "\n",
    "Wow - you already made it to level 2, awesome! We're on a roll. If you like the content, I send updates to email subscribers on projects I'm working on. If you want to get the scoop, sign up [here](https://mail.gregkamradt.com/signup)."
   ]
  },
  {
   "cell_type": "markdown",
   "id": "c5f32a73-0c8a-498c-a3a1-3e7dba4658c9",
   "metadata": {},
   "source": [
    "## Level 3: Document Specific Splitting <a id=\"DocumentSpecific\"></a>\n",
    "\n",
    "Stepping up our levels ladder, let's start to handle document types other than normal prose in a .txt. What if you have pictures? or a PDF? or code snippets?\n",
    "\n",
    "Our first two levels wouldn't work great for this so we'll need to find a different tactic.\n",
    "\n",
    "This level is all about making your chunking strategy fit your different data formats. Let's run through a bunch of examples of this in action\n",
    "\n",
    "The Markdown, Python, and JS splitters will basically be similar to Recursive Character, but with different separators.\n",
    "\n",
    "See all of LangChains document splitters [here](https://python.langchain.com/docs/modules/data_connection/document_transformers/text_splitters/code_splitter) and Llama Index ([HTML](https://docs.llamaindex.ai/en/stable/module_guides/loading/node_parsers/modules.html#htmlnodeparser), [JSON](https://docs.llamaindex.ai/en/stable/module_guides/loading/node_parsers/modules.html#jsonnodeparser), [Markdown](https://docs.llamaindex.ai/en/stable/module_guides/loading/node_parsers/modules.html#markdownnodeparser))\n",
    "\n",
    "### Markdown\n",
    "\n",
    "You can see the separators [here](https://github.com/langchain-ai/langchain/blob/9ef2feb6747f5a69d186bd623b569ad722829a5e/libs/langchain/langchain/text_splitter.py#L1175).\n",
    "\n",
    "Separators:\n",
    "* `\\n#{1,6}` - Split by new lines followed by a header (H1 through H6)\n",
    "* ```` ```\\n ```` - Code blocks\n",
    "* `\\n\\\\*\\\\*\\\\*+\\n` - Horizontal Lines\n",
    "* `\\n---+\\n` - Horizontal Lines\n",
    "* `\\n___+\\n` - Horizontal Lines\n",
    "* `\\n\\n` Double new lines\n",
    "* `\\n` - New line\n",
    "* `\" \"` - Spaces\n",
    "* `\"\"` - Character"
   ]
  },
  {
   "cell_type": "code",
   "execution_count": 4,
   "id": "298fe868-0872-4fa9-9146-fa33e9dd5706",
   "metadata": {},
   "outputs": [],
   "source": [
    "from langchain.text_splitter import MarkdownTextSplitter"
   ]
  },
  {
   "cell_type": "code",
   "execution_count": 5,
   "id": "e1d390ed-d046-44f9-a492-9760141f7982",
   "metadata": {},
   "outputs": [],
   "source": [
    "splitter = MarkdownTextSplitter()"
   ]
  },
  {
   "cell_type": "code",
   "execution_count": 3,
   "id": "1ba14168-451b-4e9c-b1d0-d1eac6996ad3",
   "metadata": {},
   "outputs": [],
   "source": [
    "content_text = '''\n",
    "# Case Study On Tackling Bird shit menace in MRO, RGIA (GATL)\n",
    "CONTRIBUTED BY:\n",
    "Kalyan Reddy Gudimetla\n",
    "GATL\n",
    "July 2019\n",
    "---\n",
    "# Executive Summary\n",
    "GMR Aero Technic Ltd. (GATL) has its facilities spread over an area of 28 acres at Hyderabad airport. It is a 100% subsidiary of GMR Hyderabad International Airport Ltd. (GHIAL), and offers world class third party independent airframe Maintenance, Repair & Overhaul (MRO) services from its facility at Rajiv Gandhi International Airport (RGIA), Hyderabad.\n",
    "Since the hangars or aircraft maintenance bays are high and wide structures, birds often enter through various openings and roost in the available flat areas of the superstructure. The accumulation of bird droppings, feathers and nesting material can pose a huge problems like equipment damage through metal corrosion and structural weakness, damaging ongoing paint jobs and if lodged inside open engines can lead to engine failures mid-flight. It can also pose a danger to personnel safety or cause distraction during maintenance work posing a threat to aviation safety. As the constant maintenance required for the Hangar floor and other surfaces due to the birds is time consuming and expensive, the MRO team devised various methods and devices for combating this persistent issue which are discussed in this Case Study.\n",
    "GATL/Airports\n",
    "1\n",
    "---\n",
    "# Introduction to MRO\n",
    "GMR Aero Technic Ltd. (GATL) is a 100% subsidiary of GMR Hyderabad International Airport Ltd. (GHIAL), which offers world class third party independent airframe Maintenance, Repair & Overhaul (MRO) services from its facility at Rajiv Gandhi International Airport (RGIA), Hyderabad. GATL has its facilities spread over an area of 28 acres at Hyderabad airport which is a mere 2 hours flying time away from major Indian cities and only 3-5 hours away from major cities in the Middle East & South-East Asia.\n",
    "GATL is equipped with one wide body hangar, one narrow body hangar and a dedicated paint hangar to provide base maintenance services, for Airbus A320 family, ATR 42/72 family, Boeing 737-NG family & Bombardier Q400. GATL can perform maintenance checks on five narrow body aircraft and one turboprop simultaneously. GATL’s customer base includes major commercial airlines in the Indian sub-continent viz. Indigo, Jet Airways, Go Air, SpiceJet, AirAsia India, Vistara, TruJet & International Airlines viz. Oman Air, Flynas & Golden Myanmar Airlines.\n",
    "# Problem Description\n",
    "Hangars are built with the intent of creating a sheltered environment in which to perform maintenance, conduct inspections, and otherwise operate on aircrafts with their high tails and wide wingspans. To avoid using support columns for the roofs of hangars, which would limit space and access, a system of metal trusses, reinforced by bricks, concrete and iron rods, serves to hold the roof in place. High bay doors, which roll on railroad tracks, provide the space necessary to bring aircraft into and out of the hangar.\n",
    "Since the hangars or aircraft maintenance bays are protected high and wide structures, they are extremely appealing to birds like pigeons and sparrows, which seek the roof-supporting I-beams and bars for nesting sites and shelter. Birds often enter through various openings and roost in the available flat areas of the superstructure. Even when doors are closed, birds are able to find access through broken windows, small holes, and ventilation ducts. Once inside, birds usually search for suitable nesting/roosting sites in the overhead structure.\n",
    "---\n",
    "From this vantage point, they are able to avoid most dangers, and also produce the most damage. Apart from being a risk to health and hygiene and a cleaning nightmare, the accumulation of bird droppings, feathers and nesting material can pose huge problems in an MRO Unit.\n",
    "Equipment Damage: Aircraft paint is designed to withstand the wide ranges of heat and cold to maintain a smooth aircraft surface for flight. Bird droppings, accumulating on the aluminum skin of airplanes and equipment parts, can chip/peel off the paint, speed up corrosion of the metal and eventually weaken their structure. This requires extensive cleaning and repairs and takes valuable time away from actual aircraft maintenance. If the droppings are numerous, components may have to be replaced, costing lakhs of rupees in new parts and man-hours.\n",
    "Bird droppings on newly painted airplanes results in damaging the paint job, and, often requires the whole aircraft to be repainted, which is very expensive.\n",
    "Another critical concern is if droppings, feathers or other matter get into the open engines during repair or overhaul and get lodged there, they could stall an engine during flight. Birds can also make their nests in wheel wells, panel openings, engines, and inside open cockpits, interfering with moving parts and causing fire hazards.\n",
    "Personnel Safety: There is a possibility of diseases (birds being carriers for many diseases) or injuries (e.g. slipping on a floor slick with droppings) as a result of the presence of birds in Hangars. In any case, a bird infested hangar may be perceived unsafe by Employees and Management and may lead to poor work habits and low morale.\n",
    "Employee Morale: It is difficult to get workers to use equipment covered with bird droppings. Not only are bird droppings a cause for hygiene related concerns, employees may get distracted on hearing birds flapping overhead and droppings falling around their workspace in the hangar. Any such distraction can lead to errors in maintenance work which may prove costly or even fatal!\n",
    "Another distressing by-product of birds in a hangar is the possible accumulation of mites, which may fall on workers from bird nests, insulation, or from the birds themselves.\n",
    "GATL/Airports\n",
    "3\n",
    "---\n",
    "With such unfavorable working conditions, the mental attitude of employees severely declines.\n",
    "The constant maintenance required for the equipment, hangar floor and other surfaces due to the birds is time-consuming and expensive.\n",
    "# Solution Description\n",
    "As with any problem where a biological system (in this case, birds) is involved, diversification is important in developing solutions. The MRO team works with a variety of methods for dealing with the hazards from birds. Initial methods are similar to those taken by farmers to remove pest birds from crops. These techniques offered a limited degree of success for indoor use; therefore new methods were devised which were aimed less at dealing with a food source and more at making the shelter undesirable.\n",
    "To combat this issue, any or a combination of the following devices maybe deployed,\n",
    "|1. Scaring devices:|Using visual deterrents to bird proof facilities, for e.g. stringing iridescent reflective foil or flash tape around the beams; creating an ‘optical distraction zone’ with inflatable balloons or stuffed predator birds. These methods are economical but short term as birds get used to the scaring devices and learn to ignore them. Another proactive scaring approach is to use a falconer to drive away the birds. However, this is a recurring cost and makes it an expensive solution.|\n",
    "|---|---|\n",
    "|2. Repellent devices:|1. Misting systems (Humane method employing a natural extract with bird deterring qualities – requires refilling and maintenance)\n",
    "2. Electric track (delivers a non-lethal electric shock discouraging birds from landing/roosting – requires constant electric source and maintenance)\n",
    "3. Ultrasonic Bird repellers - he high-frequency ultrasonic bird repellent sounds that our devices produce don’t harm birds, but they do “feel the pressure” of the sound waves. The pressure waves can irritate and disorient birds by interfering with their ability\n",
    "|\n",
    "GATL/Airports\n",
    "---\n",
    "to detect the earth’s magnetic field. Birds quickly learn to avoid areas where they have experienced an ultrasonic attack.\n",
    "Bird slope (angled slippery PVC panels that cause pest birds to slide off on landing)\n",
    "Bird spikes (harmless, low maintenance system ideal for scaring pigeons or larger birds, easy installation)\n",
    "Bird spiders (spikes with waving arms to scare away wild birds)\n",
    "Net systems: This provides an advantage in large areas. Since the major attraction of hangars is a safe protected roosting area, one method of excluding birds is to deny access to the hangar superstructure by using plastic netting. A good netting for this purpose must be lightweight, durable, and fire resistant. Netting comes in various mesh sizes and materials to deter a wide range of birds – heavy duty bird netting maybe UV stabilized, flame resistant and rot- and water-proof. Although the netting itself is inexpensive, installation costs can be high. The net needs to be placed such that it does not interfere with utilities such as fire protection systems, lighting fixtures and crane travel. The difficulty lies in reaching beams with high-lift equipment to fasten the sheets of netting while avoiding hangar lighting, overhead cranes, and important access areas. If any spaces are left, birds will quickly find them and gain entrance to roosting areas. For this, copper mesh cloth can be rolled and stuffed into crack or holes to let air circulate but keep birds out. If unable to get out, they will get caught or die in the netting, and must be removed using a highlift, by cutting the net, removing the carcass, and repairing the hole. Netting systems though quite efficient and safe once installed, require monitoring to see where birds are getting through and getting them out making this method successful with some minor drawbacks.\n",
    "Structural Design: Birds are rarely considered when designing any aircraft facility, but there are several alterations which could decrease problems from birds. For instance, one new concept in hangar design suggests moving the support beams to the outside of the structure. This makes roosting less attractive, and keeps any droppings away from people and planes. Some hangars have been fitted with a \"false ceiling\" just below the\n",
    "---\n",
    "# Implementation at GATL\n",
    "Details of Bird-proofing methods, equipment and devices deployed at MRO are as described below.\n",
    "1. Laser Beams - Bird-X Laser Specifications\n",
    "Laser Power: Red: 650nm100mw; Green: 532nm50mw\n",
    "Unit power: 4.9mw RED + 4.9mw GREEN\n",
    "Power consumption: 50 watt; Net weight: 15kg\n",
    "Power: AC100-240V, 50-60Hz Current: 100mA\n",
    "Classification: Class 3R Laser color: Red+Green\n",
    "Size (mm): L(18.5)*W(14.8)*H(7.0) CM\n",
    "Operating temperature: 0 C-40 C\n",
    "2. Bird repellent: e.g. Ultrasonic sounds and sonic sounds emitted by Digital Bird Repeller (BIRD-X BB-PRO kit). It contains control unit, adaptor & four speakers.\n",
    "---\n",
    "3. Chemical Sprays: Weekly once spraying across the hangar (at the roof area for enhanced effectiveness)\n",
    "DhaSmart\n",
    "DhaSmart\n",
    "4. Bird Net: Anti-birds net has been installed by Pest control (India) Pvt. Limited of size 25mm*25mm nylon material which is Heat & UV resistant.\n",
    "GATL/Airports\n",
    "7\n",
    "---\n",
    "5. Door Installation\n",
    "6. Gel Application: Hughes and Hughes - Pestgo Non Toxic Bird Deterrent Gel has been applied on overhead crane movement beams top side. This makes a slippery surface on the top of the structure and ensures birds will slip / loose foothold because of the gel applied at the required places and subsequently stop sitting / roosting there.\n",
    "7. Bird Spikes\n",
    "|GATL/Airports|BLUE Staa|\n",
    "|---|---|\n",
    "| |8|\n",
    "---\n",
    "# Bird Traps\n",
    "# Thunder Boom\n",
    "# Key Challenges\n",
    "The key challenges faced during pe process were as follows,\n",
    " Accepted intrusion prevention measures need to be coordinated wip Environmental and Regulatory norms for MRO\n",
    " Design intrusion prevention systems to not restrict access to Building systems\n",
    " Installation of intrusion prevention mepods especially netting need to be coordinated wip oper overhead structures like lighting fixtures, bridge cranes, foam fire protection systems, sprinklers, Rain water drain lines, etc.\n",
    "'''"
   ]
  },
  {
   "cell_type": "code",
   "execution_count": 7,
   "id": "e55b26fd",
   "metadata": {},
   "outputs": [
    {
     "name": "stderr",
     "output_type": "stream",
     "text": [
      "<>:2: SyntaxWarning: invalid escape sequence '\\*'\n",
      "<>:2: SyntaxWarning: invalid escape sequence '\\*'\n",
      "C:\\Users\\sampath.emandi\\AppData\\Local\\Temp\\ipykernel_94732\\180254650.py:2: SyntaxWarning: invalid escape sequence '\\*'\n",
      "  content_text = \"\"\"\n"
     ]
    }
   ],
   "source": [
    "# Example Markdown text\n",
    "content_text = \"\"\"\n",
    "\n",
    "<figure>\n",
    "\n",
    "![](figures/0)<!-- FigureContent=\"The image displays a logo on the left, which is the emblem of India composed of four lions standing back to back, signifying power, courage, pride, and confidence. Below the emblem, text in Devanagari script likely represents the government body associated with the emblem. To the right is text in English that reads \"Data from: https://upag-gov.in/ ES&E Division, Department of Agriculture & Farmer Welfare.\" The URL provided suggests that the data is sourced from a website related to agriculture and farmer welfare, specifically from a division called ES&E (which might stand for Economics, Statistics & Extension) within the department, and this department is likely associated with the government of Uttar Pradesh, India considering the \"up\" in the URL. There is also a stylized graphic in green and yellow depicting what appears to be a sprouting plant or agricultural symbol, representing the theme of agriculture.\" -->\n",
    "\n",
    "<!-- FigureContent=\"Data from: https://upag.gov.in/ ES&E Division, Department of Agriculture & Farmer Welfare. अपनेल रूपले\" -->\n",
    "\n",
    "</figure>\n",
    "\n",
    "\n",
    "Commodity Report: Rapeseed & Mustard\n",
    "===\n",
    "\n",
    "Key parameters on commodity situation are discussed below\n",
    "===\n",
    "\n",
    "R&M OILSEED\n",
    "===\n",
    "\n",
    "\n",
    "## CROP CALENDER:\n",
    "\n",
    "R&M oilseed is grown during the Rabi season. The sowing is done mainly between October and November and the crop is harvested mainly between February and April.\n",
    "\n",
    "\n",
    "## Figure 1: Crop Calendar\n",
    " :selected:\n",
    "<figure>\n",
    "\n",
    "![](figures/1)<!-- FigureContent=\"The image shows two tabs or buttons side by side. On the left is a tab with a green colored background labeled \"Harvesting,\" and on the right is a tab with a blue colored background labeled \"Sowing.\" The \"Harvesting\" tab appears to be the active or selected option, as indicated by its brighter color and lack of a border compared to the \"Sowing\" tab. The \"Sowing\" tab seems unselected, with a darker background and an outline.\" -->\n",
    "\n",
    "<!-- FigureContent=\"Harvesting Sowing\" -->\n",
    "\n",
    "</figure>\n",
    "\n",
    "\n",
    "| SEASON | JUN | JUL | AUG | SEP | OCT | NOV | DEC | JAN | FEB | MAR | APR | MAY |\n",
    "| - | - | - | - | - | - | - | - | - | - | - | - | - |\n",
    "| Rabi | | | | | | | | | | | | |\n",
    "\n",
    "Source: ICAR\n",
    "\n",
    "\n",
    "## PRODUCTION:\n",
    "\n",
    "As per GOI's Third Advance Estimates, 2023-24, \n",
    "R&M production in the current year is estimated to be 131.61 LMTs, \n",
    "slightly higher than last year's production of 126.43 LMT. \n",
    "All India production increased by 23.71% when compared to the last 5-year average. \n",
    "Rajasthan accounted for 45.41% of the total production in 2023-24.\n",
    "India's CAGR for R&M production for the last 5 years was 6.44%. \n",
    "The conversion ratio for R&M oil is 33% and for meal is 67%.\n",
    "\n",
    "<figure>\n",
    "\n",
    "<figcaption>\n",
    "\n",
    "Figure 2: Statewise Rapeseed & Mustard Production Share of Top 5 States (2023-24)\\*\n",
    "\n",
    "</figcaption>\n",
    "\n",
    "![](figures/2)<!-- FigureContent=\"The image shows a horizontal bar graph titled \"Figure 2: Statewise Rapeseed & Mustard Production Share of Top 5 States (2023-24)*\". \n",
    "The graph displays the percentage share of production across five different states, \n",
    "which are listed on the horizontal axis.\n",
    "\n",
    "The bars represent the following states and their respective production share percentages:\n",
    "\n",
    "- Rajasthan: 45.41%\n",
    "- Uttar Pradesh: 14.24%\n",
    "- Madhya Pradesh: 13.28%\n",
    "- Haryana: 10.78%\n",
    "- West Bengal: 5.99%\n",
    "\n",
    "The production share is illustrated on the vertical axis that ranges from 0% to 40%, in increments of 10. The bars for each state are color-coded in shades of blue-green, with the color intensity apparently corresponding to the size of the production share. Darker shades indicate larger shares, as suggested by the 'Color Scale' legend on the right side of the graph, which shows a gradient from light to dark with values from 10 to 40, even though such numbers do not overtly correlate with the production shares displayed in the graph.\n",
    "\n",
    "Please note that there is an asterisk (*) next to the year (2023-24), which typically indicates a footnote or additional information somewhere in the associated document, which is not visible in the image provided.\" -->\n",
    "\n",
    "<!-- FigureContent=\"45.41% Color Scale 40 Production share (%) 40 ¥30 30 320 20 14.24% 10 13.28% 10.78% 5.99% 10 0 Rajasthan Uttar Pradesh Madhya Pradesh Haryana West Bengal\" -->\n",
    "\n",
    "</figure>\n",
    "\n",
    "\n",
    "\\*Values from 2023-24 are from Third Advance Estimates, Rabi\n",
    "\n",
    "Source: DA&FW\n",
    "\n",
    "Table 1: Top 5 Rapeseed & Mustard Producing States, 2023-24\\* (Production in LMTs)\n",
    "\n",
    "| State | Current Year (2023-2024) | Previous Year (2022-2023) | Year (2021-2022) | Last 5 years Average |\n",
    "| - | - | - | - | - |\n",
    "| Rajasthan | 59.77 | 58.32 | 57.76 | 48.83 |\n",
    "| Uttar Pradesh | 18.75 | 16.20 | 10.33 | 11.47 |\n",
    "| Madhya Pradesh | 17.48 | 15.51 | 16.91 | 13.25 |\n",
    "| Haryana | 14.19 | 13.02 | 13.66 | 12.77 |\n",
    "| West Bengal | 7.88 | 8.16 | 7.43 | 7.49 |\n",
    "| All India | 131.61 | 126.43 | 119.63 | 106.39 |\n",
    "\n",
    "\\*Values from 2023-24 are from Third Advance Estimates, Rabi Source: DA&FW\n",
    ":selected:<figure>\n",
    "\n",
    "![](figures/3)<!-- FigureContent=\"The image is a small banner or footer likely taken from a website or document. On the left side of the image, there is an emblem, which appears to be the state emblem of India, featuring the Lion Capital of Ashoka. Below the emblem, there is text in Hindi, which is not clearly legible, but it may be a motto or a tagline.\n",
    "\n",
    "In the middle, there is text that says \"Data from: https://upag-gov.in/\" followed by \"ES&E Division, Department of Agriculture & Farmer Welfare.\" This indicates that the information or data related to the banner has been sourced from the mentioned website, which appears to be associated with the Agricultural Department of a region or state in India, possibly Uttar Pradesh given the \"upag\" in the URL.\n",
    "\n",
    "On the right side, next to this text, there is a stylized graphic of what looks to be a plant or crop with two leaves and a sheaf of grain in yellow and green colors, which are often used to represent agriculture.\n",
    "\n",
    "The overall image seems informational and suggests a connection with agricultural data and farmer welfare from an official government source in India.\" -->\n",
    "\n",
    "<!-- FigureContent=\"Data from: https://upag.gov.in/ ES&E Division, Department of Agriculture & Farmer Welfare. अपनेव अपने\" -->\n",
    "\n",
    "</figure>\n",
    "\n",
    "\n",
    "\n",
    "## ARRIVALS & PRICES:\n",
    "\n",
    "Arrivals: In May 2024, the all-India mandi arrivals for R&M were 3.05 LMT. The arrivals in Apr 2024, were 7.28 LMT, while in May 2023 3.18 LMT arrived in the mandis. Cumulative arrivals for Jan to May in 2024 are 21.34 LMT, while in 2023 the arrivals were 22.40 LMT\n",
    "\n",
    "Mandi Prices: All-India wholesale mandi prices of R&M oilseed was Rs. 5527.95 per quintal in May 2024. In Apr 2024 mandi prices were Rs. 5205.99 per quintal. Compared to same month of last year prices are higher by 6.29% when prices were Rs. 5201.06 per quintal. These prices are lower than the MSP of Rs. 5650 per quintal.\n",
    "\n",
    "<figure>\n",
    "\n",
    "![](figures/4)<!-- FigureContent=\"This image is a horizontal bar chart titled \"Figure 5: All India K&H Arrivals Month wise Comparison (LMT).\" It shows the quantity of arrivals (in Lakh Metric Tonnes, LMT) for certain months spanning from May 2021 to May 2024. Each bar represents the quantity of arrivals for a specific month, and above each bar is a numerical value indicating the precise quantity in LMT.\n",
    "\n",
    "Starting from May 2021 with 0.95 LMT and continuing to May 2024 with 7.28 LMT, the chart displays a fluctuating pattern with some months having noticeably larger amounts of arrivals than others. For example, April 2022 shows the highest quantity at 12.94 LMT, which significantly stands out on the chart. Conversely, several months such as December 2023 and January 2024 show lower quantities, around 1.22 and 1.12 LMT, respectively.\n",
    "\n",
    "The chart is sourced from Agmarknet, as indicated by the image caption, which suggests the data pertains to agricultural market arrivals in India.\" -->\n",
    "\n",
    "<!-- FigureContent=\"Figure 3: All India R&M arrivals month wise comparison (LMT) 12.94 12 10 8 8.25 7.4 7.28 6 6.77 5.45 4 4.67 4.28 3.54 3.18 3.26 2 2.62 3.0 17.32 1.75 1.95 1.94 2.05 1,51 1.49 0.95 1.14 1.11 1.41 1.35 1.63 1.7 1.75 1.31 1.31 1.2 1.1 0 0.69 0.7. 0.73 1.05 0.97 May 2021 Jun 2021 Jul 2021 Aug 2021 Sep 2021 Oct 2021 Nov 2021 Dec 2021 Jan 2022 Feb 2022 Mar 2022 Apr 2022 May 2022 Jun 2022 Jul 2022 Aug 2022 Sep 2022 Oct 2022 Nov 2022 Dec 2022 Jan 2023 Feb 2023 Mar 2023 Apr 2023 May 2023 Jun 2023 Jul 2023 Aug 2023 Sep 2023 Oct 2023 Nov 2023 Jan 2024 Dec 2023 Feb 2024 Mar 2024 Apr 2024 May 2024 :selected: Arrivals(Tonnes)\" -->\n",
    "\n",
    "<figcaption>\n",
    "\n",
    "Source: Agmarknet\n",
    "\n",
    "</figcaption>\n",
    "\n",
    "</figure>\n",
    "\n",
    "\n",
    "Figure 4: All India Mandi prices & MSP of R&M in Rs./Qtl\n",
    "\n",
    "<figure>\n",
    "\n",
    "![](figures/5)<!-- FigureContent=\"The image is a line graph with two lines representing price trends over time from May 2022 to May 2024. Each line uses a different color: one is orange, and the other is blue, to represent different datasets or categories. \n",
    "\n",
    "The vertical axis on the left is labeled \"Prices (Rs/Qtl),\" showing the price range from 5000 to 6500 with increments, suggesting these prices are in Indian Rupees per Quintal. \n",
    "\n",
    "The horizontal axis along the bottom shows the months from May 2022 to May 2024, spaced three months apart. This indicates that data points may be quarterly.\n",
    "\n",
    "The orange line starts at the top with a value near 6471.11 in May 2022 and then mostly declines with some fluctuations until reaching a low point around February 2023. It then increases and has some variability before it ends at a value of 5300.60 in May 2024.\n",
    "\n",
    "The blue line remains constant at a value of 5050.00 from May 2022 until about February 2023. After that, it shows an upward trend with some small fluctuations, ending at a value of 5650.00 in May 2024. \n",
    "\n",
    "The graph may represent the price movements of two different commodities, products, or markets over the specified time period. Without more context, it's challenging to provide a specific interpretation of what these lines represent.\" -->\n",
    "\n",
    "<!-- FigureContent=\"6500 6471.11 6000 Prices (Rs/Qtl) 5650.00 35500 5300.60 5050.00 5000 May - 2022 Aug - 2022 Nov - 2022 Feb - 2023 May - 2023 Aug - 2023 Nov - 2023 Feb - 2024 May - 2024\" -->\n",
    "\n",
    "</figure>\n",
    "\n",
    "\n",
    "\\-MSP (DA&FW) - Mandi Modal Price (AgMarknet)\n",
    "\n",
    "Source: Agmarknet & DA&FW\n",
    "\"\"\"\n"
   ]
  },
  {
   "cell_type": "code",
   "execution_count": 8,
   "id": "15dcf8de-551a-4477-8e68-57c4c50ddbc4",
   "metadata": {},
   "outputs": [
    {
     "data": {
      "text/plain": [
       "[Document(page_content='<figure>\\n\\n![](figures/0)<!-- FigureContent=\"The image displays a logo on the left, which is the emblem of India composed of four lions standing back to back, signifying power, courage, pride, and confidence. Below the emblem, text in Devanagari script likely represents the government body associated with the emblem. To the right is text in English that reads \"Data from: https://upag-gov.in/ ES&E Division, Department of Agriculture & Farmer Welfare.\" The URL provided suggests that the data is sourced from a website related to agriculture and farmer welfare, specifically from a division called ES&E (which might stand for Economics, Statistics & Extension) within the department, and this department is likely associated with the government of Uttar Pradesh, India considering the \"up\" in the URL. There is also a stylized graphic in green and yellow depicting what appears to be a sprouting plant or agricultural symbol, representing the theme of agriculture.\" -->\\n\\n<!-- FigureContent=\"Data from: https://upag.gov.in/ ES&E Division, Department of Agriculture & Farmer Welfare. अपनेल रूपले\" -->\\n\\n</figure>\\n\\n\\nCommodity Report: Rapeseed & Mustard\\n===\\n\\nKey parameters on commodity situation are discussed below\\n===\\n\\nR&M OILSEED\\n===\\n\\n\\n## CROP CALENDER:\\n\\nR&M oilseed is grown during the Rabi season. The sowing is done mainly between October and November and the crop is harvested mainly between February and April.\\n\\n\\n## Figure 1: Crop Calendar\\n :selected:\\n<figure>\\n\\n![](figures/1)<!-- FigureContent=\"The image shows two tabs or buttons side by side. On the left is a tab with a green colored background labeled \"Harvesting,\" and on the right is a tab with a blue colored background labeled \"Sowing.\" The \"Harvesting\" tab appears to be the active or selected option, as indicated by its brighter color and lack of a border compared to the \"Sowing\" tab. The \"Sowing\" tab seems unselected, with a darker background and an outline.\" -->\\n\\n<!-- FigureContent=\"Harvesting Sowing\" -->\\n\\n</figure>\\n\\n\\n| SEASON | JUN | JUL | AUG | SEP | OCT | NOV | DEC | JAN | FEB | MAR | APR | MAY |\\n| - | - | - | - | - | - | - | - | - | - | - | - | - |\\n| Rabi | | | | | | | | | | | | |\\n\\nSource: ICAR\\n\\n\\n## PRODUCTION:\\n\\nAs per GOI\\'s Third Advance Estimates, 2023-24, \\nR&M production in the current year is estimated to be 131.61 LMTs, \\nslightly higher than last year\\'s production of 126.43 LMT. \\nAll India production increased by 23.71% when compared to the last 5-year average. \\nRajasthan accounted for 45.41% of the total production in 2023-24.\\nIndia\\'s CAGR for R&M production for the last 5 years was 6.44%. \\nThe conversion ratio for R&M oil is 33% and for meal is 67%.\\n\\n<figure>\\n\\n<figcaption>\\n\\nFigure 2: Statewise Rapeseed & Mustard Production Share of Top 5 States (2023-24)\\\\*\\n\\n</figcaption>\\n\\n![](figures/2)<!-- FigureContent=\"The image shows a horizontal bar graph titled \"Figure 2: Statewise Rapeseed & Mustard Production Share of Top 5 States (2023-24)*\". \\nThe graph displays the percentage share of production across five different states, \\nwhich are listed on the horizontal axis.\\n\\nThe bars represent the following states and their respective production share percentages:\\n\\n- Rajasthan: 45.41%\\n- Uttar Pradesh: 14.24%\\n- Madhya Pradesh: 13.28%\\n- Haryana: 10.78%\\n- West Bengal: 5.99%\\n\\nThe production share is illustrated on the vertical axis that ranges from 0% to 40%, in increments of 10. The bars for each state are color-coded in shades of blue-green, with the color intensity apparently corresponding to the size of the production share. Darker shades indicate larger shares, as suggested by the \\'Color Scale\\' legend on the right side of the graph, which shows a gradient from light to dark with values from 10 to 40, even though such numbers do not overtly correlate with the production shares displayed in the graph.'),\n",
       " Document(page_content='Please note that there is an asterisk (*) next to the year (2023-24), which typically indicates a footnote or additional information somewhere in the associated document, which is not visible in the image provided.\" -->\\n\\n<!-- FigureContent=\"45.41% Color Scale 40 Production share (%) 40 ¥30 30 320 20 14.24% 10 13.28% 10.78% 5.99% 10 0 Rajasthan Uttar Pradesh Madhya Pradesh Haryana West Bengal\" -->\\n\\n</figure>\\n\\n\\n\\\\*Values from 2023-24 are from Third Advance Estimates, Rabi\\n\\nSource: DA&FW\\n\\nTable 1: Top 5 Rapeseed & Mustard Producing States, 2023-24\\\\* (Production in LMTs)\\n\\n| State | Current Year (2023-2024) | Previous Year (2022-2023) | Year (2021-2022) | Last 5 years Average |\\n| - | - | - | - | - |\\n| Rajasthan | 59.77 | 58.32 | 57.76 | 48.83 |\\n| Uttar Pradesh | 18.75 | 16.20 | 10.33 | 11.47 |\\n| Madhya Pradesh | 17.48 | 15.51 | 16.91 | 13.25 |\\n| Haryana | 14.19 | 13.02 | 13.66 | 12.77 |\\n| West Bengal | 7.88 | 8.16 | 7.43 | 7.49 |\\n| All India | 131.61 | 126.43 | 119.63 | 106.39 |\\n\\n\\\\*Values from 2023-24 are from Third Advance Estimates, Rabi Source: DA&FW\\n:selected:<figure>\\n\\n![](figures/3)<!-- FigureContent=\"The image is a small banner or footer likely taken from a website or document. On the left side of the image, there is an emblem, which appears to be the state emblem of India, featuring the Lion Capital of Ashoka. Below the emblem, there is text in Hindi, which is not clearly legible, but it may be a motto or a tagline.\\n\\nIn the middle, there is text that says \"Data from: https://upag-gov.in/\" followed by \"ES&E Division, Department of Agriculture & Farmer Welfare.\" This indicates that the information or data related to the banner has been sourced from the mentioned website, which appears to be associated with the Agricultural Department of a region or state in India, possibly Uttar Pradesh given the \"upag\" in the URL.\\n\\nOn the right side, next to this text, there is a stylized graphic of what looks to be a plant or crop with two leaves and a sheaf of grain in yellow and green colors, which are often used to represent agriculture.\\n\\nThe overall image seems informational and suggests a connection with agricultural data and farmer welfare from an official government source in India.\" -->\\n\\n<!-- FigureContent=\"Data from: https://upag.gov.in/ ES&E Division, Department of Agriculture & Farmer Welfare. अपनेव अपने\" -->\\n\\n</figure>\\n\\n\\n\\n## ARRIVALS & PRICES:\\n\\nArrivals: In May 2024, the all-India mandi arrivals for R&M were 3.05 LMT. The arrivals in Apr 2024, were 7.28 LMT, while in May 2023 3.18 LMT arrived in the mandis. Cumulative arrivals for Jan to May in 2024 are 21.34 LMT, while in 2023 the arrivals were 22.40 LMT\\n\\nMandi Prices: All-India wholesale mandi prices of R&M oilseed was Rs. 5527.95 per quintal in May 2024. In Apr 2024 mandi prices were Rs. 5205.99 per quintal. Compared to same month of last year prices are higher by 6.29% when prices were Rs. 5201.06 per quintal. These prices are lower than the MSP of Rs. 5650 per quintal.\\n\\n<figure>\\n\\n![](figures/4)<!-- FigureContent=\"This image is a horizontal bar chart titled \"Figure 5: All India K&H Arrivals Month wise Comparison (LMT).\" It shows the quantity of arrivals (in Lakh Metric Tonnes, LMT) for certain months spanning from May 2021 to May 2024. Each bar represents the quantity of arrivals for a specific month, and above each bar is a numerical value indicating the precise quantity in LMT.\\n\\nStarting from May 2021 with 0.95 LMT and continuing to May 2024 with 7.28 LMT, the chart displays a fluctuating pattern with some months having noticeably larger amounts of arrivals than others. For example, April 2022 shows the highest quantity at 12.94 LMT, which significantly stands out on the chart. Conversely, several months such as December 2023 and January 2024 show lower quantities, around 1.22 and 1.12 LMT, respectively.\\n\\nThe chart is sourced from Agmarknet, as indicated by the image caption, which suggests the data pertains to agricultural market arrivals in India.\" -->'),\n",
       " Document(page_content='The chart is sourced from Agmarknet, as indicated by the image caption, which suggests the data pertains to agricultural market arrivals in India.\" -->\\n\\n<!-- FigureContent=\"Figure 3: All India R&M arrivals month wise comparison (LMT) 12.94 12 10 8 8.25 7.4 7.28 6 6.77 5.45 4 4.67 4.28 3.54 3.18 3.26 2 2.62 3.0 17.32 1.75 1.95 1.94 2.05 1,51 1.49 0.95 1.14 1.11 1.41 1.35 1.63 1.7 1.75 1.31 1.31 1.2 1.1 0 0.69 0.7. 0.73 1.05 0.97 May 2021 Jun 2021 Jul 2021 Aug 2021 Sep 2021 Oct 2021 Nov 2021 Dec 2021 Jan 2022 Feb 2022 Mar 2022 Apr 2022 May 2022 Jun 2022 Jul 2022 Aug 2022 Sep 2022 Oct 2022 Nov 2022 Dec 2022 Jan 2023 Feb 2023 Mar 2023 Apr 2023 May 2023 Jun 2023 Jul 2023 Aug 2023 Sep 2023 Oct 2023 Nov 2023 Jan 2024 Dec 2023 Feb 2024 Mar 2024 Apr 2024 May 2024 :selected: Arrivals(Tonnes)\" -->\\n\\n<figcaption>\\n\\nSource: Agmarknet\\n\\n</figcaption>\\n\\n</figure>\\n\\n\\nFigure 4: All India Mandi prices & MSP of R&M in Rs./Qtl\\n\\n<figure>\\n\\n![](figures/5)<!-- FigureContent=\"The image is a line graph with two lines representing price trends over time from May 2022 to May 2024. Each line uses a different color: one is orange, and the other is blue, to represent different datasets or categories. \\n\\nThe vertical axis on the left is labeled \"Prices (Rs/Qtl),\" showing the price range from 5000 to 6500 with increments, suggesting these prices are in Indian Rupees per Quintal. \\n\\nThe horizontal axis along the bottom shows the months from May 2022 to May 2024, spaced three months apart. This indicates that data points may be quarterly.\\n\\nThe orange line starts at the top with a value near 6471.11 in May 2022 and then mostly declines with some fluctuations until reaching a low point around February 2023. It then increases and has some variability before it ends at a value of 5300.60 in May 2024.\\n\\nThe blue line remains constant at a value of 5050.00 from May 2022 until about February 2023. After that, it shows an upward trend with some small fluctuations, ending at a value of 5650.00 in May 2024. \\n\\nThe graph may represent the price movements of two different commodities, products, or markets over the specified time period. Without more context, it\\'s challenging to provide a specific interpretation of what these lines represent.\" -->\\n\\n<!-- FigureContent=\"6500 6471.11 6000 Prices (Rs/Qtl) 5650.00 35500 5300.60 5050.00 5000 May - 2022 Aug - 2022 Nov - 2022 Feb - 2023 May - 2023 Aug - 2023 Nov - 2023 Feb - 2024 May - 2024\" -->\\n\\n</figure>\\n\\n\\n\\\\-MSP (DA&FW) - Mandi Modal Price (AgMarknet)\\n\\nSource: Agmarknet & DA&FW')]"
      ]
     },
     "execution_count": 8,
     "metadata": {},
     "output_type": "execute_result"
    }
   ],
   "source": [
    "splitter.create_documents([content_text])"
   ]
  },
  {
   "cell_type": "markdown",
   "id": "56591620-ef0c-41c2-b539-35ad676ed20f",
   "metadata": {},
   "source": [
    "Notice how the splits gravitate towards markdown sections. However, it's still not perfect. Check out how there is a chunk with just \"there\" in it. You'll run into this at low-sized chunks.\n",
    "\n",
    "### Python\n",
    "\n",
    "See the python splitters [here](https://github.com/langchain-ai/langchain/blob/9ef2feb6747f5a69d186bd623b569ad722829a5e/libs/langchain/langchain/text_splitter.py#L1069)\n",
    "\n",
    "* `\\nclass` - Classes first\n",
    "* `\\ndef` - Functions next\n",
    "* `\\n\\tdef` - Indented functions\n",
    "* `\\n\\n` - Double New lines\n",
    "* `\\n` - New Lines\n",
    "* `\" \"` - Spaces\n",
    "* `\"\"` - Characters\n",
    "\n",
    "\n",
    "Let's load up our splitter"
   ]
  },
  {
   "cell_type": "code",
   "execution_count": 25,
   "id": "66edcde5-1e96-4b61-8636-8129d31d7850",
   "metadata": {},
   "outputs": [],
   "source": [
    "from langchain.text_splitter import PythonCodeTextSplitter"
   ]
  },
  {
   "cell_type": "code",
   "execution_count": 26,
   "id": "2afa8f93-6b07-484f-86ff-9836f5a5fae1",
   "metadata": {},
   "outputs": [],
   "source": [
    "python_text = \"\"\"\n",
    "class Person:\n",
    "  def __init__(self, name, age):\n",
    "    self.name = name\n",
    "    self.age = age\n",
    "\n",
    "p1 = Person(\"John\", 36)\n",
    "\n",
    "for i in range(10):\n",
    "    print (i)\n",
    "\"\"\""
   ]
  },
  {
   "cell_type": "code",
   "execution_count": 27,
   "id": "6e8fcc85-714d-4b5c-a5ce-a3f30cfb447b",
   "metadata": {},
   "outputs": [],
   "source": [
    "python_splitter = PythonCodeTextSplitter(chunk_size=100, chunk_overlap=0)"
   ]
  },
  {
   "cell_type": "code",
   "execution_count": 28,
   "id": "a7b6dd89-6bb9-496a-a85d-3f1871ff9cd0",
   "metadata": {},
   "outputs": [
    {
     "data": {
      "text/plain": [
       "[Document(page_content='class Person:\\n  def __init__(self, name, age):\\n    self.name = name\\n    self.age = age'),\n",
       " Document(page_content='p1 = Person(\"John\", 36)\\n\\nfor i in range(10):\\n    print (i)')]"
      ]
     },
     "execution_count": 28,
     "metadata": {},
     "output_type": "execute_result"
    }
   ],
   "source": [
    "python_splitter.create_documents([python_text])"
   ]
  },
  {
   "cell_type": "markdown",
   "id": "6c004f19-9e67-451e-abdd-b103acce2996",
   "metadata": {},
   "source": [
    "Check out how the class stays together in a single document (good), then the rest of the code is in a second document (ok).\n",
    "\n",
    "I needed to play with the chunk size to get a clean result like that. You'll likely need to do the same for yours which is why using evaluations to determine optimal chunk sizes is crucial.\n",
    "\n",
    "### JS\n",
    "\n",
    "Very similar to python. See the separators [here](https://github.com/langchain-ai/langchain/blob/9ef2feb6747f5a69d186bd623b569ad722829a5e/libs/langchain/langchain/text_splitter.py#L983).\n",
    "\n",
    "Separators:\n",
    "* `\\nfunction` - Indicates the beginning of a function declaration\n",
    "* `\\nconst` - Used for declaring constant variables\n",
    "* `\\nlet` - Used for declaring block-scoped variables\n",
    "* `\\nvar` - Used for declaring a variable\n",
    "* `\\nclass` - Indicates the start of a class definition\n",
    "* `\\nif` - Indicates the beginning of an if statement\n",
    "* `\\nfor` - Used for for-loops\n",
    "* `\\nwhile` - Used for while-loops\n",
    "* `\\nswitch` - Used for switch statements\n",
    "* `\\ncase` - Used within switch statements\n",
    "* `\\ndefault` - Also used within switch statements\n",
    "* `\\n\\n` - Indicates a larger separation in text or code\n",
    "* `\\n` - Separates lines of code or text\n",
    "* `\" \"` - Separates words or tokens in the code\n",
    "* `\"\"` - Makes every character a separate element"
   ]
  },
  {
   "cell_type": "code",
   "execution_count": 29,
   "id": "a5225b66-4d79-455b-92a1-841fa23ccc4f",
   "metadata": {},
   "outputs": [],
   "source": [
    "from langchain.text_splitter import RecursiveCharacterTextSplitter, Language"
   ]
  },
  {
   "cell_type": "code",
   "execution_count": 30,
   "id": "d75090fa-4d22-4348-8452-eb50eafa784d",
   "metadata": {},
   "outputs": [],
   "source": [
    "javascript_text = \"\"\"\n",
    "// Function is called, the return value will end up in x\n",
    "let x = myFunction(4, 3);\n",
    "\n",
    "function myFunction(a, b) {\n",
    "// Function returns the product of a and b\n",
    "  return a * b;\n",
    "}\n",
    "\"\"\""
   ]
  },
  {
   "cell_type": "code",
   "execution_count": 31,
   "id": "909fde28-43ba-4f07-b9ae-04c21db04055",
   "metadata": {},
   "outputs": [],
   "source": [
    "js_splitter = RecursiveCharacterTextSplitter.from_language(\n",
    "    language=Language.JS, chunk_size=65, chunk_overlap=0\n",
    ")"
   ]
  },
  {
   "cell_type": "code",
   "execution_count": 32,
   "id": "5b70d936-bc31-4ecc-b190-6dd8fffdacb9",
   "metadata": {},
   "outputs": [
    {
     "data": {
      "text/plain": [
       "[Document(page_content='// Function is called, the return value will end up in x'),\n",
       " Document(page_content='let x = myFunction(4, 3);'),\n",
       " Document(page_content='function myFunction(a, b) {'),\n",
       " Document(page_content='// Function returns the product of a and b\\n  return a * b;\\n}')]"
      ]
     },
     "execution_count": 32,
     "metadata": {},
     "output_type": "execute_result"
    }
   ],
   "source": [
    "js_splitter.create_documents([javascript_text])"
   ]
  },
  {
   "cell_type": "markdown",
   "id": "8fab2014-e705-4ade-87ea-d967a9c01593",
   "metadata": {},
   "source": [
    "### PDFs w/ tables\n",
    "\n",
    "Ok now things will get a bit spicier.\n",
    "\n",
    "PDFs are an extremely common data type for language model work. Often they'll contain tables that contain information.\n",
    "\n",
    "This could be financial data, studies, academic papers, etc.\n",
    "\n",
    "Trying to split tables by a character based separator isn't reliable. We need to try out a different method. For a deep dive on this I recommend checking out [Lance Martin's](https://twitter.com/RLanceMartin) [tutorial](https://twitter.com/RLanceMartin/status/1721942636364456336) w/ LangChain.\n",
    "\n",
    "I'll be going through a text based methods. [Mayo](https://twitter.com/mayowaoshin) has also outlined a GPT-4V method which tries to pulls tables via vision rather than text. You can check out [here](https://twitter.com/mayowaoshin/status/1727399231734886633).\n",
    "\n",
    "A very convenient way to do this is with [Unstructured](https://unstructured.io/), a library dedicated to making your data LLM ready."
   ]
  },
  {
   "cell_type": "code",
   "execution_count": 33,
   "id": "ffd078d0-5651-4ab0-b299-b2ed5a4f7cef",
   "metadata": {},
   "outputs": [],
   "source": [
    "import os\n",
    "from unstructured.partition.pdf import partition_pdf\n",
    "from unstructured.staging.base import elements_to_json"
   ]
  },
  {
   "cell_type": "markdown",
   "id": "b174a72b-0d43-4440-9ef8-f5f3aed0c651",
   "metadata": {},
   "source": [
    "Let's load up our PDF and then parition it. This is a PDF from a [Salesforce earning report](https://investor.salesforce.com/financials/default.aspx)."
   ]
  },
  {
   "cell_type": "code",
   "execution_count": 34,
   "id": "2ae9042d-be6f-411a-8835-bda30ffa0805",
   "metadata": {},
   "outputs": [
    {
     "name": "stderr",
     "output_type": "stream",
     "text": [
      "Some weights of the model checkpoint at microsoft/table-transformer-structure-recognition were not used when initializing TableTransformerForObjectDetection: ['model.backbone.conv_encoder.model.layer3.0.downsample.1.num_batches_tracked', 'model.backbone.conv_encoder.model.layer4.0.downsample.1.num_batches_tracked', 'model.backbone.conv_encoder.model.layer2.0.downsample.1.num_batches_tracked']\n",
      "- This IS expected if you are initializing TableTransformerForObjectDetection from the checkpoint of a model trained on another task or with another architecture (e.g. initializing a BertForSequenceClassification model from a BertForPreTraining model).\n",
      "- This IS NOT expected if you are initializing TableTransformerForObjectDetection from the checkpoint of a model that you expect to be exactly identical (initializing a BertForSequenceClassification model from a BertForSequenceClassification model).\n"
     ]
    }
   ],
   "source": [
    "filename = \"static/SalesforceFinancial.pdf\"\n",
    "\n",
    "# Extracts the elements from the PDF\n",
    "elements = partition_pdf(\n",
    "    filename=filename,\n",
    "\n",
    "    # Unstructured Helpers\n",
    "    strategy=\"hi_res\", \n",
    "    infer_table_structure=True, \n",
    "    model_name=\"yolox\"\n",
    ")"
   ]
  },
  {
   "cell_type": "markdown",
   "id": "f65ad413-80f9-43da-8fb5-3a32373c3686",
   "metadata": {},
   "source": [
    "Let's look at our elements"
   ]
  },
  {
   "cell_type": "code",
   "execution_count": 35,
   "id": "0f5ac388-5b4e-4dcd-bf74-84220c8cdff4",
   "metadata": {},
   "outputs": [
    {
     "data": {
      "text/plain": [
       "[<unstructured.documents.elements.NarrativeText at 0x2bdecbfd0>,\n",
       " <unstructured.documents.elements.NarrativeText at 0x2ad356cd0>,\n",
       " <unstructured.documents.elements.NarrativeText at 0x2ba4e0cd0>,\n",
       " <unstructured.documents.elements.NarrativeText at 0x2af4148d0>,\n",
       " <unstructured.documents.elements.NarrativeText at 0x2ba846c90>,\n",
       " <unstructured.documents.elements.NarrativeText at 0x2ba8450d0>,\n",
       " <unstructured.documents.elements.NarrativeText at 0x2ba844990>,\n",
       " <unstructured.documents.elements.NarrativeText at 0x2ba944490>,\n",
       " <unstructured.documents.elements.Table at 0x2ba947b50>,\n",
       " <unstructured.documents.elements.NarrativeText at 0x2ad3d4f50>,\n",
       " <unstructured.documents.elements.Text at 0x2ba969f50>,\n",
       " <unstructured.documents.elements.Text at 0x177a411d0>]"
      ]
     },
     "execution_count": 35,
     "metadata": {},
     "output_type": "execute_result"
    }
   ],
   "source": [
    "elements"
   ]
  },
  {
   "cell_type": "markdown",
   "id": "1a081974-002c-4060-9d0c-2d4a5f270044",
   "metadata": {},
   "source": [
    "These are just unstructured objects, we could look at them all but I want to look at the table it parsed."
   ]
  },
  {
   "cell_type": "code",
   "execution_count": 36,
   "id": "9c5460db-689d-4e7a-a5bc-a10477c4a61e",
   "metadata": {},
   "outputs": [
    {
     "data": {
      "text/plain": [
       "'<table><thead><th>Revenue)</th><th>Guidance $7.69 - $7.70 Billion</th><th>Guidance $31.7 - $31.8 Billion</th></thead><tr><td>Y/Y Growth</td><td>~21%</td><td>~20%</td></tr><tr><td>FX Impact?)</td><td>~($200M) y/y FX</td><td>~($600M) y/y FX®</td></tr><tr><td>GAAP operating margin</td><td></td><td>~3.8%</td></tr><tr><td>Non-GAAP operating margin)</td><td></td><td>~20.4%</td></tr><tr><td>GAAP earnings (loss) per share</td><td>($0.03) - ($0.02)</td><td>$0.38 - $0.40</td></tr><tr><td>Non-GAAP earnings per share</td><td>$1.01 - $1.02</td><td>$4.74 - $4.76</td></tr><tr><td>Operating Cash Flow Growth (Y/Y)</td><td></td><td>~21% - 22%</td></tr><tr><td>Current Remaining Performance Obligation Growth (Y/Y)</td><td>~15%</td><td></td></tr></table>'"
      ]
     },
     "execution_count": 36,
     "metadata": {},
     "output_type": "execute_result"
    }
   ],
   "source": [
    "elements[-4].metadata.text_as_html"
   ]
  },
  {
   "cell_type": "markdown",
   "id": "8c269535-4fe9-44f2-8e0d-8578d706db7c",
   "metadata": {},
   "source": [
    "That table may look messy, but because it's in HTML format, the LLM is able to parse it much more easily than if it was tab or comma separated. You can copy and paste that html into a [html viewer](https://codebeautify.org/htmlviewer) online to see it reconstructed.\n",
    "\n",
    "<div style=\"text-align: center;\">\n",
    "    <img src=\"static/SalesforceFinancialTable.png\" alt=\"image\" style=\"max-width: 800px;\">\n",
    "</div>"
   ]
  },
  {
   "cell_type": "markdown",
   "id": "1ed1a5fe-245a-4d3c-86aa-03fca86ba5cf",
   "metadata": {},
   "source": [
    "Awesome, Unstructured was able to pull out the tables for us. It's not perfect, but the team is upgrading their toolset all the time.\n",
    "\n",
    "**Important Point:** Later on when we are doing semantic search over our chunks, trying to match on embeddings from the table directly will be difficult. A common practice that developers do is to *summarize* the table after you've extracted it. Then get an embedding of that summary. If the summary embedding matches what you're looking for, then pass the raw table to your LLM.\n",
    "\n",
    "### Multi-Modal (text + images)\n",
    "\n",
    "Next we'll dive into the world of multi-modal text splitting. This is a very active field and best practices are evolving. I'll show you a method that was made popular by [Lance Martin](https://twitter.com/RLanceMartin/status/1713638963255366091) of LangChain. You can check out his source code [here](https://github.com/langchain-ai/langchain/blob/master/cookbook/Semi_structured_and_multi_modal_RAG.ipynb). If you find a method that works better, share it out with the community!"
   ]
  },
  {
   "cell_type": "code",
   "execution_count": 37,
   "id": "dee2ed53-96c8-4cf3-89d9-681ff5d4552f",
   "metadata": {},
   "outputs": [],
   "source": [
    "#!pip3 install \"unstructured[all-docs]\"\n",
    "from typing import Any\n",
    "\n",
    "from pydantic import BaseModel\n",
    "from unstructured.partition.pdf import partition_pdf"
   ]
  },
  {
   "cell_type": "markdown",
   "id": "ea2f20e1-e0fb-4d17-8ec7-faa4276fba23",
   "metadata": {},
   "source": [
    "First, let's go get a PDF to work with. This will be from a visual instruction tuning [paper](https://llava-vl.github.io/).\n",
    "\n",
    "<div style=\"text-align: center;\">\n",
    "    <img src=\"static/VisualInstructionSnapshot.png\" alt=\"image\" style=\"max-width: 800px;\">\n",
    "</div>"
   ]
  },
  {
   "cell_type": "code",
   "execution_count": 38,
   "id": "3f2d1771-7170-48c2-a614-480d7d2167df",
   "metadata": {},
   "outputs": [],
   "source": [
    "filepath = \"static/VisualInstruction.pdf\""
   ]
  },
  {
   "cell_type": "code",
   "execution_count": 39,
   "id": "d9240942-2702-45ae-8333-8ac9c3e10343",
   "metadata": {},
   "outputs": [],
   "source": [
    "# Get elements\n",
    "raw_pdf_elements = partition_pdf(\n",
    "    filename=filepath,\n",
    "    \n",
    "    # Using pdf format to find embedded image blocks\n",
    "    extract_images_in_pdf=True,\n",
    "    \n",
    "    # Use layout model (YOLOX) to get bounding boxes (for tables) and find titles\n",
    "    # Titles are any sub-section of the document\n",
    "    infer_table_structure=True,\n",
    "    \n",
    "    # Post processing to aggregate text once we have the title\n",
    "    chunking_strategy=\"by_title\",\n",
    "    # Chunking params to aggregate text blocks\n",
    "    # Attempt to create a new chunk 3800 chars\n",
    "    # Attempt to keep chunks > 2000 chars\n",
    "    # Hard max on chunks\n",
    "    max_characters=4000,\n",
    "    new_after_n_chars=3800,\n",
    "    combine_text_under_n_chars=2000,\n",
    "    image_output_dir_path=\"static/pdfImages/\",\n",
    ")"
   ]
  },
  {
   "cell_type": "markdown",
   "id": "2c45aab5-5f51-4d67-9ea2-17c5489a5c2a",
   "metadata": {},
   "source": [
    "If you head over to `static/pdfImages/` and check out the images that were parsed.\n",
    "\n",
    "But the images don't do anything sitting in a folder, we need to do something with them! Though a bit outside the scope of chunking, let's talk about how to work with these.\n",
    "\n",
    "The common tactics will either use a multi-modal model to generate summaries of the images or use the image itself for your task. Others get embeddings of images (like [CLIP](https://openai.com/research/clip)).\n",
    "\n",
    "Let's generate summaries so you'll be inspired to take this to the next step. We'll use GPT-4V. Check out other models [here](https://platform.openai.com/docs/model)."
   ]
  },
  {
   "cell_type": "code",
   "execution_count": 40,
   "id": "fc40dacd-09a0-4ce0-ae8c-87a3910a1408",
   "metadata": {},
   "outputs": [
    {
     "data": {
      "text/plain": [
       "True"
      ]
     },
     "execution_count": 40,
     "metadata": {},
     "output_type": "execute_result"
    }
   ],
   "source": [
    "from langchain.chat_models import ChatOpenAI\n",
    "from langchain.schema.messages import HumanMessage\n",
    "import os\n",
    "from dotenv import load_dotenv\n",
    "from PIL import Image\n",
    "import base64\n",
    "import io\n",
    "\n",
    "load_dotenv()"
   ]
  },
  {
   "cell_type": "markdown",
   "id": "9fe7b48f-7da2-430f-a0dd-c8e1766854a3",
   "metadata": {},
   "source": [
    "We'll be using gpt-4-vision today"
   ]
  },
  {
   "cell_type": "code",
   "execution_count": 41,
   "id": "59b1b6d2-4d84-41dc-8698-8be52e6f5bd8",
   "metadata": {},
   "outputs": [],
   "source": [
    "llm = ChatOpenAI(model=\"gpt-4-vision-preview\")"
   ]
  },
  {
   "cell_type": "markdown",
   "id": "6ea28491-e225-4667-8666-3b0541dbf2b7",
   "metadata": {},
   "source": [
    "I'm creating quick helper function to convert the image from file to base64 so we can pass it to GPT-4V"
   ]
  },
  {
   "cell_type": "code",
   "execution_count": 43,
   "id": "ed1f096a-abd1-4380-af24-6c65074d2420",
   "metadata": {},
   "outputs": [],
   "source": [
    "# Function to convert image to base64\n",
    "def image_to_base64(image_path):\n",
    "    with Image.open(image_path) as image:\n",
    "        buffered = io.BytesIO()\n",
    "        image.save(buffered, format=image.format)\n",
    "        img_str = base64.b64encode(buffered.getvalue())\n",
    "        return img_str.decode('utf-8')\n",
    "\n",
    "image_str = image_to_base64(\"static/pdfImages/figure-15-6.jpg\")"
   ]
  },
  {
   "cell_type": "markdown",
   "id": "80becf02-83bd-4560-af3a-dece72259296",
   "metadata": {},
   "source": [
    "Then we can go ahead and pass our image to the LLM"
   ]
  },
  {
   "cell_type": "code",
   "execution_count": 44,
   "id": "638d7f95-d181-4b4a-aeb0-b40367f0f215",
   "metadata": {},
   "outputs": [],
   "source": [
    "chat = ChatOpenAI(model=\"gpt-4-vision-preview\",\n",
    "                  max_tokens=1024)\n",
    "\n",
    "msg = chat.invoke(\n",
    "    [\n",
    "        HumanMessage(\n",
    "            content=[\n",
    "                {\"type\": \"text\", \"text\" : \"Please give a summary of the image provided. Be descriptive\"},\n",
    "                {\n",
    "                    \"type\": \"image_url\",\n",
    "                    \"image_url\": {\n",
    "                        \"url\": f\"data:image/jpeg;base64,{image_str}\"\n",
    "                    },\n",
    "                },\n",
    "            ]\n",
    "        )\n",
    "    ]\n",
    ")"
   ]
  },
  {
   "cell_type": "markdown",
   "id": "67130242-5d72-4304-a705-c9177558a7d4",
   "metadata": {},
   "source": [
    "Then the summary returned is what we will put into our vectordata base. Then when it comes time to do our retrieval process, we'll use these embeddings for semantic search."
   ]
  },
  {
   "cell_type": "code",
   "execution_count": 45,
   "id": "a51c2833-ee05-43b2-9cd2-6710d6e73ee8",
   "metadata": {},
   "outputs": [
    {
     "data": {
      "text/plain": [
       "'The image shows a baking tray with pieces of fried chicken arranged to roughly mimic the continents on Earth as seen from space. The largest piece in the center is intended to represent Africa and Eurasia, while smaller pieces are meant to symbolize the Americas, Australia, and possibly Antarctica. There is text above the image which says, \"Sometimes I just look at pictures of the earth from space and I marvel at how beautiful it all is.\" This text is likely meant to be humorous, as it juxtaposes the grandeur of Earth from space with a whimsical arrangement of chicken on a baking sheet, suggesting a playful comparison between the two.'"
      ]
     },
     "execution_count": 45,
     "metadata": {},
     "output_type": "execute_result"
    }
   ],
   "source": [
    "msg.content"
   ]
  },
  {
   "cell_type": "markdown",
   "id": "b129deb0-7b11-48f6-bc3e-210658e9f8e4",
   "metadata": {},
   "source": [
    "<div style=\"text-align: center;\">\n",
    "    <img src=\"static/pdfImages/figure-15-6.jpg\" alt=\"image\" style=\"max-width: 800px;\"><br>\n",
    "    <span><i>static/pdfImages/figure-15-6.jpg</i></span>\n",
    "</div>\n",
    "\n",
    "Hm, that seems about right!\n",
    "\n",
    "There are a ton of ways to go about this (check out the bonus section for more) so don't take my word for it - try 'em."
   ]
  },
  {
   "cell_type": "markdown",
   "id": "0ba7cf0e-ec8e-4115-be32-e49aaf5adccc",
   "metadata": {},
   "source": [
    "## Level 4: Semantic Chunking <a id=\"SemanticChunking\"></a>\n",
    "Isn't it weird that we have a global constant for chunk size? Isn't it even weirder that our normal chunking mechanisms don't take into account the actual content?\n",
    "\n",
    "I'm not the only one who thinks so\n",
    "\n",
    "<div style=\"text-align: center;\">\n",
    "    <img src=\"static/SemanticChunkingtweet.png\" style=\"max-width:50%; height:auto;\"><br>\n",
    "    <span><i><a href=\"https://twitter.com/thesephist/status/1724159343237456248?s=46\">Source</a></i></span>\n",
    "</div>\n",
    "\n",
    "There has to be a better way - let's explore and find out.\n",
    "\n",
    "Embeddings represent the semantic meaning of a string. They don't do much on their own, but when compared to embeddings of other texts you can start to infer the relationship between chunks. I want to lean into this property and explore using embeddings to find clusters of semantically similar texts.\n",
    "\n",
    "The hypothesis is that semantically similar chunks should be held together.\n",
    "\n",
    "I tried a few methods:\n",
    "1) **Heirarchical clustering with positional reward** - I wanted to see how heirarchical clustering of sentence embeddings would do. But because I chose to split on sentences, there was an issue with small short sentences after a long one. You know? (like this last sentenence). They could change the meaning of a chunk, so I added a positional reward and clusters were more likely to form if they were sentences next to each other. This ended up being ok, but tuning the parameters was slow and unoptimal.\n",
    "2) **Find break points between sequential sentences** - Next up I tried a walk method. I started at the first sentence, got the embedding, then compared it to sentence #2, then compared #2 and #3 and so on. I was looking for \"break points\" where embedding distance was large. If it was above a threshold, then I considered it the start of a new semantic section. I originally tried taking embeddings of every sentence, but this turned out to be too noisy. So I ended up taking groups of 3 sentences (a window), then got an embedding, then dropped the first sentence, and added the next one. This worked out a bit better.\n",
    "\n",
    "I'll show method #2 here - It's not perfect by any means, but it's a good starting point for an exploration and I'd love to hear about how you think it could be improved.\n",
    "\n",
    "First, let's load up our essay that we'll run through. I'm just doing a single essay here to keep the tokens down.\n",
    "\n",
    "We'll be using Paul Graham's [MIT essay](https://paulgraham.com/mit.html)"
   ]
  },
  {
   "cell_type": "code",
   "execution_count": 48,
   "id": "7c5bb388-0534-4ef5-b5d2-322e945a513b",
   "metadata": {},
   "outputs": [],
   "source": [
    "with open('../../data/PGEssays/mit.txt') as file:\n",
    "    essay = file.read()"
   ]
  },
  {
   "cell_type": "code",
   "execution_count": 5,
   "id": "cbe039be",
   "metadata": {},
   "outputs": [],
   "source": [
    "content_text = '''\n",
    "# Case Study On Tackling Bird shit menace in MRO, RGIA (GATL)\n",
    "CONTRIBUTED BY:\n",
    "Kalyan Reddy Gudimetla\n",
    "GATL\n",
    "July 2019\n",
    "---\n",
    "# Executive Summary\n",
    "GMR Aero Technic Ltd. (GATL) has its facilities spread over an area of 28 acres at Hyderabad airport. It is a 100% subsidiary of GMR Hyderabad International Airport Ltd. (GHIAL), and offers world class third party independent airframe Maintenance, Repair & Overhaul (MRO) services from its facility at Rajiv Gandhi International Airport (RGIA), Hyderabad.\n",
    "Since the hangars or aircraft maintenance bays are high and wide structures, birds often enter through various openings and roost in the available flat areas of the superstructure. The accumulation of bird droppings, feathers and nesting material can pose a huge problems like equipment damage through metal corrosion and structural weakness, damaging ongoing paint jobs and if lodged inside open engines can lead to engine failures mid-flight. It can also pose a danger to personnel safety or cause distraction during maintenance work posing a threat to aviation safety. As the constant maintenance required for the Hangar floor and other surfaces due to the birds is time consuming and expensive, the MRO team devised various methods and devices for combating this persistent issue which are discussed in this Case Study.\n",
    "GATL/Airports\n",
    "1\n",
    "---\n",
    "# Introduction to MRO\n",
    "GMR Aero Technic Ltd. (GATL) is a 100% subsidiary of GMR Hyderabad International Airport Ltd. (GHIAL), which offers world class third party independent airframe Maintenance, Repair & Overhaul (MRO) services from its facility at Rajiv Gandhi International Airport (RGIA), Hyderabad. GATL has its facilities spread over an area of 28 acres at Hyderabad airport which is a mere 2 hours flying time away from major Indian cities and only 3-5 hours away from major cities in the Middle East & South-East Asia.\n",
    "GATL is equipped with one wide body hangar, one narrow body hangar and a dedicated paint hangar to provide base maintenance services, for Airbus A320 family, ATR 42/72 family, Boeing 737-NG family & Bombardier Q400. GATL can perform maintenance checks on five narrow body aircraft and one turboprop simultaneously. GATL’s customer base includes major commercial airlines in the Indian sub-continent viz. Indigo, Jet Airways, Go Air, SpiceJet, AirAsia India, Vistara, TruJet & International Airlines viz. Oman Air, Flynas & Golden Myanmar Airlines.\n",
    "# Problem Description\n",
    "Hangars are built with the intent of creating a sheltered environment in which to perform maintenance, conduct inspections, and otherwise operate on aircrafts with their high tails and wide wingspans. To avoid using support columns for the roofs of hangars, which would limit space and access, a system of metal trusses, reinforced by bricks, concrete and iron rods, serves to hold the roof in place. High bay doors, which roll on railroad tracks, provide the space necessary to bring aircraft into and out of the hangar.\n",
    "Since the hangars or aircraft maintenance bays are protected high and wide structures, they are extremely appealing to birds like pigeons and sparrows, which seek the roof-supporting I-beams and bars for nesting sites and shelter. Birds often enter through various openings and roost in the available flat areas of the superstructure. Even when doors are closed, birds are able to find access through broken windows, small holes, and ventilation ducts. Once inside, birds usually search for suitable nesting/roosting sites in the overhead structure.\n",
    "---\n",
    "From this vantage point, they are able to avoid most dangers, and also produce the most damage. Apart from being a risk to health and hygiene and a cleaning nightmare, the accumulation of bird droppings, feathers and nesting material can pose huge problems in an MRO Unit.\n",
    "Equipment Damage: Aircraft paint is designed to withstand the wide ranges of heat and cold to maintain a smooth aircraft surface for flight. Bird droppings, accumulating on the aluminum skin of airplanes and equipment parts, can chip/peel off the paint, speed up corrosion of the metal and eventually weaken their structure. This requires extensive cleaning and repairs and takes valuable time away from actual aircraft maintenance. If the droppings are numerous, components may have to be replaced, costing lakhs of rupees in new parts and man-hours.\n",
    "Bird droppings on newly painted airplanes results in damaging the paint job, and, often requires the whole aircraft to be repainted, which is very expensive.\n",
    "Another critical concern is if droppings, feathers or other matter get into the open engines during repair or overhaul and get lodged there, they could stall an engine during flight. Birds can also make their nests in wheel wells, panel openings, engines, and inside open cockpits, interfering with moving parts and causing fire hazards.\n",
    "Personnel Safety: There is a possibility of diseases (birds being carriers for many diseases) or injuries (e.g. slipping on a floor slick with droppings) as a result of the presence of birds in Hangars. In any case, a bird infested hangar may be perceived unsafe by Employees and Management and may lead to poor work habits and low morale.\n",
    "Employee Morale: It is difficult to get workers to use equipment covered with bird droppings. Not only are bird droppings a cause for hygiene related concerns, employees may get distracted on hearing birds flapping overhead and droppings falling around their workspace in the hangar. Any such distraction can lead to errors in maintenance work which may prove costly or even fatal!\n",
    "Another distressing by-product of birds in a hangar is the possible accumulation of mites, which may fall on workers from bird nests, insulation, or from the birds themselves.\n",
    "GATL/Airports\n",
    "3\n",
    "---\n",
    "With such unfavorable working conditions, the mental attitude of employees severely declines.\n",
    "The constant maintenance required for the equipment, hangar floor and other surfaces due to the birds is time-consuming and expensive.\n",
    "# Solution Description\n",
    "As with any problem where a biological system (in this case, birds) is involved, diversification is important in developing solutions. The MRO team works with a variety of methods for dealing with the hazards from birds. Initial methods are similar to those taken by farmers to remove pest birds from crops. These techniques offered a limited degree of success for indoor use; therefore new methods were devised which were aimed less at dealing with a food source and more at making the shelter undesirable.\n",
    "To combat this issue, any or a combination of the following devices maybe deployed,\n",
    "|1. Scaring devices:|Using visual deterrents to bird proof facilities, for e.g. stringing iridescent reflective foil or flash tape around the beams; creating an ‘optical distraction zone’ with inflatable balloons or stuffed predator birds. These methods are economical but short term as birds get used to the scaring devices and learn to ignore them. Another proactive scaring approach is to use a falconer to drive away the birds. However, this is a recurring cost and makes it an expensive solution.|\n",
    "|---|---|\n",
    "|2. Repellent devices:|1. Misting systems (Humane method employing a natural extract with bird deterring qualities – requires refilling and maintenance)\n",
    "2. Electric track (delivers a non-lethal electric shock discouraging birds from landing/roosting – requires constant electric source and maintenance)\n",
    "3. Ultrasonic Bird repellers - he high-frequency ultrasonic bird repellent sounds that our devices produce don’t harm birds, but they do “feel the pressure” of the sound waves. The pressure waves can irritate and disorient birds by interfering with their ability\n",
    "|\n",
    "GATL/Airports\n",
    "---\n",
    "to detect the earth’s magnetic field. Birds quickly learn to avoid areas where they have experienced an ultrasonic attack.\n",
    "Bird slope (angled slippery PVC panels that cause pest birds to slide off on landing)\n",
    "Bird spikes (harmless, low maintenance system ideal for scaring pigeons or larger birds, easy installation)\n",
    "Bird spiders (spikes with waving arms to scare away wild birds)\n",
    "Net systems: This provides an advantage in large areas. Since the major attraction of hangars is a safe protected roosting area, one method of excluding birds is to deny access to the hangar superstructure by using plastic netting. A good netting for this purpose must be lightweight, durable, and fire resistant. Netting comes in various mesh sizes and materials to deter a wide range of birds – heavy duty bird netting maybe UV stabilized, flame resistant and rot- and water-proof. Although the netting itself is inexpensive, installation costs can be high. The net needs to be placed such that it does not interfere with utilities such as fire protection systems, lighting fixtures and crane travel. The difficulty lies in reaching beams with high-lift equipment to fasten the sheets of netting while avoiding hangar lighting, overhead cranes, and important access areas. If any spaces are left, birds will quickly find them and gain entrance to roosting areas. For this, copper mesh cloth can be rolled and stuffed into crack or holes to let air circulate but keep birds out. If unable to get out, they will get caught or die in the netting, and must be removed using a highlift, by cutting the net, removing the carcass, and repairing the hole. Netting systems though quite efficient and safe once installed, require monitoring to see where birds are getting through and getting them out making this method successful with some minor drawbacks.\n",
    "Structural Design: Birds are rarely considered when designing any aircraft facility, but there are several alterations which could decrease problems from birds. For instance, one new concept in hangar design suggests moving the support beams to the outside of the structure. This makes roosting less attractive, and keeps any droppings away from people and planes. Some hangars have been fitted with a \"false ceiling\" just below the\n",
    "---\n",
    "# Implementation at GATL\n",
    "Details of Bird-proofing methods, equipment and devices deployed at MRO are as described below.\n",
    "1. Laser Beams - Bird-X Laser Specifications\n",
    "Laser Power: Red: 650nm100mw; Green: 532nm50mw\n",
    "Unit power: 4.9mw RED + 4.9mw GREEN\n",
    "Power consumption: 50 watt; Net weight: 15kg\n",
    "Power: AC100-240V, 50-60Hz Current: 100mA\n",
    "Classification: Class 3R Laser color: Red+Green\n",
    "Size (mm): L(18.5)*W(14.8)*H(7.0) CM\n",
    "Operating temperature: 0 C-40 C\n",
    "2. Bird repellent: e.g. Ultrasonic sounds and sonic sounds emitted by Digital Bird Repeller (BIRD-X BB-PRO kit). It contains control unit, adaptor & four speakers.\n",
    "---\n",
    "3. Chemical Sprays: Weekly once spraying across the hangar (at the roof area for enhanced effectiveness)\n",
    "DhaSmart\n",
    "DhaSmart\n",
    "4. Bird Net: Anti-birds net has been installed by Pest control (India) Pvt. Limited of size 25mm*25mm nylon material which is Heat & UV resistant.\n",
    "GATL/Airports\n",
    "7\n",
    "---\n",
    "5. Door Installation\n",
    "6. Gel Application: Hughes and Hughes - Pestgo Non Toxic Bird Deterrent Gel has been applied on overhead crane movement beams top side. This makes a slippery surface on the top of the structure and ensures birds will slip / loose foothold because of the gel applied at the required places and subsequently stop sitting / roosting there.\n",
    "7. Bird Spikes\n",
    "|GATL/Airports|BLUE Staa|\n",
    "|---|---|\n",
    "| |8|\n",
    "---\n",
    "# Bird Traps\n",
    "# Thunder Boom\n",
    "# Key Challenges\n",
    "The key challenges faced during pe process were as follows,\n",
    " Accepted intrusion prevention measures need to be coordinated wip Environmental and Regulatory norms for MRO\n",
    " Design intrusion prevention systems to not restrict access to Building systems\n",
    " Installation of intrusion prevention mepods especially netting need to be coordinated wip oper overhead structures like lighting fixtures, bridge cranes, foam fire protection systems, sprinklers, Rain water drain lines, etc.\n",
    "'''"
   ]
  },
  {
   "cell_type": "code",
   "execution_count": 9,
   "id": "c3f42451",
   "metadata": {},
   "outputs": [
    {
     "name": "stderr",
     "output_type": "stream",
     "text": [
      "<>:1: SyntaxWarning: invalid escape sequence '\\*'\n",
      "<>:1: SyntaxWarning: invalid escape sequence '\\*'\n",
      "C:\\Users\\sampath.emandi\\AppData\\Local\\Temp\\ipykernel_94732\\2309612079.py:1: SyntaxWarning: invalid escape sequence '\\*'\n",
      "  content_text = '''\n"
     ]
    }
   ],
   "source": [
    "content_text = '''\n",
    "\n",
    " <figure>\n",
    "\n",
    "![](figures/0)<!-- FigureContent=\"The image displays a logo on the left, which is the emblem of India composed of four lions standing back to back, signifying power, courage, pride, and confidence. Below the emblem, text in Devanagari script likely represents the government body associated with the emblem. To the right is text in English that reads \"Data from: https://upag-gov.in/ ES&E Division, Department of Agriculture & Farmer Welfare.\" The URL provided suggests that the data is sourced from a website related to agriculture and farmer welfare, specifically from a division called ES&E (which might stand for Economics, Statistics & Extension) within the department, and this department is likely associated with the government of Uttar Pradesh, India considering the \"up\" in the URL. There is also a stylized graphic in green and yellow depicting what appears to be a sprouting plant or agricultural symbol, representing the theme of agriculture.\" -->\n",
    "\n",
    "<!-- FigureContent=\"Data from: https://upag.gov.in/ ES&E Division, Department of Agriculture & Farmer Welfare. अपनेल रूपले\" -->\n",
    "\n",
    "</figure>\n",
    "\n",
    "\n",
    "Commodity Report: Rapeseed & Mustard\n",
    "===\n",
    "\n",
    "Key parameters on commodity situation are discussed below\n",
    "===\n",
    "\n",
    "R&M OILSEED\n",
    "===\n",
    "\n",
    "\n",
    "## CROP CALENDER:\n",
    "\n",
    "R&M oilseed is grown during the Rabi season. The sowing is done mainly between October and November and the crop is harvested mainly between February and April.\n",
    "\n",
    "\n",
    "## Figure 1: Crop Calendar\n",
    " :selected:\n",
    "<figure>\n",
    "\n",
    "![](figures/1)<!-- FigureContent=\"The image shows two tabs or buttons side by side. On the left is a tab with a green colored background labeled \"Harvesting,\" and on the right is a tab with a blue colored background labeled \"Sowing.\" The \"Harvesting\" tab appears to be the active or selected option, as indicated by its brighter color and lack of a border compared to the \"Sowing\" tab. The \"Sowing\" tab seems unselected, with a darker background and an outline.\" -->\n",
    "\n",
    "<!-- FigureContent=\"Harvesting Sowing\" -->\n",
    "\n",
    "</figure>\n",
    "\n",
    "\n",
    "| SEASON | JUN | JUL | AUG | SEP | OCT | NOV | DEC | JAN | FEB | MAR | APR | MAY |\n",
    "| - | - | - | - | - | - | - | - | - | - | - | - | - |\n",
    "| Rabi | | | | | | | | | | | | |\n",
    "\n",
    "Source: ICAR\n",
    "\n",
    "\n",
    "## PRODUCTION:\n",
    "\n",
    "As per GOI's Third Advance Estimates, 2023-24, \n",
    "R&M production in the current year is estimated to be 131.61 LMTs, \n",
    "slightly higher than last year's production of 126.43 LMT. \n",
    "All India production increased by 23.71% when compared to the last 5-year average. \n",
    "Rajasthan accounted for 45.41% of the total production in 2023-24.\n",
    "India's CAGR for R&M production for the last 5 years was 6.44%. \n",
    "The conversion ratio for R&M oil is 33% and for meal is 67%.\n",
    "\n",
    "<figure>\n",
    "\n",
    "<figcaption>\n",
    "\n",
    "Figure 2: Statewise Rapeseed & Mustard Production Share of Top 5 States (2023-24)\\*\n",
    "\n",
    "</figcaption>\n",
    "\n",
    "![](figures/2)<!-- FigureContent=\"The image shows a horizontal bar graph titled \"Figure 2: Statewise Rapeseed & Mustard Production Share of Top 5 States (2023-24)*\". \n",
    "The graph displays the percentage share of production across five different states, \n",
    "which are listed on the horizontal axis.\n",
    "\n",
    "The bars represent the following states and their respective production share percentages:\n",
    "\n",
    "- Rajasthan: 45.41%\n",
    "- Uttar Pradesh: 14.24%\n",
    "- Madhya Pradesh: 13.28%\n",
    "- Haryana: 10.78%\n",
    "- West Bengal: 5.99%\n",
    "\n",
    "The production share is illustrated on the vertical axis that ranges from 0% to 40%, in increments of 10. The bars for each state are color-coded in shades of blue-green, with the color intensity apparently corresponding to the size of the production share. Darker shades indicate larger shares, as suggested by the 'Color Scale' legend on the right side of the graph, which shows a gradient from light to dark with values from 10 to 40, even though such numbers do not overtly correlate with the production shares displayed in the graph.\n",
    "\n",
    "Please note that there is an asterisk (*) next to the year (2023-24), which typically indicates a footnote or additional information somewhere in the associated document, which is not visible in the image provided.\" -->\n",
    "\n",
    "<!-- FigureContent=\"45.41% Color Scale 40 Production share (%) 40 ¥30 30 320 20 14.24% 10 13.28% 10.78% 5.99% 10 0 Rajasthan Uttar Pradesh Madhya Pradesh Haryana West Bengal\" -->\n",
    "\n",
    "</figure>\n",
    "\n",
    "\n",
    "\\*Values from 2023-24 are from Third Advance Estimates, Rabi\n",
    "\n",
    "Source: DA&FW\n",
    "\n",
    "Table 1: Top 5 Rapeseed & Mustard Producing States, 2023-24\\* (Production in LMTs)\n",
    "\n",
    "| State | Current Year (2023-2024) | Previous Year (2022-2023) | Year (2021-2022) | Last 5 years Average |\n",
    "| - | - | - | - | - |\n",
    "| Rajasthan | 59.77 | 58.32 | 57.76 | 48.83 |\n",
    "| Uttar Pradesh | 18.75 | 16.20 | 10.33 | 11.47 |\n",
    "| Madhya Pradesh | 17.48 | 15.51 | 16.91 | 13.25 |\n",
    "| Haryana | 14.19 | 13.02 | 13.66 | 12.77 |\n",
    "| West Bengal | 7.88 | 8.16 | 7.43 | 7.49 |\n",
    "| All India | 131.61 | 126.43 | 119.63 | 106.39 |\n",
    "\n",
    "\\*Values from 2023-24 are from Third Advance Estimates, Rabi Source: DA&FW\n",
    ":selected:<figure>\n",
    "\n",
    "![](figures/3)<!-- FigureContent=\"The image is a small banner or footer likely taken from a website or document. On the left side of the image, there is an emblem, which appears to be the state emblem of India, featuring the Lion Capital of Ashoka. Below the emblem, there is text in Hindi, which is not clearly legible, but it may be a motto or a tagline.\n",
    "\n",
    "In the middle, there is text that says \"Data from: https://upag-gov.in/\" followed by \"ES&E Division, Department of Agriculture & Farmer Welfare.\" This indicates that the information or data related to the banner has been sourced from the mentioned website, which appears to be associated with the Agricultural Department of a region or state in India, possibly Uttar Pradesh given the \"upag\" in the URL.\n",
    "\n",
    "On the right side, next to this text, there is a stylized graphic of what looks to be a plant or crop with two leaves and a sheaf of grain in yellow and green colors, which are often used to represent agriculture.\n",
    "\n",
    "The overall image seems informational and suggests a connection with agricultural data and farmer welfare from an official government source in India.\" -->\n",
    "\n",
    "<!-- FigureContent=\"Data from: https://upag.gov.in/ ES&E Division, Department of Agriculture & Farmer Welfare. अपनेव अपने\" -->\n",
    "\n",
    "</figure>\n",
    "\n",
    "\n",
    "\n",
    "## ARRIVALS & PRICES:\n",
    "\n",
    "Arrivals: In May 2024, the all-India mandi arrivals for R&M were 3.05 LMT. The arrivals in Apr 2024, were 7.28 LMT, while in May 2023 3.18 LMT arrived in the mandis. Cumulative arrivals for Jan to May in 2024 are 21.34 LMT, while in 2023 the arrivals were 22.40 LMT\n",
    "\n",
    "Mandi Prices: All-India wholesale mandi prices of R&M oilseed was Rs. 5527.95 per quintal in May 2024. In Apr 2024 mandi prices were Rs. 5205.99 per quintal. Compared to same month of last year prices are higher by 6.29% when prices were Rs. 5201.06 per quintal. These prices are lower than the MSP of Rs. 5650 per quintal.\n",
    "\n",
    "<figure>\n",
    "\n",
    "![](figures/4)<!-- FigureContent=\"This image is a horizontal bar chart titled \"Figure 5: All India K&H Arrivals Month wise Comparison (LMT).\" It shows the quantity of arrivals (in Lakh Metric Tonnes, LMT) for certain months spanning from May 2021 to May 2024. Each bar represents the quantity of arrivals for a specific month, and above each bar is a numerical value indicating the precise quantity in LMT.\n",
    "\n",
    "Starting from May 2021 with 0.95 LMT and continuing to May 2024 with 7.28 LMT, the chart displays a fluctuating pattern with some months having noticeably larger amounts of arrivals than others. For example, April 2022 shows the highest quantity at 12.94 LMT, which significantly stands out on the chart. Conversely, several months such as December 2023 and January 2024 show lower quantities, around 1.22 and 1.12 LMT, respectively.\n",
    "\n",
    "The chart is sourced from Agmarknet, as indicated by the image caption, which suggests the data pertains to agricultural market arrivals in India.\" -->\n",
    "\n",
    "<!-- FigureContent=\"Figure 3: All India R&M arrivals month wise comparison (LMT) 12.94 12 10 8 8.25 7.4 7.28 6 6.77 5.45 4 4.67 4.28 3.54 3.18 3.26 2 2.62 3.0 17.32 1.75 1.95 1.94 2.05 1,51 1.49 0.95 1.14 1.11 1.41 1.35 1.63 1.7 1.75 1.31 1.31 1.2 1.1 0 0.69 0.7. 0.73 1.05 0.97 May 2021 Jun 2021 Jul 2021 Aug 2021 Sep 2021 Oct 2021 Nov 2021 Dec 2021 Jan 2022 Feb 2022 Mar 2022 Apr 2022 May 2022 Jun 2022 Jul 2022 Aug 2022 Sep 2022 Oct 2022 Nov 2022 Dec 2022 Jan 2023 Feb 2023 Mar 2023 Apr 2023 May 2023 Jun 2023 Jul 2023 Aug 2023 Sep 2023 Oct 2023 Nov 2023 Jan 2024 Dec 2023 Feb 2024 Mar 2024 Apr 2024 May 2024 :selected: Arrivals(Tonnes)\" -->\n",
    "\n",
    "<figcaption>\n",
    "\n",
    "Source: Agmarknet\n",
    "\n",
    "</figcaption>\n",
    "\n",
    "</figure>\n",
    "\n",
    "\n",
    "Figure 4: All India Mandi prices & MSP of R&M in Rs./Qtl\n",
    "\n",
    "<figure>\n",
    "\n",
    "![](figures/5)<!-- FigureContent=\"The image is a line graph with two lines representing price trends over time from May 2022 to May 2024. Each line uses a different color: one is orange, and the other is blue, to represent different datasets or categories. \n",
    "\n",
    "The vertical axis on the left is labeled \"Prices (Rs/Qtl),\" showing the price range from 5000 to 6500 with increments, suggesting these prices are in Indian Rupees per Quintal. \n",
    "\n",
    "The horizontal axis along the bottom shows the months from May 2022 to May 2024, spaced three months apart. This indicates that data points may be quarterly.\n",
    "\n",
    "The orange line starts at the top with a value near 6471.11 in May 2022 and then mostly declines with some fluctuations until reaching a low point around February 2023. It then increases and has some variability before it ends at a value of 5300.60 in May 2024.\n",
    "\n",
    "The blue line remains constant at a value of 5050.00 from May 2022 until about February 2023. After that, it shows an upward trend with some small fluctuations, ending at a value of 5650.00 in May 2024. \n",
    "\n",
    "The graph may represent the price movements of two different commodities, products, or markets over the specified time period. Without more context, it's challenging to provide a specific interpretation of what these lines represent.\" -->\n",
    "\n",
    "<!-- FigureContent=\"6500 6471.11 6000 Prices (Rs/Qtl) 5650.00 35500 5300.60 5050.00 5000 May - 2022 Aug - 2022 Nov - 2022 Feb - 2023 May - 2023 Aug - 2023 Nov - 2023 Feb - 2024 May - 2024\" -->\n",
    "\n",
    "</figure>\n",
    "\n",
    "\n",
    "\\-MSP (DA&FW) - Mandi Modal Price (AgMarknet)\n",
    "\n",
    "Source: Agmarknet & DA&FW\n",
    "\n",
    "\n",
    "'''"
   ]
  },
  {
   "cell_type": "markdown",
   "id": "6d18623d-6fc1-4b90-a016-ee79ac28b9ad",
   "metadata": {},
   "source": [
    "Then I want to split the entire essay into 1-sentence chunks. I'm going to split on \".\" \"?\" and \"!\". There are better ways to do this but this is quick and easy for now."
   ]
  },
  {
   "cell_type": "code",
   "execution_count": 10,
   "id": "1dbbfa5a-45a2-4c6e-84f5-d774183717d0",
   "metadata": {},
   "outputs": [
    {
     "name": "stdout",
     "output_type": "stream",
     "text": [
      "51 senteneces were found\n"
     ]
    }
   ],
   "source": [
    "import re\n",
    "\n",
    "# Splitting the essay on '.', '?', and '!'\n",
    "single_sentences_list = re.split(r'(?<=[.?!])\\s+', content_text)\n",
    "print (f\"{len(single_sentences_list)} senteneces were found\")"
   ]
  },
  {
   "cell_type": "markdown",
   "id": "6340df5c-bae9-4f04-a69a-4263c7e912de",
   "metadata": {},
   "source": [
    "But a list of sentences can be tough to add more data too. I'm going to turn this into a list of dictionaries (`List[dict]`), of which, the sentences will be a key-value. Then we can start to add more data to each sentence."
   ]
  },
  {
   "cell_type": "code",
   "execution_count": 11,
   "id": "b1bc484a-5d6f-4df5-a1ec-7803908fac95",
   "metadata": {},
   "outputs": [
    {
     "data": {
      "text/plain": [
       "[{'sentence': '\\n\\n <figure>\\n\\n![](figures/0)<!-- FigureContent=\"The image displays a logo on the left, which is the emblem of India composed of four lions standing back to back, signifying power, courage, pride, and confidence.',\n",
       "  'index': 0},\n",
       " {'sentence': 'Below the emblem, text in Devanagari script likely represents the government body associated with the emblem.',\n",
       "  'index': 1},\n",
       " {'sentence': 'To the right is text in English that reads \"Data from: https://upag-gov.in/ ES&E Division, Department of Agriculture & Farmer Welfare.\" The URL provided suggests that the data is sourced from a website related to agriculture and farmer welfare, specifically from a division called ES&E (which might stand for Economics, Statistics & Extension) within the department, and this department is likely associated with the government of Uttar Pradesh, India considering the \"up\" in the URL.',\n",
       "  'index': 2}]"
      ]
     },
     "execution_count": 11,
     "metadata": {},
     "output_type": "execute_result"
    }
   ],
   "source": [
    "sentences = [{'sentence': x, 'index' : i} for i, x in enumerate(single_sentences_list)]\n",
    "sentences[:3]"
   ]
  },
  {
   "cell_type": "markdown",
   "id": "7655fbb4-73a8-43dd-a6b7-565ecf85890a",
   "metadata": {},
   "source": [
    "Great, now that we have our sentences, I want to combine the sentence before and after so that we reduce noise and capture more of the relationships between sequential sentences.\n",
    "\n",
    "Let's create a function so we can use it again. The `buffer_size` is configurable so you can select how big of a window you want. Keep this number in mind for the later steps. I'll just use `buffer_size=1` for now."
   ]
  },
  {
   "cell_type": "code",
   "execution_count": 12,
   "id": "c2c5e5ef-bfbe-4680-9761-0ba7615cc645",
   "metadata": {},
   "outputs": [],
   "source": [
    "def combine_sentences(sentences, buffer_size=1):\n",
    "    # Go through each sentence dict\n",
    "    for i in range(len(sentences)):\n",
    "\n",
    "        # Create a string that will hold the sentences which are joined\n",
    "        combined_sentence = ''\n",
    "\n",
    "        # Add sentences before the current one, based on the buffer size.\n",
    "        for j in range(i - buffer_size, i):\n",
    "            # Check if the index j is not negative (to avoid index out of range like on the first one)\n",
    "            if j >= 0:\n",
    "                # Add the sentence at index j to the combined_sentence string\n",
    "                combined_sentence += sentences[j]['sentence'] + ' '\n",
    "\n",
    "        # Add the current sentence\n",
    "        combined_sentence += sentences[i]['sentence']\n",
    "\n",
    "        # Add sentences after the current one, based on the buffer size\n",
    "        for j in range(i + 1, i + 1 + buffer_size):\n",
    "            # Check if the index j is within the range of the sentences list\n",
    "            if j < len(sentences):\n",
    "                # Add the sentence at index j to the combined_sentence string\n",
    "                combined_sentence += ' ' + sentences[j]['sentence']\n",
    "\n",
    "        # Then add the whole thing to your dict\n",
    "        # Store the combined sentence in the current sentence dict\n",
    "        sentences[i]['combined_sentence'] = combined_sentence\n",
    "\n",
    "    return sentences\n",
    "\n",
    "sentences = combine_sentences(sentences)"
   ]
  },
  {
   "cell_type": "code",
   "execution_count": 13,
   "id": "a0c06ebf-af2c-4f14-924d-e0d0cab05f09",
   "metadata": {},
   "outputs": [
    {
     "data": {
      "text/plain": [
       "[{'sentence': '\\n\\n <figure>\\n\\n![](figures/0)<!-- FigureContent=\"The image displays a logo on the left, which is the emblem of India composed of four lions standing back to back, signifying power, courage, pride, and confidence.',\n",
       "  'index': 0,\n",
       "  'combined_sentence': '\\n\\n <figure>\\n\\n![](figures/0)<!-- FigureContent=\"The image displays a logo on the left, which is the emblem of India composed of four lions standing back to back, signifying power, courage, pride, and confidence. Below the emblem, text in Devanagari script likely represents the government body associated with the emblem.'},\n",
       " {'sentence': 'Below the emblem, text in Devanagari script likely represents the government body associated with the emblem.',\n",
       "  'index': 1,\n",
       "  'combined_sentence': '\\n\\n <figure>\\n\\n![](figures/0)<!-- FigureContent=\"The image displays a logo on the left, which is the emblem of India composed of four lions standing back to back, signifying power, courage, pride, and confidence. Below the emblem, text in Devanagari script likely represents the government body associated with the emblem. To the right is text in English that reads \"Data from: https://upag-gov.in/ ES&E Division, Department of Agriculture & Farmer Welfare.\" The URL provided suggests that the data is sourced from a website related to agriculture and farmer welfare, specifically from a division called ES&E (which might stand for Economics, Statistics & Extension) within the department, and this department is likely associated with the government of Uttar Pradesh, India considering the \"up\" in the URL.'},\n",
       " {'sentence': 'To the right is text in English that reads \"Data from: https://upag-gov.in/ ES&E Division, Department of Agriculture & Farmer Welfare.\" The URL provided suggests that the data is sourced from a website related to agriculture and farmer welfare, specifically from a division called ES&E (which might stand for Economics, Statistics & Extension) within the department, and this department is likely associated with the government of Uttar Pradesh, India considering the \"up\" in the URL.',\n",
       "  'index': 2,\n",
       "  'combined_sentence': 'Below the emblem, text in Devanagari script likely represents the government body associated with the emblem. To the right is text in English that reads \"Data from: https://upag-gov.in/ ES&E Division, Department of Agriculture & Farmer Welfare.\" The URL provided suggests that the data is sourced from a website related to agriculture and farmer welfare, specifically from a division called ES&E (which might stand for Economics, Statistics & Extension) within the department, and this department is likely associated with the government of Uttar Pradesh, India considering the \"up\" in the URL. There is also a stylized graphic in green and yellow depicting what appears to be a sprouting plant or agricultural symbol, representing the theme of agriculture.\" -->\\n\\n<!-- FigureContent=\"Data from: https://upag.gov.in/ ES&E Division, Department of Agriculture & Farmer Welfare.'}]"
      ]
     },
     "execution_count": 13,
     "metadata": {},
     "output_type": "execute_result"
    }
   ],
   "source": [
    "sentences[:3]"
   ]
  },
  {
   "cell_type": "markdown",
   "id": "0deb04a6-d0ad-4757-af8c-d6d600794357",
   "metadata": {},
   "source": [
    "Check out how the 2nd sentence (index #1) has the first sentence and 3rd sentence in its `combined_sentence` key now.\n",
    "\n",
    "Now I want to get embeddings for the combined sentences, so we can get the distances between the groups of 3 and find breakpoints. I'll use OpenAI's embeddings for this."
   ]
  },
  {
   "cell_type": "code",
   "execution_count": 14,
   "id": "d757106f-d6cd-4504-96f1-4fe1f82e0b7e",
   "metadata": {},
   "outputs": [],
   "source": [
    "# from langchain.embeddings import OpenAIEmbeddings\n",
    "# oaiembeds = OpenAIEmbeddings()"
   ]
  },
  {
   "cell_type": "code",
   "execution_count": 15,
   "id": "325588fe",
   "metadata": {},
   "outputs": [],
   "source": [
    "# from langchain.embeddings import CohereEmbeddings"
   ]
  },
  {
   "cell_type": "code",
   "execution_count": 16,
   "id": "e6a824df",
   "metadata": {},
   "outputs": [],
   "source": [
    "import getpass\n",
    "import os\n",
    "\n",
    "os.environ[\"COHERE_API_KEY\"] = \"mlWdoGIWUIhpYHeS49CFplO9zsL4VcXOttJWJ6Fz\""
   ]
  },
  {
   "cell_type": "code",
   "execution_count": 17,
   "id": "dd145dec",
   "metadata": {},
   "outputs": [],
   "source": [
    "# from langchain.embeddings import CohereEmbeddings"
   ]
  },
  {
   "cell_type": "code",
   "execution_count": 18,
   "id": "3e2c34f1",
   "metadata": {},
   "outputs": [
    {
     "data": {
      "text/plain": [
       "'\\n\\n <figure>\\n\\n![](figures/0)<!-- FigureContent=\"The image displays a logo on the left, which is the emblem of India composed of four lions standing back to back, signifying power, courage, pride, and confidence. Below the emblem, text in Devanagari script likely represents the government body associated with the emblem. To the right is text in English that reads \"Data from: https://upag-gov.in/ ES&E Division, Department of Agriculture & Farmer Welfare.\" The URL provided suggests that the data is sourced from a website related to agriculture and farmer welfare, specifically from a division called ES&E (which might stand for Economics, Statistics & Extension) within the department, and this department is likely associated with the government of Uttar Pradesh, India considering the \"up\" in the URL. There is also a stylized graphic in green and yellow depicting what appears to be a sprouting plant or agricultural symbol, representing the theme of agriculture.\" -->\\n\\n<!-- FigureContent=\"Data from: https://upag.gov.in/ ES&E Division, Department of Agriculture & Farmer Welfare. अपनेल रूपले\" -->\\n\\n</figure>\\n\\n\\nCommodity Report: Rapeseed & Mustard\\n===\\n\\nKey parameters on commodity situation are discussed below\\n===\\n\\nR&M OILSEED\\n===\\n\\n\\n## CROP CALENDER:\\n\\nR&M oilseed is grown during the Rabi season. The sowing is done mainly between October and November and the crop is harvested mainly between February and April.\\n\\n\\n## Figure 1: Crop Calendar\\n :selected:\\n<figure>\\n\\n![](figures/1)<!-- FigureContent=\"The image shows two tabs or buttons side by side. On the left is a tab with a green colored background labeled \"Harvesting,\" and on the right is a tab with a blue colored background labeled \"Sowing.\" The \"Harvesting\" tab appears to be the active or selected option, as indicated by its brighter color and lack of a border compared to the \"Sowing\" tab. The \"Sowing\" tab seems unselected, with a darker background and an outline.\" -->\\n\\n<!-- FigureContent=\"Harvesting Sowing\" -->\\n\\n</figure>\\n\\n\\n| SEASON | JUN | JUL | AUG | SEP | OCT | NOV | DEC | JAN | FEB | MAR | APR | MAY |\\n| - | - | - | - | - | - | - | - | - | - | - | - | - |\\n| Rabi | | | | | | | | | | | | |\\n\\nSource: ICAR\\n\\n\\n## PRODUCTION:\\n\\nAs per GOI\\'s Third Advance Estimates, 2023-24, \\nR&M production in the current year is estimated to be 131.61 LMTs, \\nslightly higher than last year\\'s production of 126.43 LMT. \\nAll India production increased by 23.71% when compared to the last 5-year average. \\nRajasthan accounted for 45.41% of the total production in 2023-24.\\nIndia\\'s CAGR for R&M production for the last 5 years was 6.44%. \\nThe conversion ratio for R&M oil is 33% and for meal is 67%.\\n\\n<figure>\\n\\n<figcaption>\\n\\nFigure 2: Statewise Rapeseed & Mustard Production Share of Top 5 States (2023-24)\\\\*\\n\\n</figcaption>\\n\\n![](figures/2)<!-- FigureContent=\"The image shows a horizontal bar graph titled \"Figure 2: Statewise Rapeseed & Mustard Production Share of Top 5 States (2023-24)*\". \\nThe graph displays the percentage share of production across five different states, \\nwhich are listed on the horizontal axis.\\n\\nThe bars represent the following states and their respective production share percentages:\\n\\n- Rajasthan: 45.41%\\n- Uttar Pradesh: 14.24%\\n- Madhya Pradesh: 13.28%\\n- Haryana: 10.78%\\n- West Bengal: 5.99%\\n\\nThe production share is illustrated on the vertical axis that ranges from 0% to 40%, in increments of 10. The bars for each state are color-coded in shades of blue-green, with the color intensity apparently corresponding to the size of the production share. Darker shades indicate larger shares, as suggested by the \\'Color Scale\\' legend on the right side of the graph, which shows a gradient from light to dark with values from 10 to 40, even though such numbers do not overtly correlate with the production shares displayed in the graph.\\n\\nPlease note that there is an asterisk (*) next to the year (2023-24), which typically indicates a footnote or additional information somewhere in the associated document, which is not visible in the image provided.\" -->\\n\\n<!-- FigureContent=\"45.41% Color Scale 40 Production share (%) 40 ¥30 30 320 20 14.24% 10 13.28% 10.78% 5.99% 10 0 Rajasthan Uttar Pradesh Madhya Pradesh Haryana West Bengal\" -->\\n\\n</figure>\\n\\n\\n\\\\*Values from 2023-24 are from Third Advance Estimates, Rabi\\n\\nSource: DA&FW\\n\\nTable 1: Top 5 Rapeseed & Mustard Producing States, 2023-24\\\\* (Production in LMTs)\\n\\n| State | Current Year (2023-2024) | Previous Year (2022-2023) | Year (2021-2022) | Last 5 years Average |\\n| - | - | - | - | - |\\n| Rajasthan | 59.77 | 58.32 | 57.76 | 48.83 |\\n| Uttar Pradesh | 18.75 | 16.20 | 10.33 | 11.47 |\\n| Madhya Pradesh | 17.48 | 15.51 | 16.91 | 13.25 |\\n| Haryana | 14.19 | 13.02 | 13.66 | 12.77 |\\n| West Bengal | 7.88 | 8.16 | 7.43 | 7.49 |\\n| All India | 131.61 | 126.43 | 119.63 | 106.39 |\\n\\n\\\\*Values from 2023-24 are from Third Advance Estimates, Rabi Source: DA&FW\\n:selected:<figure>\\n\\n![](figures/3)<!-- FigureContent=\"The image is a small banner or footer likely taken from a website or document. On the left side of the image, there is an emblem, which appears to be the state emblem of India, featuring the Lion Capital of Ashoka. Below the emblem, there is text in Hindi, which is not clearly legible, but it may be a motto or a tagline.\\n\\nIn the middle, there is text that says \"Data from: https://upag-gov.in/\" followed by \"ES&E Division, Department of Agriculture & Farmer Welfare.\" This indicates that the information or data related to the banner has been sourced from the mentioned website, which appears to be associated with the Agricultural Department of a region or state in India, possibly Uttar Pradesh given the \"upag\" in the URL.\\n\\nOn the right side, next to this text, there is a stylized graphic of what looks to be a plant or crop with two leaves and a sheaf of grain in yellow and green colors, which are often used to represent agriculture.\\n\\nThe overall image seems informational and suggests a connection with agricultural data and farmer welfare from an official government source in India.\" -->\\n\\n<!-- FigureContent=\"Data from: https://upag.gov.in/ ES&E Division, Department of Agriculture & Farmer Welfare. अपनेव अपने\" -->\\n\\n</figure>\\n\\n\\n\\n## ARRIVALS & PRICES:\\n\\nArrivals: In May 2024, the all-India mandi arrivals for R&M were 3.05 LMT. The arrivals in Apr 2024, were 7.28 LMT, while in May 2023 3.18 LMT arrived in the mandis. Cumulative arrivals for Jan to May in 2024 are 21.34 LMT, while in 2023 the arrivals were 22.40 LMT\\n\\nMandi Prices: All-India wholesale mandi prices of R&M oilseed was Rs. 5527.95 per quintal in May 2024. In Apr 2024 mandi prices were Rs. 5205.99 per quintal. Compared to same month of last year prices are higher by 6.29% when prices were Rs. 5201.06 per quintal. These prices are lower than the MSP of Rs. 5650 per quintal.\\n\\n<figure>\\n\\n![](figures/4)<!-- FigureContent=\"This image is a horizontal bar chart titled \"Figure 5: All India K&H Arrivals Month wise Comparison (LMT).\" It shows the quantity of arrivals (in Lakh Metric Tonnes, LMT) for certain months spanning from May 2021 to May 2024. Each bar represents the quantity of arrivals for a specific month, and above each bar is a numerical value indicating the precise quantity in LMT.\\n\\nStarting from May 2021 with 0.95 LMT and continuing to May 2024 with 7.28 LMT, the chart displays a fluctuating pattern with some months having noticeably larger amounts of arrivals than others. For example, April 2022 shows the highest quantity at 12.94 LMT, which significantly stands out on the chart. Conversely, several months such as December 2023 and January 2024 show lower quantities, around 1.22 and 1.12 LMT, respectively.\\n\\nThe chart is sourced from Agmarknet, as indicated by the image caption, which suggests the data pertains to agricultural market arrivals in India.\" -->\\n\\n<!-- FigureContent=\"Figure 3: All India R&M arrivals month wise comparison (LMT) 12.94 12 10 8 8.25 7.4 7.28 6 6.77 5.45 4 4.67 4.28 3.54 3.18 3.26 2 2.62 3.0 17.32 1.75 1.95 1.94 2.05 1,51 1.49 0.95 1.14 1.11 1.41 1.35 1.63 1.7 1.75 1.31 1.31 1.2 1.1 0 0.69 0.7. 0.73 1.05 0.97 May 2021 Jun 2021 Jul 2021 Aug 2021 Sep 2021 Oct 2021 Nov 2021 Dec 2021 Jan 2022 Feb 2022 Mar 2022 Apr 2022 May 2022 Jun 2022 Jul 2022 Aug 2022 Sep 2022 Oct 2022 Nov 2022 Dec 2022 Jan 2023 Feb 2023 Mar 2023 Apr 2023 May 2023 Jun 2023 Jul 2023 Aug 2023 Sep 2023 Oct 2023 Nov 2023 Jan 2024 Dec 2023 Feb 2024 Mar 2024 Apr 2024 May 2024 :selected: Arrivals(Tonnes)\" -->\\n\\n<figcaption>\\n\\nSource: Agmarknet\\n\\n</figcaption>\\n\\n</figure>\\n\\n\\nFigure 4: All India Mandi prices & MSP of R&M in Rs./Qtl\\n\\n<figure>\\n\\n![](figures/5)<!-- FigureContent=\"The image is a line graph with two lines representing price trends over time from May 2022 to May 2024. Each line uses a different color: one is orange, and the other is blue, to represent different datasets or categories. \\n\\nThe vertical axis on the left is labeled \"Prices (Rs/Qtl),\" showing the price range from 5000 to 6500 with increments, suggesting these prices are in Indian Rupees per Quintal. \\n\\nThe horizontal axis along the bottom shows the months from May 2022 to May 2024, spaced three months apart. This indicates that data points may be quarterly.\\n\\nThe orange line starts at the top with a value near 6471.11 in May 2022 and then mostly declines with some fluctuations until reaching a low point around February 2023. It then increases and has some variability before it ends at a value of 5300.60 in May 2024.\\n\\nThe blue line remains constant at a value of 5050.00 from May 2022 until about February 2023. After that, it shows an upward trend with some small fluctuations, ending at a value of 5650.00 in May 2024. \\n\\nThe graph may represent the price movements of two different commodities, products, or markets over the specified time period. Without more context, it\\'s challenging to provide a specific interpretation of what these lines represent.\" -->\\n\\n<!-- FigureContent=\"6500 6471.11 6000 Prices (Rs/Qtl) 5650.00 35500 5300.60 5050.00 5000 May - 2022 Aug - 2022 Nov - 2022 Feb - 2023 May - 2023 Aug - 2023 Nov - 2023 Feb - 2024 May - 2024\" -->\\n\\n</figure>\\n\\n\\n\\\\-MSP (DA&FW) - Mandi Modal Price (AgMarknet)\\n\\nSource: Agmarknet & DA&FW\\n\\n\\n'"
      ]
     },
     "execution_count": 18,
     "metadata": {},
     "output_type": "execute_result"
    }
   ],
   "source": [
    "content_text"
   ]
  },
  {
   "cell_type": "code",
   "execution_count": 19,
   "id": "19468694",
   "metadata": {},
   "outputs": [],
   "source": [
    "from langchain_cohere import CohereEmbeddings"
   ]
  },
  {
   "cell_type": "code",
   "execution_count": 20,
   "id": "84cdca0c",
   "metadata": {},
   "outputs": [],
   "source": [
    "oaiembeds = CohereEmbeddings(\n",
    "    model=\"embed-english-light-v3.0\"\n",
    ")"
   ]
  },
  {
   "cell_type": "code",
   "execution_count": 21,
   "id": "eb298426",
   "metadata": {},
   "outputs": [],
   "source": [
    "from langchain_experimental.text_splitter import SemanticChunker"
   ]
  },
  {
   "cell_type": "code",
   "execution_count": 22,
   "id": "6760f6f2",
   "metadata": {},
   "outputs": [
    {
     "name": "stdout",
     "output_type": "stream",
     "text": [
      "percentile:  4\n"
     ]
    }
   ],
   "source": [
    "chunker = SemanticChunker(oaiembeds, breakpoint_threshold_type=\"percentile\")\n",
    "chunks = chunker.split_text(content_text)\n",
    "print(\"percentile: \",len(chunks))"
   ]
  },
  {
   "cell_type": "code",
   "execution_count": 23,
   "id": "b22a1767",
   "metadata": {},
   "outputs": [
    {
     "name": "stdout",
     "output_type": "stream",
     "text": [
      "interquartile:  5\n"
     ]
    }
   ],
   "source": [
    "chunker = SemanticChunker(oaiembeds, breakpoint_threshold_type=\"interquartile\")\n",
    "chunks = chunker.split_text(content_text)\n",
    "print(\"interquartile: \",len(chunks))"
   ]
  },
  {
   "cell_type": "code",
   "execution_count": 24,
   "id": "2ff2d6df",
   "metadata": {},
   "outputs": [
    {
     "name": "stdout",
     "output_type": "stream",
     "text": [
      "standard_deviation:  1\n"
     ]
    }
   ],
   "source": [
    "chunker = SemanticChunker(oaiembeds, breakpoint_threshold_type=\"standard_deviation\")\n",
    "chunks = chunker.split_text(content_text)\n",
    "print(\"standard_deviation: \",len(chunks))"
   ]
  },
  {
   "cell_type": "code",
   "execution_count": 25,
   "id": "75c74688",
   "metadata": {},
   "outputs": [
    {
     "name": "stdout",
     "output_type": "stream",
     "text": [
      "1\n"
     ]
    }
   ],
   "source": [
    "print(len(chunks))"
   ]
  },
  {
   "cell_type": "code",
   "execution_count": 26,
   "id": "75bec3d5",
   "metadata": {},
   "outputs": [
    {
     "name": "stdout",
     "output_type": "stream",
     "text": [
      "\n",
      "\n",
      " <figure>\n",
      "\n",
      "![](figures/0)<!-- FigureContent=\"The image displays a logo on the left, which is the emblem of India composed of four lions standing back to back, signifying power, courage, pride, and confidence. Below the emblem, text in Devanagari script likely represents the government body associated with the emblem. To the right is text in English that reads \"Data from: https://upag-gov.in/ ES&E Division, Department of Agriculture & Farmer Welfare.\" The URL provided suggests that the data is sourced from a website related to agriculture and farmer welfare, specifically from a division called ES&E (which might stand for Economics, Statistics & Extension) within the department, and this department is likely associated with the government of Uttar Pradesh, India considering the \"up\" in the URL. There is also a stylized graphic in green and yellow depicting what appears to be a sprouting plant or agricultural symbol, representing the theme of agriculture.\" -->\n",
      "\n",
      "<!-- FigureContent=\"Data from: https://upag.gov.in/ ES&E Division, Department of Agriculture & Farmer Welfare. अपनेल रूपले\" -->\n",
      "\n",
      "</figure>\n",
      "\n",
      "\n",
      "Commodity Report: Rapeseed & Mustard\n",
      "===\n",
      "\n",
      "Key parameters on commodity situation are discussed below\n",
      "===\n",
      "\n",
      "R&M OILSEED\n",
      "===\n",
      "\n",
      "\n",
      "## CROP CALENDER:\n",
      "\n",
      "R&M oilseed is grown during the Rabi season. The sowing is done mainly between October and November and the crop is harvested mainly between February and April. ## Figure 1: Crop Calendar\n",
      " :selected:\n",
      "<figure>\n",
      "\n",
      "![](figures/1)<!-- FigureContent=\"The image shows two tabs or buttons side by side. On the left is a tab with a green colored background labeled \"Harvesting,\" and on the right is a tab with a blue colored background labeled \"Sowing.\" The \"Harvesting\" tab appears to be the active or selected option, as indicated by its brighter color and lack of a border compared to the \"Sowing\" tab. The \"Sowing\" tab seems unselected, with a darker background and an outline.\" -->\n",
      "\n",
      "<!-- FigureContent=\"Harvesting Sowing\" -->\n",
      "\n",
      "</figure>\n",
      "\n",
      "\n",
      "| SEASON | JUN | JUL | AUG | SEP | OCT | NOV | DEC | JAN | FEB | MAR | APR | MAY |\n",
      "| - | - | - | - | - | - | - | - | - | - | - | - | - |\n",
      "| Rabi | | | | | | | | | | | | |\n",
      "\n",
      "Source: ICAR\n",
      "\n",
      "\n",
      "## PRODUCTION:\n",
      "\n",
      "As per GOI's Third Advance Estimates, 2023-24, \n",
      "R&M production in the current year is estimated to be 131.61 LMTs, \n",
      "slightly higher than last year's production of 126.43 LMT. All India production increased by 23.71% when compared to the last 5-year average. Rajasthan accounted for 45.41% of the total production in 2023-24. India's CAGR for R&M production for the last 5 years was 6.44%. The conversion ratio for R&M oil is 33% and for meal is 67%. <figure>\n",
      "\n",
      "<figcaption>\n",
      "\n",
      "Figure 2: Statewise Rapeseed & Mustard Production Share of Top 5 States (2023-24)\\*\n",
      "\n",
      "</figcaption>\n",
      "\n",
      "![](figures/2)<!-- FigureContent=\"The image shows a horizontal bar graph titled \"Figure 2: Statewise Rapeseed & Mustard Production Share of Top 5 States (2023-24)*\". The graph displays the percentage share of production across five different states, \n",
      "which are listed on the horizontal axis. The bars represent the following states and their respective production share percentages:\n",
      "\n",
      "- Rajasthan: 45.41%\n",
      "- Uttar Pradesh: 14.24%\n",
      "- Madhya Pradesh: 13.28%\n",
      "- Haryana: 10.78%\n",
      "- West Bengal: 5.99%\n",
      "\n",
      "The production share is illustrated on the vertical axis that ranges from 0% to 40%, in increments of 10. The bars for each state are color-coded in shades of blue-green, with the color intensity apparently corresponding to the size of the production share. Darker shades indicate larger shares, as suggested by the 'Color Scale' legend on the right side of the graph, which shows a gradient from light to dark with values from 10 to 40, even though such numbers do not overtly correlate with the production shares displayed in the graph. Please note that there is an asterisk (*) next to the year (2023-24), which typically indicates a footnote or additional information somewhere in the associated document, which is not visible in the image provided.\" -->\n",
      "\n",
      "<!-- FigureContent=\"45.41% Color Scale 40 Production share (%) 40 ¥30 30 320 20 14.24% 10 13.28% 10.78% 5.99% 10 0 Rajasthan Uttar Pradesh Madhya Pradesh Haryana West Bengal\" -->\n",
      "\n",
      "</figure>\n",
      "\n",
      "\n",
      "\\*Values from 2023-24 are from Third Advance Estimates, Rabi\n",
      "\n",
      "Source: DA&FW\n",
      "\n",
      "Table 1: Top 5 Rapeseed & Mustard Producing States, 2023-24\\* (Production in LMTs)\n",
      "\n",
      "| State | Current Year (2023-2024) | Previous Year (2022-2023) | Year (2021-2022) | Last 5 years Average |\n",
      "| - | - | - | - | - |\n",
      "| Rajasthan | 59.77 | 58.32 | 57.76 | 48.83 |\n",
      "| Uttar Pradesh | 18.75 | 16.20 | 10.33 | 11.47 |\n",
      "| Madhya Pradesh | 17.48 | 15.51 | 16.91 | 13.25 |\n",
      "| Haryana | 14.19 | 13.02 | 13.66 | 12.77 |\n",
      "| West Bengal | 7.88 | 8.16 | 7.43 | 7.49 |\n",
      "| All India | 131.61 | 126.43 | 119.63 | 106.39 |\n",
      "\n",
      "\\*Values from 2023-24 are from Third Advance Estimates, Rabi Source: DA&FW\n",
      ":selected:<figure>\n",
      "\n",
      "![](figures/3)<!-- FigureContent=\"The image is a small banner or footer likely taken from a website or document. On the left side of the image, there is an emblem, which appears to be the state emblem of India, featuring the Lion Capital of Ashoka. Below the emblem, there is text in Hindi, which is not clearly legible, but it may be a motto or a tagline. In the middle, there is text that says \"Data from: https://upag-gov.in/\" followed by \"ES&E Division, Department of Agriculture & Farmer Welfare.\" This indicates that the information or data related to the banner has been sourced from the mentioned website, which appears to be associated with the Agricultural Department of a region or state in India, possibly Uttar Pradesh given the \"upag\" in the URL. On the right side, next to this text, there is a stylized graphic of what looks to be a plant or crop with two leaves and a sheaf of grain in yellow and green colors, which are often used to represent agriculture. The overall image seems informational and suggests a connection with agricultural data and farmer welfare from an official government source in India.\" -->\n",
      "\n",
      "<!-- FigureContent=\"Data from: https://upag.gov.in/ ES&E Division, Department of Agriculture & Farmer Welfare. अपनेव अपने\" -->\n",
      "\n",
      "</figure>\n",
      "\n",
      "\n",
      "\n",
      "## ARRIVALS & PRICES:\n",
      "\n",
      "Arrivals: In May 2024, the all-India mandi arrivals for R&M were 3.05 LMT. The arrivals in Apr 2024, were 7.28 LMT, while in May 2023 3.18 LMT arrived in the mandis. Cumulative arrivals for Jan to May in 2024 are 21.34 LMT, while in 2023 the arrivals were 22.40 LMT\n",
      "\n",
      "Mandi Prices: All-India wholesale mandi prices of R&M oilseed was Rs. 5527.95 per quintal in May 2024. In Apr 2024 mandi prices were Rs. 5205.99 per quintal. Compared to same month of last year prices are higher by 6.29% when prices were Rs. 5201.06 per quintal. These prices are lower than the MSP of Rs. 5650 per quintal. <figure>\n",
      "\n",
      "![](figures/4)<!-- FigureContent=\"This image is a horizontal bar chart titled \"Figure 5: All India K&H Arrivals Month wise Comparison (LMT).\" It shows the quantity of arrivals (in Lakh Metric Tonnes, LMT) for certain months spanning from May 2021 to May 2024. Each bar represents the quantity of arrivals for a specific month, and above each bar is a numerical value indicating the precise quantity in LMT. Starting from May 2021 with 0.95 LMT and continuing to May 2024 with 7.28 LMT, the chart displays a fluctuating pattern with some months having noticeably larger amounts of arrivals than others. For example, April 2022 shows the highest quantity at 12.94 LMT, which significantly stands out on the chart. Conversely, several months such as December 2023 and January 2024 show lower quantities, around 1.22 and 1.12 LMT, respectively. The chart is sourced from Agmarknet, as indicated by the image caption, which suggests the data pertains to agricultural market arrivals in India.\" -->\n",
      "\n",
      "<!-- FigureContent=\"Figure 3: All India R&M arrivals month wise comparison (LMT) 12.94 12 10 8 8.25 7.4 7.28 6 6.77 5.45 4 4.67 4.28 3.54 3.18 3.26 2 2.62 3.0 17.32 1.75 1.95 1.94 2.05 1,51 1.49 0.95 1.14 1.11 1.41 1.35 1.63 1.7 1.75 1.31 1.31 1.2 1.1 0 0.69 0.7. 0.73 1.05 0.97 May 2021 Jun 2021 Jul 2021 Aug 2021 Sep 2021 Oct 2021 Nov 2021 Dec 2021 Jan 2022 Feb 2022 Mar 2022 Apr 2022 May 2022 Jun 2022 Jul 2022 Aug 2022 Sep 2022 Oct 2022 Nov 2022 Dec 2022 Jan 2023 Feb 2023 Mar 2023 Apr 2023 May 2023 Jun 2023 Jul 2023 Aug 2023 Sep 2023 Oct 2023 Nov 2023 Jan 2024 Dec 2023 Feb 2024 Mar 2024 Apr 2024 May 2024 :selected: Arrivals(Tonnes)\" -->\n",
      "\n",
      "<figcaption>\n",
      "\n",
      "Source: Agmarknet\n",
      "\n",
      "</figcaption>\n",
      "\n",
      "</figure>\n",
      "\n",
      "\n",
      "Figure 4: All India Mandi prices & MSP of R&M in Rs./Qtl\n",
      "\n",
      "<figure>\n",
      "\n",
      "![](figures/5)<!-- FigureContent=\"The image is a line graph with two lines representing price trends over time from May 2022 to May 2024. Each line uses a different color: one is orange, and the other is blue, to represent different datasets or categories. The vertical axis on the left is labeled \"Prices (Rs/Qtl),\" showing the price range from 5000 to 6500 with increments, suggesting these prices are in Indian Rupees per Quintal. The horizontal axis along the bottom shows the months from May 2022 to May 2024, spaced three months apart. This indicates that data points may be quarterly. The orange line starts at the top with a value near 6471.11 in May 2022 and then mostly declines with some fluctuations until reaching a low point around February 2023. It then increases and has some variability before it ends at a value of 5300.60 in May 2024. The blue line remains constant at a value of 5050.00 from May 2022 until about February 2023. After that, it shows an upward trend with some small fluctuations, ending at a value of 5650.00 in May 2024. The graph may represent the price movements of two different commodities, products, or markets over the specified time period. Without more context, it's challenging to provide a specific interpretation of what these lines represent.\" -->\n",
      "\n",
      "<!-- FigureContent=\"6500 6471.11 6000 Prices (Rs/Qtl) 5650.00 35500 5300.60 5050.00 5000 May - 2022 Aug - 2022 Nov - 2022 Feb - 2023 May - 2023 Aug - 2023 Nov - 2023 Feb - 2024 May - 2024\" -->\n",
      "\n",
      "</figure>\n",
      "\n",
      "\n",
      "\\-MSP (DA&FW) - Mandi Modal Price (AgMarknet)\n",
      "\n",
      "Source: Agmarknet & DA&FW\n",
      "\n",
      "\n",
      "\n"
     ]
    }
   ],
   "source": [
    "print(chunks[0])"
   ]
  },
  {
   "cell_type": "code",
   "execution_count": 27,
   "id": "1df8ddf6",
   "metadata": {},
   "outputs": [
    {
     "ename": "IndexError",
     "evalue": "list index out of range",
     "output_type": "error",
     "traceback": [
      "\u001b[1;31m---------------------------------------------------------------------------\u001b[0m",
      "\u001b[1;31mIndexError\u001b[0m                                Traceback (most recent call last)",
      "Cell \u001b[1;32mIn[27], line 1\u001b[0m\n\u001b[1;32m----> 1\u001b[0m \u001b[38;5;28mprint\u001b[39m(\u001b[43mchunks\u001b[49m\u001b[43m[\u001b[49m\u001b[38;5;241;43m7\u001b[39;49m\u001b[43m]\u001b[49m)\n",
      "\u001b[1;31mIndexError\u001b[0m: list index out of range"
     ]
    }
   ],
   "source": [
    "print(chunks[7])"
   ]
  },
  {
   "cell_type": "markdown",
   "id": "9d5da984-67dc-43ce-b871-b5e91186767a",
   "metadata": {},
   "source": [
    "Now let's go get our embeddings. We'll do this in batch to make it quicker."
   ]
  },
  {
   "cell_type": "code",
   "execution_count": 28,
   "id": "8a18ba5b-4c9f-42d8-bad0-ca0825715f1b",
   "metadata": {},
   "outputs": [],
   "source": [
    "embeddings = oaiembeds.embed_documents([x['combined_sentence'] for x in sentences])"
   ]
  },
  {
   "cell_type": "code",
   "execution_count": 29,
   "id": "128ce7b6",
   "metadata": {},
   "outputs": [
    {
     "data": {
      "text/plain": [
       "51"
      ]
     },
     "execution_count": 29,
     "metadata": {},
     "output_type": "execute_result"
    }
   ],
   "source": [
    "len(embeddings)"
   ]
  },
  {
   "cell_type": "markdown",
   "id": "6a2cdc46-ad21-4e8e-a540-548aa3604212",
   "metadata": {},
   "source": [
    "Now we have a list of embeddings, but we need to add them to our list of dicts"
   ]
  },
  {
   "cell_type": "code",
   "execution_count": 30,
   "id": "45828ce9-31cf-4810-a5e8-2098201a91dd",
   "metadata": {},
   "outputs": [],
   "source": [
    "for i, sentence in enumerate(sentences):\n",
    "    sentence['combined_sentence_embedding'] = embeddings[i]"
   ]
  },
  {
   "cell_type": "markdown",
   "id": "7a4f5f3e-f436-4374-be90-a1f5f819e518",
   "metadata": {},
   "source": [
    "Great, now we're getting to the cool part, let's check out the cosine distances between sequential embedding pairs to see where the break points are. We'll add 'distance_to_next' as another key"
   ]
  },
  {
   "cell_type": "code",
   "execution_count": 31,
   "id": "95792785-a966-4b40-a9c4-c76eaed71766",
   "metadata": {},
   "outputs": [],
   "source": [
    "from sklearn.metrics.pairwise import cosine_similarity\n",
    "\n",
    "def calculate_cosine_distances(sentences):\n",
    "    distances = []\n",
    "    for i in range(len(sentences) - 1):\n",
    "        embedding_current = sentences[i]['combined_sentence_embedding']\n",
    "        embedding_next = sentences[i + 1]['combined_sentence_embedding']\n",
    "        \n",
    "        # Calculate cosine similarity\n",
    "        similarity = cosine_similarity([embedding_current], [embedding_next])[0][0]\n",
    "        \n",
    "        # Convert to cosine distance\n",
    "        distance = 1 - similarity\n",
    "\n",
    "        # Append cosine distance to the list\n",
    "        distances.append(distance)\n",
    "\n",
    "        # Store distance in the dictionary\n",
    "        sentences[i]['distance_to_next'] = distance\n",
    "\n",
    "    # Optionally handle the last sentence\n",
    "    # sentences[-1]['distance_to_next'] = None  # or a default value\n",
    "\n",
    "    return distances, sentences"
   ]
  },
  {
   "cell_type": "markdown",
   "id": "45abeb2e-605b-4556-82ca-b7c99eec742a",
   "metadata": {},
   "source": [
    "Great, now let's pull out the distances from our sentences and then add them as well"
   ]
  },
  {
   "cell_type": "code",
   "execution_count": 32,
   "id": "336bf78a-8109-4fc5-92b3-28aa049b9f99",
   "metadata": {},
   "outputs": [],
   "source": [
    "distances, sentences = calculate_cosine_distances(sentences)"
   ]
  },
  {
   "cell_type": "markdown",
   "id": "57eeacef-1594-41ea-a5f9-70f99b8878f3",
   "metadata": {},
   "source": [
    "Let's take a look at what our distances array looks like."
   ]
  },
  {
   "cell_type": "code",
   "execution_count": 33,
   "id": "3c330493-20f9-456e-a6f7-7e16cac4f3d1",
   "metadata": {},
   "outputs": [
    {
     "data": {
      "text/plain": [
       "50"
      ]
     },
     "execution_count": 33,
     "metadata": {},
     "output_type": "execute_result"
    }
   ],
   "source": [
    "len(distances)"
   ]
  },
  {
   "cell_type": "markdown",
   "id": "7e960090-8714-4481-adec-33fe39c31bc4",
   "metadata": {},
   "source": [
    "Hm, yep, just a bunch of numbers that aren't fun to look at. Let's plot them."
   ]
  },
  {
   "cell_type": "code",
   "execution_count": 34,
   "id": "986e4885-b079-4a4a-9ae4-a1227d6ce1bc",
   "metadata": {},
   "outputs": [
    {
     "data": {
      "image/png": "[encoded data removed]",
      "text/plain": [
       "<Figure size 640x480 with 1 Axes>"
      ]
     },
     "metadata": {},
     "output_type": "display_data"
    }
   ],
   "source": [
    "import matplotlib.pyplot as plt\n",
    "\n",
    "plt.plot(distances);"
   ]
  },
  {
   "cell_type": "markdown",
   "id": "f4703f6b-9bf1-45ef-b0ea-a4fb95cc9007",
   "metadata": {},
   "source": [
    "Hm, cool! It's interesting to see sections where distances are smaller and then areas of larger distances. What stands out to me most is the outliers which are spread out.\n",
    "\n",
    "There are many ways to chunk up the essay based off these distances, but I'm going to consider any distance above the 95th percentile of distances as a break point. This is the only parameter we'll need to config.\n",
    "\n",
    "I'm going to build in the final viz, check out the video for an iterative build and an overview."
   ]
  },
  {
   "cell_type": "markdown",
   "id": "5044cd49-ef33-4d00-a629-bc3411b7939e",
   "metadata": {},
   "source": [
    "Let's look at the chunks that came out"
   ]
  },
  {
   "cell_type": "code",
   "execution_count": 48,
   "id": "cba11136-a6fb-4ec6-83db-0476c9efc5e0",
   "metadata": {},
   "outputs": [
    {
     "data": {
      "image/png": "[encoded data removed]",
      "text/plain": [
       "<Figure size 640x480 with 1 Axes>"
      ]
     },
     "metadata": {},
     "output_type": "display_data"
    }
   ],
   "source": [
    "import numpy as np\n",
    "\n",
    "plt.plot(distances);\n",
    "\n",
    "y_upper_bound = .2\n",
    "plt.ylim(0, y_upper_bound)\n",
    "plt.xlim(0, len(distances))\n",
    "\n",
    "# We need to get the distance threshold that we'll consider an outlier\n",
    "# We'll use numpy .percentile() for this\n",
    "breakpoint_percentile_threshold = 60\n",
    "\n",
    "breakpoint_distance_threshold = np.percentile(distances, breakpoint_percentile_threshold) # If you want more chunks, lower the percentile cutoff\n",
    "plt.axhline(y=breakpoint_distance_threshold, color='r', linestyle='-');\n",
    "\n",
    "# Then we'll see how many distances are actually above this one\n",
    "num_distances_above_theshold = len([x for x in distances if x > breakpoint_distance_threshold]) # The amount of distances above your threshold\n",
    "plt.text(x=(len(distances)*.01), y=y_upper_bound/50, s=f\"{num_distances_above_theshold + 1} Chunks\");\n",
    "\n",
    "# Then we'll get the index of the distances that are above the threshold. This will tell us where we should split our text\n",
    "indices_above_thresh = [i for i, x in enumerate(distances) if x > breakpoint_distance_threshold] # The indices of those breakpoints on your list\n",
    "\n",
    "# Start of the shading and text\n",
    "colors = ['b', 'g', 'r', 'c', 'm', 'y', 'k']\n",
    "for i, breakpoint_index in enumerate(indices_above_thresh):\n",
    "    start_index = 0 if i == 0 else indices_above_thresh[i - 1]\n",
    "    end_index = breakpoint_index if i < len(indices_above_thresh) - 1 else len(distances)\n",
    "\n",
    "    plt.axvspan(start_index, end_index, facecolor=colors[i % len(colors)], alpha=0.25)\n",
    "    plt.text(x=np.average([start_index, end_index]),\n",
    "             y=breakpoint_distance_threshold + (y_upper_bound)/ 20,\n",
    "             s=f\"Chunk #{i}\", horizontalalignment='center',\n",
    "             rotation='vertical')\n",
    "\n",
    "# # Additional step to shade from the last breakpoint to the end of the dataset\n",
    "if indices_above_thresh:\n",
    "    last_breakpoint = indices_above_thresh[-1]\n",
    "    if last_breakpoint < len(distances):\n",
    "        plt.axvspan(last_breakpoint, len(distances), facecolor=colors[len(indices_above_thresh) % len(colors)], alpha=0.25)\n",
    "        plt.text(x=np.average([last_breakpoint, len(distances)]),\n",
    "                 y=breakpoint_distance_threshold + (y_upper_bound)/ 20,\n",
    "                 s=f\"Chunk #{i+1}\",\n",
    "                 rotation='vertical')\n",
    "\n",
    "plt.title(\"Chunks Based On Embedding Breakpoints\")\n",
    "plt.xlabel(\"Index of sentences in essay (Sentence Position)\")\n",
    "plt.ylabel(\"Cosine distance between sequential sentences\")\n",
    "plt.show()"
   ]
  },
  {
   "cell_type": "markdown",
   "id": "6c942fe5-cfb4-44b2-8177-35983e88ea82",
   "metadata": {},
   "source": [
    "Well now that we've succefully distracted ourselves with a visualization, now we need to combine the sentences into chunks.\n",
    "\n",
    "Because we have our breakpoints [23, 40, 51...] I want to make the first chunk 0-22, since the distance jumped on sentence 23."
   ]
  },
  {
   "cell_type": "code",
   "execution_count": 40,
   "id": "f17828f0-4d1b-4514-ad87-343301cb8450",
   "metadata": {},
   "outputs": [],
   "source": [
    "# Initialize the start index\n",
    "start_index = 0\n",
    "\n",
    "# Create a list to hold the grouped sentences\n",
    "chunks = []\n",
    "\n",
    "# Iterate through the breakpoints to slice the sentences\n",
    "for index in indices_above_thresh:\n",
    "    # The end index is the current breakpoint\n",
    "    end_index = index\n",
    "\n",
    "    # Slice the sentence_dicts from the current start index to the end index\n",
    "    group = sentences[start_index:end_index + 1]\n",
    "    combined_text = ' '.join([d['sentence'] for d in group])\n",
    "    chunks.append(combined_text)\n",
    "    \n",
    "    # Update the start index for the next group\n",
    "    start_index = index + 1\n",
    "\n",
    "# The last group, if any sentences remain\n",
    "if start_index < len(sentences):\n",
    "    combined_text = ' '.join([d['sentence'] for d in sentences[start_index:]])\n",
    "    chunks.append(combined_text)\n",
    "\n",
    "# grouped_sentences now contains the chunked sentences"
   ]
  },
  {
   "cell_type": "markdown",
   "id": "8418f022-d929-427e-9977-ec12c4eb0236",
   "metadata": {},
   "source": [
    "Great now let's manually inspect a few to make sure they look ok."
   ]
  },
  {
   "cell_type": "code",
   "execution_count": 45,
   "id": "09a13062",
   "metadata": {},
   "outputs": [
    {
     "name": "stdout",
     "output_type": "stream",
     "text": [
      "The graph may represent the price movements of two different commodities, products, or markets over the specified time period. Without more context, it's challenging to provide a specific interpretation of what these lines represent.\" -->\n",
      "\n",
      "<!-- FigureContent=\"6500 6471.11 6000 Prices (Rs/Qtl) 5650.00 35500 5300.60 5050.00 5000 May - 2022 Aug - 2022 Nov - 2022 Feb - 2023 May - 2023 Aug - 2023 Nov - 2023 Feb - 2024 May - 2024\" -->\n",
      "\n",
      "</figure>\n",
      "\n",
      "\n",
      "\\-MSP (DA&FW) - Mandi Modal Price (AgMarknet)\n",
      "\n",
      "Source: Agmarknet & DA&FW\n",
      "\n",
      "\n",
      "\n"
     ]
    }
   ],
   "source": [
    "print(chunks[5])"
   ]
  },
  {
   "cell_type": "code",
   "execution_count": 47,
   "id": "d709135b-6465-4720-8eb8-60dc9f91efac",
   "metadata": {},
   "outputs": [
    {
     "name": "stdout",
     "output_type": "stream",
     "text": [
      "Chunk #0\n",
      "<figure>\n",
      "\n",
      "![](figures/0)<!-- FigureContent=\"The image displays a logo on the left, which is the emblem of India composed of four lions standing back to back, signifying power, courage, pride, and c\n",
      "...\n",
      "=\n",
      "\n",
      "R&M OILSEED\n",
      "===\n",
      "\n",
      "\n",
      "## CROP CALENDER:\n",
      "\n",
      "R&M oilseed is grown during the Rabi season. The sowing is done mainly between October and November and the crop is harvested mainly between February and April.\n",
      "\n",
      "\n",
      "Chunk #1\n",
      "## Figure 1: Crop Calendar\n",
      " :selected:\n",
      "<figure>\n",
      "\n",
      "![](figures/1)<!-- FigureContent=\"The image shows two tabs or buttons side by side. On the left is a tab with a green colored background labeled \"Harve\n",
      "...\n",
      "small banner or footer likely taken from a website or document. On the left side of the image, there is an emblem, which appears to be the state emblem of India, featuring the Lion Capital of Ashoka.\n",
      "\n",
      "\n",
      "Chunk #2\n",
      "Below the emblem, there is text in Hindi, which is not clearly legible, but it may be a motto or a tagline. In the middle, there is text that says \"Data from: https://upag-gov.in/\" followed by \"ES&E D\n",
      "...\n",
      "Apr 2024 mandi prices were Rs. 5205.99 per quintal. Compared to same month of last year prices are higher by 6.29% when prices were Rs. 5201.06 per quintal. These prices are lower than the MSP of Rs.\n",
      "\n",
      "\n",
      "Chunk #3\n",
      "5650 per quintal. <figure>\n",
      "\n",
      "![](figures/4)<!-- FigureContent=\"This image is a horizontal bar chart titled \"Figure 5: All India K&H Arrivals Month wise Comparison (LMT).\" It shows the quantity of arriv\n",
      "...\n",
      "from 5000 to 6500 with increments, suggesting these prices are in Indian Rupees per Quintal. The horizontal axis along the bottom shows the months from May 2022 to May 2024, spaced three months apart.\n",
      "\n",
      "\n",
      "Chunk #4\n",
      "This indicates that data points may be quarterly. The orange line starts at the top with a value near 6471.11 in May 2022 and then mostly declines with some fluctuations until reaching a low point aro\n",
      "...\n",
      "e blue line remains constant at a value of 5050.00 from May 2022 until about February 2023. After that, it shows an upward trend with some small fluctuations, ending at a value of 5650.00 in May 2024.\n",
      "\n",
      "\n",
      "Chunk #5\n",
      "The graph may represent the price movements of two different commodities, products, or markets over the specified time period. Without more context, it's challenging to provide a specific interpretati\n",
      "...\n",
      "00 5000 May - 2022 Aug - 2022 Nov - 2022 Feb - 2023 May - 2023 Aug - 2023 Nov - 2023 Feb - 2024 May - 2024\" -->\n",
      "\n",
      "</figure>\n",
      "\n",
      "\n",
      "\\-MSP (DA&FW) - Mandi Modal Price (AgMarknet)\n",
      "\n",
      "Source: Agmarknet & DA&FW\n",
      "\n",
      "\n"
     ]
    }
   ],
   "source": [
    "for i, chunk in enumerate(chunks):\n",
    "    buffer = 200\n",
    "    \n",
    "    print (f\"Chunk #{i}\")\n",
    "    print (chunk[:buffer].strip())\n",
    "    print (\"...\")\n",
    "    print (chunk[-buffer:].strip())\n",
    "    print (\"\\n\")"
   ]
  },
  {
   "cell_type": "markdown",
   "id": "c4a86473-b267-483d-ac45-e0f4d30b67e6",
   "metadata": {},
   "source": [
    "I want to re-emphasize that this is an exploration of a method that is far from usable yet. This method should be tested with RAG eval to ensure that it works for your use case.\n",
    "\n",
    "I didn't worry about chunk size or overlap with this method, but you could recursively split large chunks if you needed to.\n",
    "\n",
    "How should it be improved? Let me [know](https://twitter.com/GregKamradt)! See me tease this [here](https://twitter.com/GregKamradt/status/1737921395974430953)."
   ]
  },
  {
   "cell_type": "markdown",
   "id": "c43ff201-d657-49e0-8a03-8e6460113393",
   "metadata": {},
   "source": [
    "## Level 5: Agentic Chunking <a id=\"AgenticChunking\"></a>\n",
    "Taking level 4 even further - can we instruct an LLM to do this task like a human would?\n",
    "\n",
    "How does a human even go about chunking in the first place?\n",
    "\n",
    "Well...let me think, how would I go about chunking a document into its discrete parts such that the results were semantically similar?\n",
    "\n",
    "1. I would get myself a scratch piece of paper or notepad\n",
    "2. I'd start at the top of the essay and assume the first part will be a chunk (since we don't have any yet)\n",
    "3. Then I would keep going down the essay and evaluate if a new sentence or piece of the essay should be a part of the first chunk, if not, then create a new one\n",
    "4. Then keep doing that all the way down the essay until we got to the end.\n",
    "\n",
    "Woah! Wait a minute - this is pseudo code for something we can try out. See me tease this [here](https://twitter.com/GregKamradt/status/1738276097471754735).\n",
    "\n",
    "I debated whether or not to hold myself to the strict standard of using the *raw text* from a document, or use a derived form. The former felt like I was being too harsh, so I decided to explore using [propositions](https://twitter.com/LangChainAI/status/1735708004618764470). This is a cool concept ([research paper](https://arxiv.org/pdf/2312.06648.pdf)) that extracts stand alone statements from a raw piece of text.\n",
    "\n",
    "Example: `Greg went to the park. He likes walking` > `['Greg went to the park.', 'Greg likes walking']`\n",
    "\n",
    "Let's do it:"
   ]
  },
  {
   "cell_type": "code",
   "execution_count": 63,
   "id": "5a6f79c0-f6bd-4561-bf0a-434955d875e5",
   "metadata": {},
   "outputs": [],
   "source": [
    "from langchain.output_parsers.openai_tools import JsonOutputToolsParser\n",
    "from langchain_community.chat_models import ChatOpenAI\n",
    "from langchain_core.prompts import ChatPromptTemplate\n",
    "from langchain_core.runnables import RunnableLambda\n",
    "from langchain.chains import create_extraction_chain\n",
    "from typing import Optional, List\n",
    "from langchain.chains import create_extraction_chain_pydantic\n",
    "from langchain_core.pydantic_v1 import BaseModel\n",
    "from langchain import hub"
   ]
  },
  {
   "cell_type": "markdown",
   "id": "3ba10ec8-8227-4b95-a2cc-4149941dfe98",
   "metadata": {},
   "source": [
    "Pulling out propositions is done via a well-crafted prompt. I'm going to pull it from [LangHub](https://smith.langchain.com/hub?organizationId=50995362-9ea0-4378-ad97-b4edae2f9f22), LangChain's home for prompts.\n",
    "\n",
    "You can view the proposition prompt [here](https://smith.langchain.com/hub/wfh/proposal-indexing?organizationId=50995362-9ea0-4378-ad97-b4edae2f9f22).\n",
    "\n",
    "I'll use gpt-4 as the LLM because we aren't messing around. I care more about performance than I do speed or cost."
   ]
  },
  {
   "cell_type": "code",
   "execution_count": 64,
   "id": "6de38943-7697-413e-a2e8-8a62cda914b8",
   "metadata": {},
   "outputs": [],
   "source": [
    "obj = hub.pull(\"wfh/proposal-indexing\")\n",
    "llm = ChatOpenAI(model='gpt-4-1106-preview', openai_api_key = os.getenv(\"OPENAI_API_KEY\", 'YouKey'))"
   ]
  },
  {
   "cell_type": "markdown",
   "id": "5a838bc4-e732-492d-80a5-8c829ca637ef",
   "metadata": {},
   "source": [
    "Then I'll make a runnable w/ langchain, this'll be a short way to combine the prompt and llm"
   ]
  },
  {
   "cell_type": "code",
   "execution_count": 65,
   "id": "97236eb3-361e-4ebd-aa13-979ac8718f5f",
   "metadata": {},
   "outputs": [],
   "source": [
    "# use it in a runnable\n",
    "runnable = obj | llm"
   ]
  },
  {
   "cell_type": "markdown",
   "id": "bea6b054-bac6-4ce6-be8f-724a6ea1c5ef",
   "metadata": {},
   "source": [
    "The output from a runnable is a json-esque structure in a string. We need to pull the sentences out. I found that LangChain's example extraction was giving me a hard time so I'm doing it manually with a pydantic data class. There is definitely room to improve this.\n",
    "\n",
    "Create your class then put it in an extraction chain."
   ]
  },
  {
   "cell_type": "code",
   "execution_count": 66,
   "id": "10116bfe-12a0-4f8c-95bf-67a0f8c1ceb5",
   "metadata": {},
   "outputs": [],
   "source": [
    "# Pydantic data class\n",
    "class Sentences(BaseModel):\n",
    "    sentences: List[str]\n",
    "    \n",
    "# Extraction\n",
    "extraction_chain = create_extraction_chain_pydantic(pydantic_schema=Sentences, llm=llm)"
   ]
  },
  {
   "cell_type": "markdown",
   "id": "a462b5c8-5cb2-4dcb-bedd-6ee1ce2cfd08",
   "metadata": {},
   "source": [
    "Then wrap it together in a function that'll return a list of propositions to us"
   ]
  },
  {
   "cell_type": "code",
   "execution_count": 67,
   "id": "7ec04652-19e3-4cab-a882-7c31cd87fe1a",
   "metadata": {},
   "outputs": [],
   "source": [
    "def get_propositions(text):\n",
    "    runnable_output = runnable.invoke({\n",
    "    \t\"input\": text\n",
    "    }).content\n",
    "    \n",
    "    propositions = extraction_chain.run(runnable_output)[0].sentences\n",
    "    return propositions"
   ]
  },
  {
   "cell_type": "markdown",
   "id": "de0bf288-24ba-4a50-a225-400c6fff5c61",
   "metadata": {},
   "source": [
    "Go get your text of choice."
   ]
  },
  {
   "cell_type": "code",
   "execution_count": 68,
   "id": "2be92b95-76d6-4a2c-ba2f-67379998956e",
   "metadata": {},
   "outputs": [],
   "source": [
    "with open('../../data/PGEssays/superlinear.txt') as file:\n",
    "    essay = file.read()"
   ]
  },
  {
   "cell_type": "markdown",
   "id": "25f4ee69-a87e-481e-b01d-403021a2610b",
   "metadata": {},
   "source": [
    "Then you need to decide what you send to your proposal maker. The prompt has an example that is about 1K characters long. So I would experiment with what works for you. This isn't another chunking decision, just pick something reasonable and try it out.\n",
    "\n",
    "I'm using paragraphs"
   ]
  },
  {
   "cell_type": "code",
   "execution_count": 69,
   "id": "1121baaf-c65a-4dce-a942-83cfbf6891cc",
   "metadata": {},
   "outputs": [],
   "source": [
    "paragraphs = essay.split(\"\\n\\n\")"
   ]
  },
  {
   "cell_type": "markdown",
   "id": "e29ae4f7-e58b-4941-b243-ccc72c3bf37c",
   "metadata": {},
   "source": [
    "Let's see how many we have"
   ]
  },
  {
   "cell_type": "code",
   "execution_count": 70,
   "id": "6a2c36b2-bce3-461f-9f52-af1c10b1c3ab",
   "metadata": {},
   "outputs": [
    {
     "data": {
      "text/plain": [
       "53"
      ]
     },
     "execution_count": 70,
     "metadata": {},
     "output_type": "execute_result"
    }
   ],
   "source": [
    "len(paragraphs)"
   ]
  },
  {
   "cell_type": "markdown",
   "id": "6c3cb285-abf3-4334-aff7-5f84d741c7f4",
   "metadata": {},
   "source": [
    "That's too many for a demo, I'll do just the first couple to show it off."
   ]
  },
  {
   "cell_type": "code",
   "execution_count": 71,
   "id": "46fddfc4-7cd6-4fe4-add7-7a12c593ef6c",
   "metadata": {},
   "outputs": [
    {
     "name": "stdout",
     "output_type": "stream",
     "text": [
      "Done with 0\n",
      "Done with 1\n",
      "Done with 2\n",
      "Done with 3\n",
      "Done with 4\n"
     ]
    }
   ],
   "source": [
    "essay_propositions = []\n",
    "\n",
    "for i, para in enumerate(paragraphs[:5]):\n",
    "    propositions = get_propositions(para)\n",
    "    \n",
    "    essay_propositions.extend(propositions)\n",
    "    print (f\"Done with {i}\")"
   ]
  },
  {
   "cell_type": "markdown",
   "id": "c01906ad-b5a2-4b73-a079-4564b66b147e",
   "metadata": {},
   "source": [
    "Let's take a look at what the propositions look like"
   ]
  },
  {
   "cell_type": "code",
   "execution_count": 72,
   "id": "4867944e-13f0-4207-b787-692eeebadea6",
   "metadata": {},
   "outputs": [
    {
     "name": "stdout",
     "output_type": "stream",
     "text": [
      "You have 26 propositions\n"
     ]
    },
    {
     "data": {
      "text/plain": [
       "['The month is October.',\n",
       " 'The year is 2023.',\n",
       " 'I did not understand the degree to which the returns for performance are superlinear when I was a child.',\n",
       " 'The returns for performance are superlinear.',\n",
       " 'Understanding the degree to which the returns for performance are superlinear is one of the most important things.',\n",
       " 'Teachers and coaches implicitly told us the returns were linear.',\n",
       " 'Teachers and coaches meant well.',\n",
       " \"The phrase 'You get out what you put in' was heard a thousand times.\",\n",
       " \"The statement that 'You get out what you put in' is rarely true.\",\n",
       " \"If your product is only half as good as your competitor's product, you don't get half as many customers.\"]"
      ]
     },
     "execution_count": 72,
     "metadata": {},
     "output_type": "execute_result"
    }
   ],
   "source": [
    "print (f\"You have {len(essay_propositions)} propositions\")\n",
    "essay_propositions[:10]"
   ]
  },
  {
   "cell_type": "markdown",
   "id": "941ebfc6-da6a-4fb8-833d-ed2e9810f25e",
   "metadata": {},
   "source": [
    "So you'll see that they look like regular sentences, but they are actually statements that are able to stand on their own. For example, one of the sentences in the raw text is \"They meant well, but this is rarely true.\" if you were to chunk that on it's own, the LLM would have no idea who you're talking about. Who meant well? What is rarely true? But those have been covered by the propositions.\n",
    "\n",
    "Now onto the cool part, we need a system that can reason about each proposition and determine whether or not it should be a part of an existing chunk or if a new chunk should be made.\n",
    "\n",
    "The pseudo code for how this works is above - I also review this code in the video so make sure to go watch that if you want to see me chat about it live.\n",
    "\n",
    "The script is also in this repo if you've cloned it."
   ]
  },
  {
   "cell_type": "code",
   "execution_count": 73,
   "id": "1193f8e1-28aa-4c8c-8929-bfbcf7edc618",
   "metadata": {},
   "outputs": [],
   "source": [
    "# mini script I made\n",
    "from agentic_chunker import AgenticChunker"
   ]
  },
  {
   "cell_type": "code",
   "execution_count": 74,
   "id": "f550431a-9484-4095-a888-31ec3cbe1b42",
   "metadata": {},
   "outputs": [],
   "source": [
    "ac = AgenticChunker()"
   ]
  },
  {
   "cell_type": "markdown",
   "id": "833086aa-d1b7-4ac8-9d85-3a71e6e634ab",
   "metadata": {},
   "source": [
    "Then let's pass in our propositions to it. There are a lot in the full list so I'm only going to do a subset.\n",
    "\n",
    "This method is slow and expensive, but let's see how the results are.\n",
    "\n",
    "You can turn off the print statements via setting `ac = AgenticChunker(print_logging=False)` when you create your chunker."
   ]
  },
  {
   "cell_type": "code",
   "execution_count": 75,
   "id": "f7e9892a-9a1c-4269-a262-7cc4ab0eed32",
   "metadata": {},
   "outputs": [
    {
     "name": "stdout",
     "output_type": "stream",
     "text": [
      "\n",
      "Adding: 'The month is October.'\n",
      "No chunks, creating a new one\n"
     ]
    },
    {
     "name": "stdout",
     "output_type": "stream",
     "text": [
      "Created new chunk (fc52f): Date & Times\n",
      "\n",
      "Adding: 'The year is 2023.'\n",
      "Chunk Found (fc52f), adding to: Date & Times\n",
      "\n",
      "Adding: 'I did not understand the degree to which the returns for performance are superlinear when I was a child.'\n",
      "No chunks found\n",
      "Created new chunk (a4a7e): Effort-Reward Relationship\n",
      "\n",
      "Adding: 'The returns for performance are superlinear.'\n",
      "Chunk Found (a4a7e), adding to: Effort-Reward Relationship\n",
      "\n",
      "Adding: 'Understanding the degree to which the returns for performance are superlinear is one of the most important things.'\n",
      "Chunk Found (a4a7e), adding to: Superlinear Returns in Performance\n",
      "\n",
      "Adding: 'Teachers and coaches implicitly told us the returns were linear.'\n",
      "No chunks found\n",
      "Created new chunk (38e4a): Education & Coaching Returns\n",
      "\n",
      "Adding: 'Teachers and coaches meant well.'\n",
      "No chunks found\n",
      "Created new chunk (0402d): Educational Approaches\n",
      "\n",
      "Adding: 'The phrase 'You get out what you put in' was heard a thousand times.'\n",
      "Chunk Found (38e4a), adding to: Education & Coaching Returns\n",
      "\n",
      "Adding: 'The statement that 'You get out what you put in' is rarely true.'\n",
      "Chunk Found (38e4a), adding to: Effort & Reward Beliefs\n",
      "\n",
      "Adding: 'If your product is only half as good as your competitor's product, you don't get half as many customers.'\n",
      "No chunks found\n",
      "Created new chunk (b0b25): Product Quality & Market Competition\n",
      "\n",
      "Adding: 'If your product is only half as good as your competitor's product, you get no customers.'\n",
      "Chunk Found (b0b25), adding to: Product Quality & Market Competition\n",
      "\n",
      "Adding: 'If your product is only half as good as your competitor's product, you go out of business.'\n",
      "Chunk Found (b0b25), adding to: Product Quality & Customer Acquisition\n",
      "\n",
      "Adding: 'The returns for performance are superlinear in business.'\n",
      "Chunk Found (a4a7e), adding to: Understanding Superlinear Returns\n",
      "\n",
      "Adding: 'Some people think the superlinear returns in business are a flaw of capitalism.'\n",
      "Chunk Found (a4a7e), adding to: Superlinear Returns in Performance & Business\n",
      "\n",
      "Adding: 'Some people think that changing the rules would stop the superlinear returns in business from being true.'\n",
      "Chunk Found (a4a7e), adding to: Superlinear Returns & Economic Perspectives\n",
      "\n",
      "Adding: 'Superlinear returns for performance are a feature of the world.'\n",
      "Chunk Found (a4a7e), adding to: Superlinear Returns in Performance & Business\n",
      "\n",
      "Adding: 'Superlinear returns for performance are not an artifact of rules that humans have invented.'\n",
      "Chunk Found (a4a7e), adding to: Superlinear Returns & Economic Concepts\n",
      "\n",
      "Adding: 'The same pattern of superlinear returns is seen in fame.'\n",
      "Chunk Found (a4a7e), adding to: Superlinear Returns in Performance & Economics\n",
      "\n",
      "Adding: 'The same pattern of superlinear returns is seen in power.'\n",
      "Chunk Found (a4a7e), adding to: Superlinear Returns & Their Implications\n",
      "\n",
      "Adding: 'The same pattern of superlinear returns is seen in military victories.'\n",
      "Chunk Found (a4a7e), adding to: Superlinear Returns in Various Domains\n",
      "\n",
      "Adding: 'The same pattern of superlinear returns is seen in knowledge.'\n",
      "Chunk Found (a4a7e), adding to: Superlinear Returns: Concept, Debate & Significance\n",
      "\n",
      "Adding: 'The same pattern of superlinear returns is seen in benefit to humanity.'\n",
      "Chunk Found (a4a7e), adding to: Superlinear Returns Across Domains\n",
      "\n",
      "Adding: 'In all of these areas, the rich get richer.'\n",
      "Chunk Found (a4a7e), adding to: Superlinear Returns in Performance & Society\n",
      "\n",
      "Adding: 'You cannot understand the world without understanding the concept of superlinear returns.'\n",
      "Chunk Found (a4a7e), adding to: Superlinear Returns Across Domains & Their Implications\n",
      "\n",
      "Adding: 'If you are ambitious, you should understand the concept of superlinear returns.'\n",
      "Chunk Found (a4a7e), adding to: Superlinear Returns & Societal Impact\n",
      "\n",
      "Adding: 'Understanding the concept of superlinear returns will be the wave that ambitious individuals surf on.'\n",
      "Chunk Found (a4a7e), adding to: Superlinear Returns in Various Domains\n"
     ]
    }
   ],
   "source": [
    "ac.add_propositions(essay_propositions)"
   ]
  },
  {
   "cell_type": "markdown",
   "id": "1481fe66-f73c-4fd2-a51c-3a1131a8e57c",
   "metadata": {},
   "source": [
    "Cool, looks like a few chunks were made. Let's check them out"
   ]
  },
  {
   "cell_type": "code",
   "execution_count": 76,
   "id": "27c79f2a-119e-45f2-8883-0f623a7c211e",
   "metadata": {},
   "outputs": [
    {
     "name": "stdout",
     "output_type": "stream",
     "text": [
      "\n",
      "You have 5 chunks\n",
      "\n",
      "Chunk #0\n",
      "Chunk ID: fc52f\n",
      "Summary: This chunk contains information about specific dates and times related to the current month and year.\n",
      "Propositions:\n",
      "    -The month is October.\n",
      "    -The year is 2023.\n",
      "\n",
      "\n",
      "\n",
      "Chunk #1\n",
      "Chunk ID: a4a7e\n",
      "Summary: This chunk discusses the concept of superlinear returns across different sectors and its implications for understanding economic, social, and personal growth dynamics.\n",
      "Propositions:\n",
      "    -I did not understand the degree to which the returns for performance are superlinear when I was a child.\n",
      "    -The returns for performance are superlinear.\n",
      "    -Understanding the degree to which the returns for performance are superlinear is one of the most important things.\n",
      "    -The returns for performance are superlinear in business.\n",
      "    -Some people think the superlinear returns in business are a flaw of capitalism.\n",
      "    -Some people think that changing the rules would stop the superlinear returns in business from being true.\n",
      "    -Superlinear returns for performance are a feature of the world.\n",
      "    -Superlinear returns for performance are not an artifact of rules that humans have invented.\n",
      "    -The same pattern of superlinear returns is seen in fame.\n",
      "    -The same pattern of superlinear returns is seen in power.\n",
      "    -The same pattern of superlinear returns is seen in military victories.\n",
      "    -The same pattern of superlinear returns is seen in knowledge.\n",
      "    -The same pattern of superlinear returns is seen in benefit to humanity.\n",
      "    -In all of these areas, the rich get richer.\n",
      "    -You cannot understand the world without understanding the concept of superlinear returns.\n",
      "    -If you are ambitious, you should understand the concept of superlinear returns.\n",
      "    -Understanding the concept of superlinear returns will be the wave that ambitious individuals surf on.\n",
      "\n",
      "\n",
      "\n",
      "Chunk #2\n",
      "Chunk ID: 38e4a\n",
      "Summary: This chunk explores the concept of effort and reward correlation and challenges the notion that they are always directly proportional.\n",
      "Propositions:\n",
      "    -Teachers and coaches implicitly told us the returns were linear.\n",
      "    -The phrase 'You get out what you put in' was heard a thousand times.\n",
      "    -The statement that 'You get out what you put in' is rarely true.\n",
      "\n",
      "\n",
      "\n",
      "Chunk #3\n",
      "Chunk ID: 0402d\n",
      "Summary: This chunk contains information about the intentions and attitudes of educators and instructors.\n",
      "Propositions:\n",
      "    -Teachers and coaches meant well.\n",
      "\n",
      "\n",
      "\n",
      "Chunk #4\n",
      "Chunk ID: b0b25\n",
      "Summary: This chunk discusses the consequences of inferior product quality on business success in a competitive market.\n",
      "Propositions:\n",
      "    -If your product is only half as good as your competitor's product, you don't get half as many customers.\n",
      "    -If your product is only half as good as your competitor's product, you get no customers.\n",
      "    -If your product is only half as good as your competitor's product, you go out of business.\n",
      "\n",
      "\n",
      "\n"
     ]
    }
   ],
   "source": [
    "ac.pretty_print_chunks()"
   ]
  },
  {
   "cell_type": "markdown",
   "id": "e4aebf75-53b9-4695-bea9-effa0adf967e",
   "metadata": {},
   "source": [
    "Awesome, then if we wanted to get the chunks properly, then we get extract a list of strings with them. The chunks propositions will be joined in the same string"
   ]
  },
  {
   "cell_type": "code",
   "execution_count": 77,
   "id": "e90e5eb4-676f-4310-8bbf-be87f94d07eb",
   "metadata": {},
   "outputs": [],
   "source": [
    "chunks = ac.get_chunks(get_type='list_of_strings')"
   ]
  },
  {
   "cell_type": "code",
   "execution_count": 78,
   "id": "d08eb17e-10ab-426e-8998-bed29ab76dac",
   "metadata": {},
   "outputs": [
    {
     "data": {
      "text/plain": [
       "['The month is October. The year is 2023.',\n",
       " 'I did not understand the degree to which the returns for performance are superlinear when I was a child. The returns for performance are superlinear. Understanding the degree to which the returns for performance are superlinear is one of the most important things. The returns for performance are superlinear in business. Some people think the superlinear returns in business are a flaw of capitalism. Some people think that changing the rules would stop the superlinear returns in business from being true. Superlinear returns for performance are a feature of the world. Superlinear returns for performance are not an artifact of rules that humans have invented. The same pattern of superlinear returns is seen in fame. The same pattern of superlinear returns is seen in power. The same pattern of superlinear returns is seen in military victories. The same pattern of superlinear returns is seen in knowledge. The same pattern of superlinear returns is seen in benefit to humanity. In all of these areas, the rich get richer. You cannot understand the world without understanding the concept of superlinear returns. If you are ambitious, you should understand the concept of superlinear returns. Understanding the concept of superlinear returns will be the wave that ambitious individuals surf on.',\n",
       " \"Teachers and coaches implicitly told us the returns were linear. The phrase 'You get out what you put in' was heard a thousand times. The statement that 'You get out what you put in' is rarely true.\",\n",
       " 'Teachers and coaches meant well.',\n",
       " \"If your product is only half as good as your competitor's product, you don't get half as many customers. If your product is only half as good as your competitor's product, you get no customers. If your product is only half as good as your competitor's product, you go out of business.\"]"
      ]
     },
     "execution_count": 78,
     "metadata": {},
     "output_type": "execute_result"
    }
   ],
   "source": [
    "chunks"
   ]
  },
  {
   "cell_type": "markdown",
   "id": "e920b345-0294-4b5d-995c-da36bdfaeace",
   "metadata": {},
   "source": [
    "Great, now we can go use that in our evaluations for your retrieval."
   ]
  },
  {
   "cell_type": "markdown",
   "id": "75a8462b-8c10-4550-b42c-453ecdec3647",
   "metadata": {},
   "source": [
    "## Bonus Level: Alternative Representation <a id=\"BonusLevel\"></a>\n",
    "So far I've shown how to chunk up your raw text (okay, I was a bit liberal with level 5).\n",
    "\n",
    "But what if your raw text isn't the best way to represent your data for your task?\n",
    "\n",
    "For example, if you're doing semantic search on chat messages, raw chat messages may lack the context to make a successful embedding. Maybe actually trying to semantic search of a summary of a conversation would do better. Or maybe hypothetical questions that the chat would answer?\n",
    "\n",
    "This is where the world of chunking/splitting starts to dive into the world of [indexing](https://docs.llamaindex.ai/en/stable/understanding/indexing/indexing.html#what-is-an-index). When you index, you're making a choice about how you want to represent your data in your data base or knowledge base.\n",
    "\n",
    "This is more of a retrieval topic, but it's worth talking about with chunking.\n",
    "\n",
    "Let's quickly go through a few popular alternative ways developers like to represent their data. There are unlimited methods to try. We'll review 4 of them\n",
    "\n",
    "* **[Multi-Vector Indexing](https://python.langchain.com/docs/modules/data_connection/retrievers/multi_vector)** - This is when you do semantic search for a vector that is derived from something other than your raw text\n",
    "    * **Summaries** - A summary of your chunk\n",
    "    * **Hypothetical questions** - Good for chat messages used as knowledge base\n",
    "    * **Child Documents** - Parent Document Retriever\n",
    "* **Graph Based Chunking** - Transposing your raw text into a graph structure\n",
    "\n",
    "### Summaries\n",
    "Instead of embedding your raw text, embed a summary of your raw text which will have more dense information"
   ]
  },
  {
   "cell_type": "code",
   "execution_count": 79,
   "id": "fce9678d-187e-4293-b1aa-eda9045035ee",
   "metadata": {},
   "outputs": [],
   "source": [
    "import uuid\n",
    "\n",
    "from langchain.chat_models import ChatOpenAI\n",
    "from langchain.prompts import ChatPromptTemplate\n",
    "from langchain_core.documents import Document\n",
    "from langchain_core.output_parsers import StrOutputParser\n",
    "from langchain.text_splitter import RecursiveCharacterTextSplitter\n",
    "from langchain.retrievers.multi_vector import MultiVectorRetriever\n",
    "from langchain.storage import InMemoryByteStore\n",
    "from langchain.embeddings import OpenAIEmbeddings\n",
    "from langchain.vectorstores import Chroma"
   ]
  },
  {
   "cell_type": "markdown",
   "id": "b445bc40-531b-4a65-b4ee-852377862ce9",
   "metadata": {},
   "source": [
    "Let's use our Super Linear essay again. I'll split it into large chunks"
   ]
  },
  {
   "cell_type": "code",
   "execution_count": 82,
   "id": "ca8c1a25-aaff-4d74-a5fd-f681f7cf478f",
   "metadata": {},
   "outputs": [
    {
     "name": "stdout",
     "output_type": "stream",
     "text": [
      "You have 6 docs\n"
     ]
    }
   ],
   "source": [
    "with open('../../data/PGEssays/superlinear.txt') as file:\n",
    "    essay = file.read()\n",
    "\n",
    "splitter = RecursiveCharacterTextSplitter(chunk_size=4000, chunk_overlap=0)\n",
    "\n",
    "docs = splitter.create_documents([essay])\n",
    "\n",
    "print (f\"You have {len(docs)} docs\")"
   ]
  },
  {
   "cell_type": "markdown",
   "id": "3b418bdb-c03c-4885-8a74-983c5732f6dc",
   "metadata": {},
   "source": [
    "Spin up a chain that will quickly summarize for you"
   ]
  },
  {
   "cell_type": "code",
   "execution_count": 83,
   "id": "460da5b4-cd95-4ea5-ae21-57c2cf99b80f",
   "metadata": {},
   "outputs": [],
   "source": [
    "chain = (\n",
    "    {\"doc\": lambda x: x.page_content}\n",
    "    | ChatPromptTemplate.from_template(\"Summarize the following document:\\n\\n{doc}\")\n",
    "    | ChatOpenAI(max_retries=0)\n",
    "    | StrOutputParser()\n",
    ")"
   ]
  },
  {
   "cell_type": "markdown",
   "id": "df67afe1-694f-47a5-acea-7a788ea5ba07",
   "metadata": {},
   "source": [
    "Then let's get the summaries"
   ]
  },
  {
   "cell_type": "code",
   "execution_count": 84,
   "id": "d6473c02-5728-418d-a201-5216d83599dd",
   "metadata": {},
   "outputs": [],
   "source": [
    "summaries = chain.batch(docs, {\"max_concurrency\": 5})"
   ]
  },
  {
   "cell_type": "markdown",
   "id": "f9282853-9a62-4ffd-a1bf-b0e8853ed864",
   "metadata": {},
   "source": [
    "Let's look at a sample"
   ]
  },
  {
   "cell_type": "code",
   "execution_count": 85,
   "id": "6ecc0c8f-3eb5-4e42-bd6e-2fdec56cc5b1",
   "metadata": {},
   "outputs": [
    {
     "data": {
      "text/plain": [
       "\"The document discusses the concept of superlinear returns for performance, where the rewards for performance are not proportional to the effort put in. It explains that this concept is present in various aspects of life, such as business, fame, power, military victories, and benefit to humanity. The document emphasizes the importance of understanding this concept, especially for ambitious individuals. It also discusses how exponential growth and thresholds are fundamental causes of superlinear returns, using examples such as bacterial cultures and startups. The document also mentions Y Combinator's focus on growth rate as a key factor in achieving exponential growth. Additionally, it explores how humans are not naturally accustomed to exponential growth and discusses historical examples of exponential growth, such as empires.\""
      ]
     },
     "execution_count": 85,
     "metadata": {},
     "output_type": "execute_result"
    }
   ],
   "source": [
    "summaries[0]"
   ]
  },
  {
   "cell_type": "markdown",
   "id": "9aaa4786-1d43-463b-a63d-55e1a9f35af3",
   "metadata": {},
   "source": [
    "Then we are going to create a vectorstore (holds vectors + summaries) and a docstore (holds raw docs)"
   ]
  },
  {
   "cell_type": "code",
   "execution_count": 86,
   "id": "cc76c297-804f-4e5a-9fed-f28b88f57059",
   "metadata": {},
   "outputs": [],
   "source": [
    "# The vectorstore to use to index the child chunks\n",
    "vectorstore = Chroma(collection_name=\"summaries\", embedding_function=OpenAIEmbeddings())\n",
    "\n",
    "# The storage layer for the parent documents\n",
    "store = InMemoryByteStore()\n",
    "\n",
    "id_key = \"doc_id\"\n",
    "\n",
    "# The retriever (empty to start)\n",
    "retriever = MultiVectorRetriever(\n",
    "    vectorstore=vectorstore,\n",
    "    byte_store=store,\n",
    "    id_key=id_key,\n",
    ")\n",
    "doc_ids = [str(uuid.uuid4()) for _ in docs]"
   ]
  },
  {
   "cell_type": "markdown",
   "id": "63f44d2b-6a25-431c-be0b-72fff86e019c",
   "metadata": {},
   "source": [
    "Then you want to create documents out of your summary list, add the doc_id to it's metadata. This will tie it back to the original document so you know which summary goes with which original doc."
   ]
  },
  {
   "cell_type": "code",
   "execution_count": 87,
   "id": "032d5cb8-cfe5-4a89-bb9a-fb2872e41be3",
   "metadata": {},
   "outputs": [],
   "source": [
    "summary_docs = [\n",
    "    Document(page_content=s, metadata={id_key: doc_ids[i]})\n",
    "    for i, s in enumerate(summaries)\n",
    "]"
   ]
  },
  {
   "cell_type": "markdown",
   "id": "02878000-5341-42fc-a1b0-a7e9da3367d7",
   "metadata": {},
   "source": [
    "Then add them both to your vectorestore and docstore. When you add the docs to the vectorstore it will get the embeddings for them too."
   ]
  },
  {
   "cell_type": "code",
   "execution_count": 88,
   "id": "53351f4d-f5db-4aeb-9b79-f4a0a3ba30f6",
   "metadata": {},
   "outputs": [],
   "source": [
    "# Adds the summaries\n",
    "retriever.vectorstore.add_documents(summary_docs)\n",
    "\n",
    "# Adds the raw documents\n",
    "retriever.docstore.mset(list(zip(doc_ids, docs)))"
   ]
  },
  {
   "cell_type": "markdown",
   "id": "e761a8ae-d31c-483b-bdf4-4a625e3e9662",
   "metadata": {},
   "source": [
    "Then if you want you can add the original docs to the vectorstore as well. Just make sure to add the doc id to it as well so you can tie it all together"
   ]
  },
  {
   "cell_type": "code",
   "execution_count": 89,
   "id": "d5c3b781-3166-4d91-ad03-48bc8b246d61",
   "metadata": {},
   "outputs": [],
   "source": [
    "# for i, doc in enumerate(docs):\n",
    "#     doc.metadata[id_key] = doc_ids[i]\n",
    "# retriever.vectorstore.add_documents(docs)"
   ]
  },
  {
   "cell_type": "markdown",
   "id": "b3397531-c8d3-4037-8f64-c51eeb6dc49b",
   "metadata": {},
   "source": [
    "Great, now that we've done all that work, let's try a search. If you run the code below, you'll search on the summary embeddings, but you'll get the raw documents returned."
   ]
  },
  {
   "cell_type": "code",
   "execution_count": 90,
   "id": "b2b9848e-136b-496f-b3ba-f57720a11993",
   "metadata": {},
   "outputs": [],
   "source": [
    "# retriever.get_relevant_documents(query=\"the concept of superlinear returns, which refers to the idea that the returns for performance are not linear\")"
   ]
  },
  {
   "cell_type": "markdown",
   "id": "e7d6ab29-a89a-4259-847d-492ccbaad02f",
   "metadata": {},
   "source": [
    "### Hypothetical Questions\n",
    "You can generate hypothetical questions about your raw documents. Check out [LangChain's](https://python.langchain.com/docs/modules/data_connection/retrievers/multi_vector#hypothetical-queries) implementation of it for more information.\n",
    "\n",
    "This is espeically helpful when you have sparse unstructured data, like chat messages.\n",
    "\n",
    "Say you were to build a bot that uses slack conversations as a knowledge base. Trying to do semantic search on raw chat messages might not have the greatest results. However, if you were to generate hypothetical questions that the slack messages would answer, then when you get a new question in, you'll likely have a better chance matching.\n",
    "\n",
    "The code for this will be the same as the summary code, but instead of asking the LLM to make a summary, you'll ask it for hypothetical questions.\n",
    "\n",
    "### Parent Document Retriever (PDR)\n",
    "Much like the previous two, Parent Document Retriever builds on the concept of doing semantic search on a varied representation of your data.\n",
    "\n",
    "The hypothesis with the PDR is that smaller chunks have a higher likely hood of being matched semantically with a potential query. However, those smaller chunks may not have all the context they need, so instead of passing the smaller chunks to your LLM, get the parent chunk of the smaller chunk. This means you get a larger chunk which the smaller chunk is placed in.\n",
    "\n",
    "Check out LangChain's implementation's implementation of it [here](https://python.langchain.com/docs/modules/data_connection/retrievers/parent_document_retriever).\n",
    "\n",
    "I have a full tutorial on it at [FullStackRetrieval.com](https://fullstackretrieval.com/) if you want to go deeper on that.\n",
    "\n",
    "I want to quickly go over a similar method in [Llama Index](https://www.llamaindex.ai/) with their `HierarchicalNodeParser` which will split a document at various chunk sizes (there will be a bunch of overlaps but that is the purpose). When combined with their `AutoMergingRetriever` you can do complicated retrieval easily. Their walkthrough [here](https://docs.llamaindex.ai/en/stable/examples/retrievers/auto_merging_retriever.html)."
   ]
  },
  {
   "cell_type": "code",
   "execution_count": 91,
   "id": "d078afc3-ecea-4cf1-b430-e27837508e86",
   "metadata": {},
   "outputs": [],
   "source": [
    "from llama_index.node_parser import HierarchicalNodeParser\n",
    "\n",
    "node_parser = HierarchicalNodeParser.from_defaults(\n",
    "    chunk_sizes=[2048, 512, 128],\n",
    "    chunk_overlap=0\n",
    ")"
   ]
  },
  {
   "cell_type": "code",
   "execution_count": 92,
   "id": "11c19a08-6a94-45a4-8d31-1ad91e014030",
   "metadata": {},
   "outputs": [],
   "source": [
    "documents = SimpleDirectoryReader(\n",
    "    input_files=[\"../../data/PGEssays/mit.txt\"]\n",
    ").load_data()"
   ]
  },
  {
   "cell_type": "markdown",
   "id": "26a9ecb0-c264-40cc-938a-3610c1a31835",
   "metadata": {},
   "source": [
    "Then let's do our splitting. There will be a bunch of chunks since we included `128` as a chunk size above"
   ]
  },
  {
   "cell_type": "code",
   "execution_count": 93,
   "id": "9806e1a0-79df-418d-962d-3757081fd273",
   "metadata": {},
   "outputs": [],
   "source": [
    "nodes = node_parser.get_nodes_from_documents(documents)"
   ]
  },
  {
   "cell_type": "code",
   "execution_count": 94,
   "id": "8ad26bbc-1b67-45dc-b44e-d62e36fd3589",
   "metadata": {},
   "outputs": [
    {
     "name": "stdout",
     "output_type": "stream",
     "text": [
      "You have 118 nodes\n"
     ]
    }
   ],
   "source": [
    "print (f\"You have {len(nodes)} nodes\")"
   ]
  },
  {
   "cell_type": "markdown",
   "id": "d703f821-f2e2-4975-a904-893007bb256c",
   "metadata": {},
   "source": [
    "Then let's look at the relationships that are available to one of the small nodes at the end"
   ]
  },
  {
   "cell_type": "code",
   "execution_count": 95,
   "id": "c037ce3e-d480-43e6-be47-0e7415153480",
   "metadata": {},
   "outputs": [
    {
     "data": {
      "text/plain": [
       "{<NodeRelationship.SOURCE: '1'>: RelatedNodeInfo(node_id='e3cee07e-460b-4cc9-95ad-93fc4bba0f58', node_type=<ObjectType.TEXT: '1'>, metadata={'file_path': '../../data/PGEssays/mit.txt', 'file_name': 'mit.txt', 'file_type': 'text/plain', 'file_size': 36045, 'creation_date': '2024-01-22', 'last_modified_date': '2023-12-21', 'last_accessed_date': '2024-03-11'}, hash='6e91b93d9f1ccaca77ad93ca986701dcb3e0605f685a67338cf1cf7350fb9236'),\n",
       " <NodeRelationship.PREVIOUS: '2'>: RelatedNodeInfo(node_id='ffbeb21c-1920-404c-9ffa-2dfa453a4a8f', node_type=<ObjectType.TEXT: '1'>, metadata={'file_path': '../../data/PGEssays/mit.txt', 'file_name': 'mit.txt', 'file_type': 'text/plain', 'file_size': 36045, 'creation_date': '2024-01-22', 'last_modified_date': '2023-12-21', 'last_accessed_date': '2024-03-11'}, hash='4c3163fbaee0bc2de2bbcb5decca5cf81cc839d85f294039af0f9c848acf6c11'),\n",
       " <NodeRelationship.NEXT: '3'>: RelatedNodeInfo(node_id='3462052a-d7d3-491a-9930-511bf6b6583b', node_type=<ObjectType.TEXT: '1'>, metadata={}, hash='2f9985a39495c94fe30b766ece62c378020dfc37a26a99f484b0ee0b97efb46d'),\n",
       " <NodeRelationship.PARENT: '4'>: RelatedNodeInfo(node_id='e3cee07e-460b-4cc9-95ad-93fc4bba0f58', node_type=<ObjectType.TEXT: '1'>, metadata={'file_path': '../../data/PGEssays/mit.txt', 'file_name': 'mit.txt', 'file_type': 'text/plain', 'file_size': 36045, 'creation_date': '2024-01-22', 'last_modified_date': '2023-12-21', 'last_accessed_date': '2024-03-11'}, hash='6e91b93d9f1ccaca77ad93ca986701dcb3e0605f685a67338cf1cf7350fb9236')}"
      ]
     },
     "execution_count": 95,
     "metadata": {},
     "output_type": "execute_result"
    }
   ],
   "source": [
    "nodes[-2].relationships"
   ]
  },
  {
   "cell_type": "markdown",
   "id": "a6fb0ed8-4427-4e8d-a8e9-9d11f3dcef9a",
   "metadata": {},
   "source": [
    "You can see there are source, previous, next, and parent. For [more information on these](https://docs.llamaindex.ai/en/stable/api/llama_index.schema.NodeRelationship.html).\n",
    "\n",
    "### Graph Structure\n",
    "If your data is rich with entities, relationships, and connections, then a graph structure may be best for you.\n",
    "\n",
    "Few options:\n",
    "* [Diffbot](https://www.diffbot.com/)\n",
    "* [InstaGraph](https://github.com/yoheinakajima/instagraph) - By [Yohei](https://twitter.com/yoheinakajima)\n",
    "\n",
    "I'll run through the LangChain supported version of Diffbot due to brevity. You'll need an API key from DB"
   ]
  },
  {
   "cell_type": "code",
   "execution_count": 96,
   "id": "547ee2d2-f852-4f01-bc1b-ec5355f36e4c",
   "metadata": {},
   "outputs": [],
   "source": [
    "# !pip3 install langchain langchain-experimental openai neo4j wikipedia\n",
    "\n",
    "from langchain_experimental.graph_transformers.diffbot import DiffbotGraphTransformer\n",
    "\n",
    "diffbot_nlp = DiffbotGraphTransformer(diffbot_api_key=os.getenv(\"DIFFBOT_API_KEY\", 'YourKey'))"
   ]
  },
  {
   "cell_type": "code",
   "execution_count": 97,
   "id": "e63a7ffb-acdc-4fd3-b4ba-9ce4eb09bcfa",
   "metadata": {},
   "outputs": [],
   "source": [
    "text = \"\"\"\n",
    "Greg is friends with Bobby. San Francisco is a great city, but New York is amazing.\n",
    "Greg lives in New York. \n",
    "\"\"\"\n",
    "docs = [Document(page_content=text)]"
   ]
  },
  {
   "cell_type": "code",
   "execution_count": 98,
   "id": "41436339-39c6-4cf7-aba6-0a2dcafec00b",
   "metadata": {
    "scrolled": true
   },
   "outputs": [],
   "source": [
    "graph_documents = diffbot_nlp.convert_to_graph_documents(docs)"
   ]
  },
  {
   "cell_type": "code",
   "execution_count": 99,
   "id": "250215f0-2ba9-49e4-8aef-1751ccc1b1bf",
   "metadata": {},
   "outputs": [
    {
     "data": {
      "text/plain": [
       "[GraphDocument(nodes=[Node(id='Greg', type='Person', properties={'name': 'Greg'}), Node(id='http://www.wikidata.org/entity/Q60', type='Location', properties={'name': 'New York City'}), Node(id='Bobby', type='Person', properties={'name': 'Bobby'})], relationships=[Relationship(source=Node(id='Greg', type='Person'), target=Node(id='http://www.wikidata.org/entity/Q60', type='Location'), type='PERSON_LOCATION', properties={'evidence': 'Greg lives in New York.', 'isCurrent': 'true'}), Relationship(source=Node(id='Greg', type='Person'), target=Node(id='http://www.wikidata.org/entity/Q60', type='Location'), type='PERSON_LOCATION', properties={'evidence': 'Greg lives in New York.', 'isCurrent': 'true'}), Relationship(source=Node(id='Greg', type='Person'), target=Node(id='Bobby', type='Person'), type='SOCIAL_RELATIONSHIP', properties={'evidence': 'Greg is friends with Bobby.'})], source=Document(page_content='\\nGreg is friends with Bobby. San Francisco is a great city, but New York is amazing.\\nGreg lives in New York. \\n'))]"
      ]
     },
     "execution_count": 99,
     "metadata": {},
     "output_type": "execute_result"
    }
   ],
   "source": [
    "graph_documents"
   ]
  },
  {
   "cell_type": "markdown",
   "id": "949e24e2-1d32-4ff3-a16e-ada98e46d6be",
   "metadata": {},
   "source": [
    "## Wrap up\n",
    "\n",
    "Congratulations on making it to the end of this video. The aim was to educate you on the chunking theory, give a nod to retrieval, and encourage you to try out these methods on your data.\n",
    "\n",
    "I always like hearing what you think about the code, video or how you use this in your role. Let me know on [twitter](https://twitter.com/GregKamradt) or email (contact@dataindependent.com)"
   ]
  },
  {
   "cell_type": "markdown",
   "id": "19567c26",
   "metadata": {},
   "source": []
  }
 ],
 "metadata": {
  "kernelspec": {
   "display_name": "Python 3 (ipykernel)",
   "language": "python",
   "name": "python3"
  },
  "language_info": {
   "codemirror_mode": {
    "name": "ipython",
    "version": 3
   },
   "file_extension": ".py",
   "mimetype": "text/x-python",
   "name": "python",
   "nbconvert_exporter": "python",
   "pygments_lexer": "ipython3",
   "version": "3.12.4"
  }
 },
 "nbformat": 4,
 "nbformat_minor": 5
}
